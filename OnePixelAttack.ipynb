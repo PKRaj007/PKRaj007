{
  "cells": [
    {
      "cell_type": "markdown",
      "metadata": {
        "id": "view-in-github",
        "colab_type": "text"
      },
      "source": [
        "<a href=\"https://colab.research.google.com/github/PKRaj007/PKRaj007/blob/main/OnePixelAttack.ipynb\" target=\"_parent\"><img src=\"https://colab.research.google.com/assets/colab-badge.svg\" alt=\"Open In Colab\"/></a>"
      ]
    },
    {
      "cell_type": "code",
      "execution_count": null,
      "metadata": {
        "colab": {
          "base_uri": "https://localhost:8080/"
        },
        "id": "IlCro6HkZsa_",
        "outputId": "faabaa02-4086-4280-d001-eeedd7162638"
      },
      "outputs": [
        {
          "output_type": "stream",
          "name": "stdout",
          "text": [
            "Mounted at /content/drive\n"
          ]
        }
      ],
      "source": [
        "from google.colab import drive\n",
        "drive.mount('/content/drive')"
      ]
    },
    {
      "cell_type": "code",
      "execution_count": null,
      "metadata": {
        "id": "l38a00r8Z6E1"
      },
      "outputs": [],
      "source": [
        "import numpy as np\n",
        "import pandas as pd\n",
        "import matplotlib\n",
        "from keras.datasets import cifar10\n",
        "from keras import backend as K\n",
        "import matplotlib.pyplot as plt\n",
        "\n"
      ]
    },
    {
      "cell_type": "code",
      "execution_count": null,
      "metadata": {
        "colab": {
          "base_uri": "https://localhost:8080/"
        },
        "id": "ak_IMgQe1CCH",
        "outputId": "a5b8d90a-302e-4adb-fdd5-0db8d09a82f3"
      },
      "outputs": [
        {
          "output_type": "stream",
          "name": "stdout",
          "text": [
            "Downloading data from https://www.cs.toronto.edu/~kriz/cifar-10-python.tar.gz\n",
            "170500096/170498071 [==============================] - 13s 0us/step\n",
            "170508288/170498071 [==============================] - 13s 0us/step\n"
          ]
        }
      ],
      "source": [
        "(x_train, y_train), (x_test, y_test) = cifar10.load_data()"
      ]
    },
    {
      "cell_type": "code",
      "source": [
        "x_train.shape"
      ],
      "metadata": {
        "colab": {
          "base_uri": "https://localhost:8080/"
        },
        "id": "VsDZ-pPFIERY",
        "outputId": "62ee103d-3363-4d15-bc6d-b1a989246726"
      },
      "execution_count": null,
      "outputs": [
        {
          "output_type": "execute_result",
          "data": {
            "text/plain": [
              "(50000, 32, 32, 3)"
            ]
          },
          "metadata": {},
          "execution_count": 5
        }
      ]
    },
    {
      "cell_type": "code",
      "source": [
        "#x_train[0]\n",
        "plt.figure(figsize=(15,2))\n",
        "plt.imshow(x_train[0])"
      ],
      "metadata": {
        "colab": {
          "base_uri": "https://localhost:8080/",
          "height": 176
        },
        "id": "BpSrfXUqJXEP",
        "outputId": "b32a6785-598f-45ce-e3e0-9bce95c836f8"
      },
      "execution_count": null,
      "outputs": [
        {
          "output_type": "execute_result",
          "data": {
            "text/plain": [
              "<matplotlib.image.AxesImage at 0x7fc15fa1ba50>"
            ]
          },
          "metadata": {},
          "execution_count": 11
        },
        {
          "output_type": "display_data",
          "data": {
            "text/plain": [
              "<Figure size 1080x144 with 1 Axes>"
            ],
            "image/png": "[encoded data removed]"
          },
          "metadata": {
            "needs_background": "light"
          }
        }
      ]
    },
    {
      "cell_type": "code",
      "source": [
        "# 50000 samples and one dimentional array difing class\n",
        "y_train.shape"
      ],
      "metadata": {
        "colab": {
          "base_uri": "https://localhost:8080/"
        },
        "id": "ZQGwKL1aIw-c",
        "outputId": "bdf1550c-3b07-47a1-cc69-f82922da63d1"
      },
      "execution_count": null,
      "outputs": [
        {
          "output_type": "execute_result",
          "data": {
            "text/plain": [
              "(50000, 1)"
            ]
          },
          "metadata": {},
          "execution_count": 8
        }
      ]
    },
    {
      "cell_type": "code",
      "source": [
        "y_train[:5] #first class 6 means-frog level(categories)"
      ],
      "metadata": {
        "colab": {
          "base_uri": "https://localhost:8080/"
        },
        "id": "xOczmuTwKrsB",
        "outputId": "2fbefb82-9f1c-420f-a0ee-0926e88fd9ed"
      },
      "execution_count": null,
      "outputs": [
        {
          "output_type": "execute_result",
          "data": {
            "text/plain": [
              "array([[6],\n",
              "       [9],\n",
              "       [9],\n",
              "       [4],\n",
              "       [1]], dtype=uint8)"
            ]
          },
          "metadata": {},
          "execution_count": 12
        }
      ]
    },
    {
      "cell_type": "markdown",
      "source": [
        "**Convert this 2d array into 1d array**"
      ],
      "metadata": {
        "id": "hyvXbMG_LepP"
      }
    },
    {
      "cell_type": "code",
      "source": [
        "y_train=y_train.reshape(-1,) # we don't change 1st dimention 50000 so left it as -1 \n",
        "#and instead of [6] we for convert it in 1d array left it blank.\n",
        "y_train[:5]"
      ],
      "metadata": {
        "colab": {
          "base_uri": "https://localhost:8080/"
        },
        "id": "ndEl-ZyLLmNf",
        "outputId": "1f2fe8ba-63a8-40e3-db12-6814e8396284"
      },
      "execution_count": null,
      "outputs": [
        {
          "output_type": "execute_result",
          "data": {
            "text/plain": [
              "array([6, 9, 9, 4, 1], dtype=uint8)"
            ]
          },
          "metadata": {},
          "execution_count": 13
        }
      ]
    },
    {
      "cell_type": "code",
      "source": [
        "x_test.shape"
      ],
      "metadata": {
        "colab": {
          "base_uri": "https://localhost:8080/"
        },
        "id": "YRpgoyXwH7ve",
        "outputId": "673ca34d-d5cf-43c6-c4cd-954d801a19e9"
      },
      "execution_count": null,
      "outputs": [
        {
          "output_type": "execute_result",
          "data": {
            "text/plain": [
              "(10000, 32, 32, 3)"
            ]
          },
          "metadata": {},
          "execution_count": 7
        }
      ]
    },
    {
      "cell_type": "code",
      "execution_count": null,
      "metadata": {
        "id": "pvw2DZ9zaT1g"
      },
      "outputs": [],
      "source": [
        "class_names = ['airplane', 'automobile', 'bird', 'cat', 'deer', 'dog', 'frog', 'horse', 'ship', 'truck']"
      ]
    },
    {
      "cell_type": "code",
      "source": [
        "class_names[7]"
      ],
      "metadata": {
        "colab": {
          "base_uri": "https://localhost:8080/",
          "height": 35
        },
        "id": "hOexSzr0NADP",
        "outputId": "885ff88f-0a04-4c5f-bc61-154fde9de638"
      },
      "execution_count": null,
      "outputs": [
        {
          "output_type": "execute_result",
          "data": {
            "text/plain": [
              "'horse'"
            ],
            "application/vnd.google.colaboratory.intrinsic+json": {
              "type": "string"
            }
          },
          "metadata": {},
          "execution_count": 18
        }
      ]
    },
    {
      "cell_type": "code",
      "execution_count": null,
      "metadata": {
        "colab": {
          "base_uri": "https://localhost:8080/",
          "height": 413
        },
        "id": "mH8N9YEFad7U",
        "outputId": "0bd5b7db-ad54-4ef2-cb63-c37109424a82"
      },
      "outputs": [
        {
          "output_type": "display_data",
          "data": {
            "text/plain": [
              "<Figure size 640x480 with 1 Axes>"
            ],
            "image/png": "[encoded data removed]"
          },
          "metadata": {
            "needs_background": "light"
          }
        }
      ],
      "source": [
        "image_id = 99 # Image index in the test set\n",
        "plt.figure(num=None, figsize=(8, 6), dpi=80)\n",
        "plt.imshow(x_test[image_id]);"
      ]
    },
    {
      "cell_type": "code",
      "execution_count": null,
      "metadata": {
        "id": "fm8ELiBifTU_"
      },
      "outputs": [],
      "source": [
        "import helper"
      ]
    },
    {
      "cell_type": "code",
      "execution_count": null,
      "metadata": {
        "id": "WSgFYVM2FGe-"
      },
      "outputs": [],
      "source": [
        "help(helper)"
      ]
    },
    {
      "cell_type": "markdown",
      "metadata": {
        "id": "3OEJeMwCbeWR"
      },
      "source": [
        "Perturbing Image"
      ]
    },
    {
      "cell_type": "code",
      "execution_count": null,
      "metadata": {
        "id": "0yh6LCZcbdvD"
      },
      "outputs": [],
      "source": [
        "def perturb_image(xs, img):\n",
        "  #xs perturbations [x,y,r,g,b]\n",
        "    # If this function is passed just one perturbation vector (one pixel perturbation),\n",
        "    # pack it in a list to keep the computation the same\n",
        "    if xs.ndim < 2:\n",
        "        xs = np.array([xs])\n",
        "    print(xs)\n",
        "    # Repet this on image n == len(xs) times so that we can \n",
        "    # create n new perturbed images\n",
        "    tile = [len(xs)] + [1]*(xs.ndim+1)\n",
        "    \n",
        "    imgs = np.tile(img, tile)\n",
        "    \n",
        "    # Make sure to floor the members of xs as int types\n",
        "    xs = xs.astype(int)\n",
        "    \n",
        "    for x,img in zip(xs, imgs):\n",
        "        # Split x ( single pixel) into an array of 5-tuples (perturbation pixels)\n",
        "        # i.e., [[x,y,r,g,b], ...]\n",
        "        pixels = np.split(x, len(x) // 5)\n",
        "        #split seprate array into its single elements (seperator,maxsplit);\n",
        "        for pixel in pixels:\n",
        "            # At each pixel's x,y position, assign its rgb value\n",
        "            x_pos, y_pos, *rgb = pixel\n",
        "            img[x_pos, y_pos] = rgb\n",
        "    \n",
        "    return imgs"
      ]
    },
    {
      "cell_type": "markdown",
      "metadata": {
        "id": "Nqyqf6Kvbrqc"
      },
      "source": [
        "**Design Model** \n",
        "- All Conv"
      ]
    },
    {
      "cell_type": "code",
      "execution_count": null,
      "metadata": {
        "id": "P5L7OmPicFQu"
      },
      "outputs": [],
      "source": [
        "import cv2\n",
        "import numpy as np\n",
        "import os\n",
        "from keras.preprocessing.image import ImageDataGenerator\n",
        "from keras.layers import Dense,Flatten,Conv2D,Activation,Dropout\n",
        "from keras import backend as K\n",
        "\n",
        "import keras\n",
        "from keras.models import Sequential, Model\n",
        "from keras.models import load_model\n",
        "from tensorflow.keras.optimizers import SGD\n",
        "from keras.callbacks import EarlyStopping,ModelCheckpoint\n",
        "from keras.layers import MaxPool2D\n",
        "from keras.layers.pooling import AvgPool2D\n",
        "from google.colab.patches import cv2_imshow\n",
        "from keras.layers import *\n",
        "from keras import Input"
      ]
    },
    {
      "cell_type": "code",
      "execution_count": null,
      "metadata": {
        "colab": {
          "base_uri": "https://localhost:8080/"
        },
        "id": "uvmJAE_-btMd",
        "outputId": "9a8f01b4-0749-447f-a3ba-cd3eaa2d280d"
      },
      "outputs": [
        {
          "output_type": "stream",
          "name": "stdout",
          "text": [
            "Model: \"model\"\n",
            "_________________________________________________________________\n",
            " Layer (type)                Output Shape              Param #   \n",
            "=================================================================\n",
            " input_2 (InputLayer)        [(None, 32, 32, 3)]       0         \n",
            "                                                                 \n",
            " conv2d (Conv2D)             (None, 32, 32, 96)        2688      \n",
            "                                                                 \n",
            " conv2d_1 (Conv2D)           (None, 32, 32, 96)        83040     \n",
            "                                                                 \n",
            " conv2d_2 (Conv2D)           (None, 16, 16, 96)        83040     \n",
            "                                                                 \n",
            " conv2d_3 (Conv2D)           (None, 16, 16, 192)       166080    \n",
            "                                                                 \n",
            " conv2d_4 (Conv2D)           (None, 16, 16, 192)       331968    \n",
            "                                                                 \n",
            " dropout (Dropout)           (None, 16, 16, 192)       0         \n",
            "                                                                 \n",
            " conv2d_5 (Conv2D)           (None, 8, 8, 192)         331968    \n",
            "                                                                 \n",
            " conv2d_6 (Conv2D)           (None, 4, 4, 192)         331968    \n",
            "                                                                 \n",
            " conv2d_7 (Conv2D)           (None, 4, 4, 192)         37056     \n",
            "                                                                 \n",
            " conv2d_8 (Conv2D)           (None, 4, 4, 10)          1930      \n",
            "                                                                 \n",
            " average_pooling2d (AverageP  (None, 1, 1, 10)         0         \n",
            " ooling2D)                                                       \n",
            "                                                                 \n",
            " flatten (Flatten)           (None, 10)                0         \n",
            "                                                                 \n",
            " dense (Dense)               (None, 10)                110       \n",
            "                                                                 \n",
            "=================================================================\n",
            "Total params: 1,369,848\n",
            "Trainable params: 1,369,848\n",
            "Non-trainable params: 0\n",
            "_________________________________________________________________\n"
          ]
        }
      ],
      "source": [
        "def allConvModel(input, num_classes):\n",
        "  input = Input(shape = (32,32,3))\n",
        "  #changing filters from 64 -> 16\n",
        "  layer_1 = Conv2D(filters=96, kernel_size=(3,3), padding=\"same\", activation=\"relu\")(input)\n",
        "  layer_2 = Conv2D(filters=96, kernel_size=(3,3), padding=\"same\", activation=\"relu\")(layer_1)\n",
        "  layer_3 = Conv2D(filters=96, kernel_size=(3,3), padding=\"same\", strides=2, activation=\"relu\")(layer_2)\n",
        "  layer_4 = Conv2D(filters=192, kernel_size=(3,3), padding=\"same\", activation=\"relu\")(layer_3)\n",
        "  layer_5 = Conv2D(filters=192, kernel_size=(3,3), padding=\"same\", activation=\"relu\")(layer_4)\n",
        "\n",
        "  dropout_layer = Dropout(rate=0.3, seed=None)(layer_5)\n",
        "\n",
        "  layer_6 = Conv2D(filters=192, kernel_size=(3,3), strides=2, padding=\"same\", activation=\"relu\")(dropout_layer)\n",
        "  layer_7 = Conv2D(filters=192, kernel_size=(3,3), strides=2, padding=\"same\", activation=\"relu\")(layer_6)\n",
        "  layer_8 = Conv2D(filters=192, kernel_size=(1,1), padding=\"same\", activation=\"relu\")(layer_7)\n",
        "  layer_9 = Conv2D(filters=10, kernel_size=(1,1), padding=\"same\", activation=\"relu\")(layer_8)\n",
        "\n",
        "  avg_pooling_layer = AveragePooling2D(pool_size=(4,4))(layer_9)\n",
        "  flatten_layer = Flatten()(avg_pooling_layer)\n",
        "  # flatten_layer = Dense(num_classes, activation = 'sigmoid')(avg_pooling_layer)\n",
        "  activation_layer = Dense(num_classes, activation = 'sigmoid')(flatten_layer)\n",
        "  \n",
        "  allConvModel = Model(inputs=input,outputs=activation_layer)\n",
        "  return allConvModel\n",
        "\n",
        "input = Input(shape = (32,32,3))\n",
        "allConv = allConvModel(input, 10)\n",
        "allConv.summary()"
      ]
    },
    {
      "cell_type": "markdown",
      "metadata": {
        "id": "-GId4K2vh6V-"
      },
      "source": [
        "**Train Model**"
      ]
    },
    {
      "cell_type": "code",
      "execution_count": null,
      "metadata": {
        "id": "cF-vdQqGiCxw"
      },
      "outputs": [],
      "source": [
        "from tensorflow.keras.optimizers import SGD\n",
        "import tensorflow.keras.metrics as tfm"
      ]
    },
    {
      "cell_type": "code",
      "execution_count": null,
      "metadata": {
        "id": "HxM4dOROfLbi"
      },
      "outputs": [],
      "source": [
        "# opt = SGD(learning_rate=0.001)\n",
        "#allConv.compile(optimizer='adam',loss = 'categorical_crossentropy', metrics=['accuracy'])"
      ]
    },
    {
      "cell_type": "code",
      "execution_count": null,
      "metadata": {
        "id": "KB6XtMMHRdaW"
      },
      "outputs": [],
      "source": [
        "allConv.compile(optimizer='adam',loss = tf.keras.losses.SparseCategoricalCrossentropy(from_logits=True), metrics=['accuracy'])"
      ]
    },
    {
      "cell_type": "code",
      "execution_count": null,
      "metadata": {
        "id": "nOeGiyWhnLli"
      },
      "outputs": [],
      "source": [
        "# categorical_crossentropy use in case of one hot encode target values\n",
        "# from tensorflow.keras.utils import to_categorical\n",
        "# y_train = to_categorical(y_train)\n",
        "# y_test = to_categorical(y_test)"
      ]
    },
    {
      "cell_type": "code",
      "execution_count": null,
      "metadata": {
        "colab": {
          "base_uri": "https://localhost:8080/"
        },
        "id": "11AIUPcijHjK",
        "outputId": "321075e2-a817-47ef-a281-a733065a4493"
      },
      "outputs": [
        {
          "output_type": "stream",
          "name": "stdout",
          "text": [
            "Epoch 1/5\n",
            "782/782 [==============================] - 20s 25ms/step - loss: 2.3027 - accuracy: 0.0976\n",
            "Epoch 2/5\n",
            "782/782 [==============================] - 20s 25ms/step - loss: 2.3027 - accuracy: 0.0976\n",
            "Epoch 3/5\n",
            "782/782 [==============================] - 20s 25ms/step - loss: 2.3027 - accuracy: 0.0959\n",
            "Epoch 4/5\n",
            "782/782 [==============================] - 20s 26ms/step - loss: 2.3027 - accuracy: 0.0989\n",
            "Epoch 5/5\n",
            "782/782 [==============================] - 20s 26ms/step - loss: 2.3027 - accuracy: 0.0987\n"
          ]
        }
      ],
      "source": [
        "allConv_results = allConv.fit(x_train, y_train, epochs=30, batch_size=64, verbose=1)"
      ]
    },
    {
      "cell_type": "code",
      "source": [
        "#history = allConv.fit(x_train, y_train, epochs=5, batch_size=64, verbose=1)"
      ],
      "metadata": {
        "id": "Fl432NkrWkJJ"
      },
      "execution_count": null,
      "outputs": []
    },
    {
      "cell_type": "code",
      "source": [
        "#loss_train = history.history['loss']\n",
        "#loss_val =history.history['loss']\n",
        "#epochs = range(1,5)\n",
        "#plt.plot(epochs, loss_train, 'g', label='loss')\n",
        "#plt.plot(epochs, loss_val, 'b', label='loss')\n",
        "#plt.title('Training and Validation loss')\n",
        "#plt.xlabel('Epochs')\n",
        "#plt.ylabel('Loss')\n",
        "#plt.legend()\n",
        "#plt.show()"
      ],
      "metadata": {
        "id": "EbI8UIC6VInX"
      },
      "execution_count": null,
      "outputs": []
    },
    {
      "cell_type": "code",
      "execution_count": null,
      "metadata": {
        "colab": {
          "base_uri": "https://localhost:8080/"
        },
        "id": "kzhcRHEIm8qX",
        "outputId": "9b9abcc2-f348-41f8-91f3-affcf6cc464f"
      },
      "outputs": [
        {
          "output_type": "stream",
          "name": "stderr",
          "text": [
            "/usr/local/lib/python3.7/dist-packages/tensorflow/python/util/dispatch.py:1082: UserWarning: \"`sparse_categorical_crossentropy` received `from_logits=True`, but the `output` argument was produced by a sigmoid or softmax activation and thus does not represent logits. Was this intended?\"\n",
            "  return dispatch_target(*args, **kwargs)\n"
          ]
        },
        {
          "output_type": "stream",
          "name": "stdout",
          "text": [
            "0.10000000149011612\n"
          ]
        }
      ],
      "source": [
        "_, acc = allConv.evaluate(x_test, y_test, verbose=0)\n",
        "print(acc)"
      ]
    },
    {
      "cell_type": "code",
      "execution_count": null,
      "metadata": {
        "colab": {
          "base_uri": "https://localhost:8080/"
        },
        "id": "BUsalJM1RQmp",
        "outputId": "01ba9821-c576-4281-b48f-43c54605d61b"
      },
      "outputs": [
        {
          "output_type": "stream",
          "name": "stdout",
          "text": [
            "(50000, 32, 32, 3) (10000, 1) (10000, 32, 32, 3) (50000,)\n"
          ]
        }
      ],
      "source": [
        "print(x_train.shape, y_test.shape, x_test.shape, y_train.shape)"
      ]
    },
    {
      "cell_type": "code",
      "execution_count": null,
      "metadata": {
        "colab": {
          "base_uri": "https://localhost:8080/"
        },
        "id": "UmdXZkwMQ9vh",
        "outputId": "5b470a03-b323-4ee3-d5a9-da7373d345fa"
      },
      "outputs": [
        {
          "output_type": "execute_result",
          "data": {
            "text/plain": [
              "array([[0.500207  , 0.4964611 , 0.50207746, ..., 0.5008513 , 0.4988632 ,\n",
              "        0.5016205 ],\n",
              "       [0.500207  , 0.4964611 , 0.50207746, ..., 0.5008513 , 0.4988632 ,\n",
              "        0.5016205 ],\n",
              "       [0.500207  , 0.4964611 , 0.50207746, ..., 0.5008513 , 0.4988632 ,\n",
              "        0.5016205 ],\n",
              "       ...,\n",
              "       [0.500207  , 0.4964611 , 0.50207746, ..., 0.5008513 , 0.4988632 ,\n",
              "        0.5016205 ],\n",
              "       [0.500207  , 0.4964611 , 0.50207746, ..., 0.5008513 , 0.4988632 ,\n",
              "        0.5016205 ],\n",
              "       [0.500207  , 0.4964611 , 0.50207746, ..., 0.5008513 , 0.4988632 ,\n",
              "        0.5016205 ]], dtype=float32)"
            ]
          },
          "metadata": {},
          "execution_count": 61
        }
      ],
      "source": [
        "allConv.predict(x_test)\n",
        "#y_pred=allConv.predict(x_test)"
      ]
    },
    {
      "cell_type": "code",
      "source": [
        "y_class_names = [np.argmax(element) for element in y_pred]\n",
        "y_class_names[:5]"
      ],
      "metadata": {
        "colab": {
          "base_uri": "https://localhost:8080/"
        },
        "id": "mQzadcdWY2Kn",
        "outputId": "fbee8231-8f90-494f-b49e-98657fa31409"
      },
      "execution_count": null,
      "outputs": [
        {
          "output_type": "execute_result",
          "data": {
            "text/plain": [
              "[3, 3, 3, 3, 3]"
            ]
          },
          "metadata": {},
          "execution_count": 59
        }
      ]
    },
    {
      "cell_type": "code",
      "source": [
        "y_test[:5]"
      ],
      "metadata": {
        "colab": {
          "base_uri": "https://localhost:8080/"
        },
        "id": "q-fZSaeOZ1o-",
        "outputId": "d4f13f3e-132a-46ee-d9cd-0d58fc2dc439"
      },
      "execution_count": null,
      "outputs": [
        {
          "output_type": "execute_result",
          "data": {
            "text/plain": [
              "array([[3],\n",
              "       [8],\n",
              "       [8],\n",
              "       [0],\n",
              "       [6]], dtype=uint8)"
            ]
          },
          "metadata": {},
          "execution_count": 60
        }
      ]
    },
    {
      "cell_type": "code",
      "source": [
        "class_names[y_class_names[6]]"
      ],
      "metadata": {
        "colab": {
          "base_uri": "https://localhost:8080/",
          "height": 35
        },
        "id": "P_p31-jXavBq",
        "outputId": "1f762c41-1677-442b-d846-ab6d519a5671"
      },
      "execution_count": null,
      "outputs": [
        {
          "output_type": "execute_result",
          "data": {
            "text/plain": [
              "'cat'"
            ],
            "application/vnd.google.colaboratory.intrinsic+json": {
              "type": "string"
            }
          },
          "metadata": {},
          "execution_count": 62
        }
      ]
    },
    {
      "cell_type": "markdown",
      "metadata": {
        "id": "_XO221bv4S7R"
      },
      "source": [
        "1 Pixel Attack"
      ]
    },
    {
      "cell_type": "code",
      "execution_count": null,
      "metadata": {
        "colab": {
          "base_uri": "https://localhost:8080/"
        },
        "id": "DDDISDYIdBxf",
        "outputId": "c08e96ec-eafd-4fda-8b81-cb6be6defc28"
      },
      "outputs": [
        {
          "name": "stdout",
          "output_type": "stream",
          "text": [
            "Looking in indexes: https://pypi.org/simple, https://us-python.pkg.dev/colab-wheels/public/simple/\n",
            "Collecting tensorboardX\n",
            "  Downloading tensorboardX-2.5.1-py2.py3-none-any.whl (125 kB)\n",
            "\u001b[K     |████████████████████████████████| 125 kB 8.1 MB/s \n",
            "\u001b[?25hRequirement already satisfied: numpy in /usr/local/lib/python3.7/dist-packages (from tensorboardX) (1.21.6)\n",
            "Requirement already satisfied: protobuf<=3.20.1,>=3.8.0 in /usr/local/lib/python3.7/dist-packages (from tensorboardX) (3.17.3)\n",
            "Requirement already satisfied: six>=1.9 in /usr/local/lib/python3.7/dist-packages (from protobuf<=3.20.1,>=3.8.0->tensorboardX) (1.15.0)\n",
            "Installing collected packages: tensorboardX\n",
            "Successfully installed tensorboardX-2.5.1\n"
          ]
        }
      ],
      "source": [
        "!pip install tensorboardX"
      ]
    },
    {
      "cell_type": "code",
      "execution_count": null,
      "metadata": {
        "id": "dSREHHZZawLX"
      },
      "outputs": [],
      "source": [
        "%matplotlib inline\n",
        "import matplotlib.pyplot as plt\n",
        "import numpy as np\n",
        "import seaborn as sns\n",
        "import torch\n",
        "import torch.nn as nn\n",
        "import torch.nn.functional as F\n",
        "import torch.optim as optim\n",
        "\n",
        "from pathlib import Path\n",
        "from tensorboardX import SummaryWriter\n",
        "from torchvision import datasets, transforms, models\n",
        "from tqdm import tqdm\n",
        "\n",
        "writer = SummaryWriter()\n",
        "sns.set()\n",
        "sns.set_style(\"dark\")\n",
        "sns.set_palette(\"muted\")\n",
        "sns.set_color_codes(\"muted\")"
      ]
    },
    {
      "cell_type": "code",
      "execution_count": null,
      "metadata": {
        "id": "XmWy4-qoTZa6"
      },
      "outputs": [],
      "source": [
        "from numpy.random import rand\n",
        "from numpy.random import choice\n",
        "from numpy import asarray\n",
        "from numpy import clip\n",
        "from numpy import argmin\n",
        "from numpy import min\n",
        "from numpy import around\n",
        "from matplotlib import pyplot\n",
        "import pytest\n",
        "import math\n",
        "\n",
        "# define objective function\n",
        "def obj(x):\n",
        "    return x[0]**2.0 + x[1]**2.0\n",
        "\n",
        "\n",
        "# define mutation operation\n",
        "def mutation(x, F):\n",
        "    return x[0] + F * (x[1] - x[2])\n",
        "\n",
        "\n",
        "# define boundary check operation\n",
        "def check_bounds(mutated, bounds):\n",
        "    mutated_bound = [clip(mutated[i], bounds[i, 0], bounds[i, 1]) for i in range(len(bounds))]\n",
        "    return mutated_bound\n",
        "\n",
        "\n",
        "# define crossover operation\n",
        "def crossover(mutated, target, dims, cr):\n",
        "    # generate a uniform random value for every dimension\n",
        "    p = rand(dims)\n",
        "    # generate trial vector by binomial crossover\n",
        "    trial = [mutated[i] if p[i] < cr else target[i] for i in range(dims)]\n",
        "    return trial\n",
        "\n",
        "\n",
        "def differential_evolution(predict_fn, bounds, maxiter, popsize,\n",
        "        recombination=1, atol=-1):\n",
        "    # initialise population of candidate solutions randomly within the specified bounds\n",
        "    pop = bounds[:, 0] + (rand(popsize, len(bounds)) * (bounds[:, 1] - bounds[:, 0]))\n",
        "    print('Pop = ',pop)\n",
        "    # evaluate initial population of candidate solutions\n",
        "    obj_all = [obj(ind) for ind in pop]\n",
        "    print(obj_all)\n",
        "    # find the best performing vector of initial population\n",
        "    best_vector = pop[argmin(obj_all)]\n",
        "    best_obj = min(obj_all)\n",
        "    prev_obj = best_obj\n",
        "    # initialise list to store the objective function value at each iteration\n",
        "    obj_iter = list()\n",
        "    # run iterations of the algorithm\n",
        "    for i in range(iter):\n",
        "        # iterate over all candidate solutions\n",
        "        for j in range(popsize):\n",
        "            # choose three candidates, a, b and c, that are not the current one\n",
        "            candidates = [candidate for candidate in range(popsize) if candidate != j]\n",
        "            a, b, c = pop[choice(candidates, 3, replace=False)]\n",
        "            # perform mutation\n",
        "            mutated = mutation([a, b, c], F)\n",
        "            # check that lower and upper bounds are retained after mutation\n",
        "            trial = check_bounds(mutated, bounds)\n",
        "            # perform crossover\n",
        "            # trial = crossover(trial, pop[j], len(bounds), cr)\n",
        "            # compute objective function value for target vector\n",
        "            obj_target = obj(pop[j])\n",
        "            # compute objective function value for trial vector\n",
        "            obj_trial = obj(trial)\n",
        "            # perform selection\n",
        "            # print('Prior : ',pop[j])\n",
        "            if obj_trial < obj_target:\n",
        "                # replace the target vector with the trial vector\n",
        "                pop[j] = trial\n",
        "                # store the new objective function value\n",
        "                obj_all[j] = obj_trial\n",
        "            # print('After : ',pop[j])\n",
        "        # find the best performing vector at each iteration\n",
        "        best_obj = min(obj_all)\n",
        "        # store the lowest objective function value\n",
        "        if best_obj < prev_obj:\n",
        "            best_vector = pop[argmin(obj_all)]\n",
        "            prev_obj = best_obj\n",
        "            obj_iter.append(best_obj)\n",
        "            # report progress at each iteration\n",
        "            print('Iteration: %d f([%s]) = %.5f' % (i, around(best_vector, decimals=5), best_obj))\n",
        "        \n",
        "        # if(math.isclose(0.00000,best_obj, abs_tol = 10**-5)):\n",
        "        #   break\n",
        "        \n",
        "        #if best_obj == pytest.approx(0.00000):\n",
        "        # print('iter = ',i)\n",
        "        # break\n",
        "    return [best_vector, best_obj, obj_iter]\n",
        "    print(best_vector, best_obj, obj_iter)"
      ]
    },
    {
      "cell_type": "code",
      "execution_count": null,
      "metadata": {
        "colab": {
          "base_uri": "https://localhost:8080/"
        },
        "id": "BNqM-hCFa9Gp",
        "outputId": "68f06e57-ad1a-4267-a7b5-5174dacc58e6"
      },
      "outputs": [
        {
          "name": "stdout",
          "output_type": "stream",
          "text": [
            "CUDA Available: True\n"
          ]
        }
      ],
      "source": [
        "DEVICE = torch.device(\"cuda\" if torch.cuda.is_available() else \"cpu\")\n",
        "LOADER_KWARGS = {'num_workers': 1, 'pin_memory': True} if torch.cuda.is_available() else {'num_workers': 4}\n",
        "print(\"CUDA Available:\", torch.cuda.is_available())"
      ]
    },
    {
      "cell_type": "code",
      "execution_count": null,
      "metadata": {
        "colab": {
          "base_uri": "https://localhost:8080/",
          "height": 66,
          "referenced_widgets": [
            "0ea145f0796d4cc88d3b7ee219055b45",
            "ed4d0e5821034a88920f7ea1231d7ac1",
            "0bad8c01f01548e6a7f4551f6da4ba9d",
            "0b0627985ff847cea1a8c8ed5c5e9323",
            "eec4972d98834eb3b3e60d86c93c151f",
            "6ab3d1f393ee40f29e23f6d87e461ea7",
            "66728671af3949e3bd6570edff6df03d",
            "6d17007f385d402598abf3fc213d3041",
            "1079fffff0b14001896e662899cf18a3",
            "210b7c51422d40a7a38be5a02a584e5c",
            "8a5f571441d841f0bdb9d361c29eebfc"
          ]
        },
        "id": "UbO-Ex9Vasjr",
        "outputId": "8799a21c-7ff2-4341-e9a4-8deb63b46080"
      },
      "outputs": [
        {
          "name": "stderr",
          "output_type": "stream",
          "text": [
            "Downloading: \"https://download.pytorch.org/models/vgg16-397923af.pth\" to /root/.cache/torch/hub/checkpoints/vgg16-397923af.pth\n"
          ]
        },
        {
          "data": {
            "application/vnd.jupyter.widget-view+json": {
              "model_id": "0ea145f0796d4cc88d3b7ee219055b45",
              "version_major": 2,
              "version_minor": 0
            },
            "text/plain": [
              "  0%|          | 0.00/528M [00:00<?, ?B/s]"
            ]
          },
          "metadata": {},
          "output_type": "display_data"
        }
      ],
      "source": [
        "cifar_model = models.vgg16(pretrained=True, init_weights=False)\n",
        "cifar_model.classifier = nn.Sequential(\n",
        "        nn.Linear(25088, 2048),\n",
        "        nn.ReLU(True),\n",
        "        nn.Dropout(),\n",
        "        nn.Linear(2048, 2048),\n",
        "        nn.ReLU(True),\n",
        "        nn.Dropout(),\n",
        "        nn.Linear(2048, 10),\n",
        "    )\n",
        "cifar_model = cifar_model.to(DEVICE)"
      ]
    },
    {
      "cell_type": "code",
      "execution_count": null,
      "metadata": {
        "colab": {
          "base_uri": "https://localhost:8080/",
          "height": 118,
          "referenced_widgets": [
            "39d78d64f26a4bcea9363158e870e6dd",
            "bb898768eec34324b30d5b61a1bc50c9",
            "411fb7390ae5480fab743e1940224740",
            "14fd9a71a68f48aead91a470ea3cf4a1",
            "030618b8c0de4633b833fb00116534e1",
            "9f3c9a72150a45c68cd743e7eb325146",
            "e7ec30de7243474abbd224370cbc1efb",
            "a1eb1ec8ac544a8b9e7d81639a138fc1",
            "dc075e1c29994a53a93ab4a729199874",
            "4dcd44961902419a8a27a83c40e7bb4f",
            "db257944a4f54973b639d1acd9b39522"
          ]
        },
        "id": "MCFaqVDXbtSb",
        "outputId": "cf588e6b-420a-4332-f30d-ce77ae0d07a6"
      },
      "outputs": [
        {
          "name": "stdout",
          "output_type": "stream",
          "text": [
            "Downloading https://www.cs.toronto.edu/~kriz/cifar-10-python.tar.gz to ./data/cifar-10-python.tar.gz\n"
          ]
        },
        {
          "data": {
            "application/vnd.jupyter.widget-view+json": {
              "model_id": "39d78d64f26a4bcea9363158e870e6dd",
              "version_major": 2,
              "version_minor": 0
            },
            "text/plain": [
              "  0%|          | 0/170498071 [00:00<?, ?it/s]"
            ]
          },
          "metadata": {},
          "output_type": "display_data"
        },
        {
          "name": "stdout",
          "output_type": "stream",
          "text": [
            "Extracting ./data/cifar-10-python.tar.gz to ./data\n",
            "Files already downloaded and verified\n",
            "Files already downloaded and verified\n"
          ]
        }
      ],
      "source": [
        "BATCH_SIZE = 128\n",
        "TRAIN_COUNT = 40_000\n",
        "VAL_COUNT = 10_000\n",
        "TEST_COUNT = 10_000\n",
        "\n",
        "train_transform = transforms.Compose([\n",
        "    transforms.RandomHorizontalFlip(),\n",
        "    transforms.ToTensor(),\n",
        "])\n",
        "\n",
        "test_transform = transforms.ToTensor()\n",
        "\n",
        "train_set = datasets.CIFAR10(root='./data', train=True, download=True, transform=train_transform)\n",
        "train_set = torch.utils.data.dataset.Subset(train_set, range(0,TRAIN_COUNT))\n",
        "train_loader = torch.utils.data.DataLoader(train_set, batch_size=BATCH_SIZE, shuffle=True, **LOADER_KWARGS)\n",
        "\n",
        "val_set = datasets.CIFAR10(root='./data', train=True, download=True, transform=test_transform)\n",
        "val_set = torch.utils.data.dataset.Subset(val_set, range(TRAIN_COUNT,TRAIN_COUNT+VAL_COUNT))\n",
        "val_loader = torch.utils.data.DataLoader(val_set, batch_size=BATCH_SIZE, shuffle=False, **LOADER_KWARGS)\n",
        "\n",
        "test_set = datasets.CIFAR10(root='./data', train=False, download=True, transform=test_transform)\n",
        "test_loader = torch.utils.data.DataLoader(test_set, batch_size=BATCH_SIZE, shuffle=False, **LOADER_KWARGS)"
      ]
    },
    {
      "cell_type": "code",
      "execution_count": null,
      "metadata": {
        "id": "4e0AmvYmcAPc"
      },
      "outputs": [],
      "source": [
        "def test(epoch=None, is_validation=False):\n",
        "    cifar_model.eval()\n",
        "    loader = val_loader if is_validation else test_loader\n",
        "    test_loss = 0\n",
        "    test_correct = 0\n",
        "    with torch.no_grad():\n",
        "        for batch_idx, (inputs, targets) in enumerate(loader):\n",
        "            inputs, targets = inputs.to(DEVICE), targets.to(DEVICE)\n",
        "            outputs = cifar_model(inputs)\n",
        "            test_loss += F.cross_entropy(outputs, targets, size_average=False).item()\n",
        "            test_correct += outputs.max(1)[1].eq(targets).sum().item()\n",
        "    if is_validation:\n",
        "        writer.add_scalar('logs/val_loss', test_loss/len(loader.dataset), epoch)\n",
        "        writer.add_scalar('logs/val_acc', test_correct/len(loader.dataset), epoch)\n",
        "    else:\n",
        "        print(\"Test Accuracy: {}/{}\".format(test_correct, len(loader.dataset)))"
      ]
    },
    {
      "cell_type": "code",
      "execution_count": null,
      "metadata": {
        "id": "UYsgSVhnddja"
      },
      "outputs": [],
      "source": [
        "optimizer = optim.Adam(cifar_model.parameters())\n",
        "\n",
        "# Training\n",
        "def train(epoch):\n",
        "    cifar_model.train()\n",
        "    epoch_loss = 0\n",
        "    epoch_correct = 0\n",
        "    for batch_idx, (inputs, targets) in enumerate(tqdm(train_loader)):\n",
        "        inputs, targets = inputs.to(DEVICE), targets.to(DEVICE)\n",
        "        optimizer.zero_grad()\n",
        "        outputs = cifar_model(inputs)\n",
        "        loss = F.cross_entropy(outputs, targets)\n",
        "        loss.backward()\n",
        "        optimizer.step()\n",
        "        batch_correct = outputs.max(1)[1].eq(targets).sum().item()\n",
        "        epoch_loss += loss.item()\n",
        "        epoch_correct += batch_correct\n",
        "        writer.add_scalar('logs/train_loss', loss.item(), epoch*len(train_loader) + batch_idx)\n",
        "        writer.add_scalar('logs/train_acc', batch_correct / targets.size(0), epoch*len(train_loader) + batch_idx)\n",
        "    test(epoch, is_validation=True)"
      ]
    },
    {
      "cell_type": "code",
      "execution_count": null,
      "metadata": {
        "colab": {
          "base_uri": "https://localhost:8080/"
        },
        "id": "M_uKzJVsdlCK",
        "outputId": "120ff90d-1fa4-4fac-fc00-f565c2457c80"
      },
      "outputs": [
        {
          "name": "stderr",
          "output_type": "stream",
          "text": [
            "100%|██████████| 313/313 [00:27<00:00, 11.28it/s]\n",
            "/usr/local/lib/python3.7/dist-packages/torch/nn/_reduction.py:42: UserWarning: size_average and reduce args will be deprecated, please use reduction='sum' instead.\n",
            "  warnings.warn(warning.format(ret))\n",
            "100%|██████████| 313/313 [00:26<00:00, 11.65it/s]\n",
            "100%|██████████| 313/313 [00:26<00:00, 11.79it/s]\n",
            "100%|██████████| 313/313 [00:26<00:00, 11.71it/s]\n",
            "100%|██████████| 313/313 [00:26<00:00, 11.77it/s]\n",
            "100%|██████████| 313/313 [00:26<00:00, 11.77it/s]\n",
            "100%|██████████| 313/313 [00:26<00:00, 11.79it/s]\n",
            "100%|██████████| 313/313 [00:26<00:00, 11.79it/s]\n",
            "100%|██████████| 313/313 [00:26<00:00, 11.77it/s]\n",
            "100%|██████████| 313/313 [00:26<00:00, 11.78it/s]\n",
            "100%|██████████| 313/313 [00:26<00:00, 11.80it/s]\n",
            "100%|██████████| 313/313 [00:26<00:00, 11.78it/s]\n",
            "100%|██████████| 313/313 [00:26<00:00, 11.79it/s]\n",
            "100%|██████████| 313/313 [00:26<00:00, 11.78it/s]\n",
            "100%|██████████| 313/313 [00:26<00:00, 11.79it/s]\n",
            "100%|██████████| 313/313 [00:26<00:00, 11.77it/s]\n",
            "100%|██████████| 313/313 [00:26<00:00, 11.78it/s]\n",
            "100%|██████████| 313/313 [00:26<00:00, 11.79it/s]\n",
            "100%|██████████| 313/313 [00:26<00:00, 11.79it/s]\n",
            "100%|██████████| 313/313 [00:26<00:00, 11.80it/s]\n"
          ]
        }
      ],
      "source": [
        "TRAIN_EPOCHS = 20\n",
        "WEIGHTS_PATH = Path(\"./vgg_cifar_weights.pt\")\n",
        "\n",
        "if WEIGHTS_PATH.is_file():\n",
        "    cifar_model.load_state_dict(torch.load(WEIGHTS_PATH))\n",
        "    print(\"Loaded weights from file:\", WEIGHTS_PATH)\n",
        "else:\n",
        "    for epoch in range(TRAIN_EPOCHS):\n",
        "        train(epoch)\n",
        "    torch.save(cifar_model.state_dict(), WEIGHTS_PATH)"
      ]
    },
    {
      "cell_type": "code",
      "execution_count": null,
      "metadata": {
        "colab": {
          "base_uri": "https://localhost:8080/"
        },
        "id": "BTmDMwOcgviK",
        "outputId": "b4e18764-1030-4490-cfd7-cf1e71ee45b1"
      },
      "outputs": [
        {
          "name": "stderr",
          "output_type": "stream",
          "text": [
            "/usr/local/lib/python3.7/dist-packages/torch/nn/_reduction.py:42: UserWarning: size_average and reduce args will be deprecated, please use reduction='sum' instead.\n",
            "  warnings.warn(warning.format(ret))\n"
          ]
        },
        {
          "name": "stdout",
          "output_type": "stream",
          "text": [
            "Test Accuracy: 1000/10000\n"
          ]
        }
      ],
      "source": [
        "test()"
      ]
    },
    {
      "cell_type": "code",
      "execution_count": null,
      "metadata": {
        "id": "tF3WLBHHgzkP"
      },
      "outputs": [],
      "source": [
        "CIFAR_LABELS = ('airplane', 'automobile', 'bird', 'cat', 'deer', 'dog', 'frog', 'horse', 'ship', 'truck')\n",
        "\n",
        "def show(img):\n",
        "    npimg = img.cpu().numpy()\n",
        "    plt.imshow(np.transpose(npimg, (1,2,0)), interpolation='nearest')\n",
        "\n",
        "def tell(img, label, model, target_label=None):\n",
        "    print(\"True Label:\", CIFAR_LABELS[label], label)\n",
        "    print(\"Prediction:\", CIFAR_LABELS[model(img.unsqueeze(0)).max(-1)[1]], model(img.unsqueeze(0)).max(-1)[1][0].item())\n",
        "    print(\"Label Probabilities:\", F.softmax(model(img.unsqueeze(0)).squeeze(), dim=0))\n",
        "    print(\"True Label Probability:\", F.softmax(model(img.unsqueeze(0)).squeeze(), dim=0)[label].item())\n",
        "    if target_label is not None:\n",
        "        print(\"Target Label Probability:\", F.softmax(model(img.unsqueeze(0)).squeeze(), dim=0)[target_label].item())"
      ]
    },
    {
      "cell_type": "code",
      "execution_count": null,
      "metadata": {
        "colab": {
          "base_uri": "https://localhost:8080/",
          "height": 355
        },
        "id": "yCAk0-HahEe4",
        "outputId": "d201db8e-7b41-4cab-aeff-163b0f32bb6b"
      },
      "outputs": [
        {
          "name": "stdout",
          "output_type": "stream",
          "text": [
            "True Label: deer 4\n",
            "Prediction: horse 7\n",
            "Label Probabilities: tensor([0.0999, 0.0997, 0.1007, 0.0997, 0.1001, 0.0986, 0.1008, 0.1009, 0.1000,\n",
            "        0.0996], device='cuda:0', grad_fn=<SoftmaxBackward0>)\n",
            "True Label Probability: 0.10006055980920792\n"
          ]
        },
        {
          "data": {
            "image/png": "[encoded data removed]",
            "text/plain": [
              "<Figure size 432x288 with 1 Axes>"
            ]
          },
          "metadata": {},
          "output_type": "display_data"
        }
      ],
      "source": [
        "test_img, test_label = test_set[500]\n",
        "test_img = test_img.to(DEVICE)\n",
        "show(test_img)\n",
        "tell(test_img, test_label, cifar_model)"
      ]
    },
    {
      "cell_type": "code",
      "execution_count": null,
      "metadata": {
        "colab": {
          "base_uri": "https://localhost:8080/",
          "height": 372
        },
        "id": "wLxUS77mhNZf",
        "outputId": "334d8891-6507-438a-93a9-b7e168798606"
      },
      "outputs": [
        {
          "name": "stdout",
          "output_type": "stream",
          "text": [
            "Perturbation: [0.6  0.6  0.   0.   0.75]\n",
            "True Label: deer 4\n",
            "Prediction: horse 7\n",
            "Label Probabilities: tensor([0.0999, 0.0997, 0.1007, 0.0997, 0.1001, 0.0986, 0.1008, 0.1009, 0.1000,\n",
            "        0.0996], device='cuda:0', grad_fn=<SoftmaxBackward0>)\n",
            "True Label Probability: 0.10006055980920792\n"
          ]
        },
        {
          "data": {
            "image/png": "[encoded data removed]",
            "text/plain": [
              "<Figure size 432x288 with 1 Axes>"
            ]
          },
          "metadata": {},
          "output_type": "display_data"
        }
      ],
      "source": [
        "def perturb(p, img):\n",
        "    # Elements of p(perturbation)[x,y,r,g,b] should be in range [0,1]\n",
        "    img_size = img.size(1) # C x _H_ x W, assume H == W\n",
        "    p_img = img.clone()  #image each pixcels\n",
        "    xy = (p[0:2].copy() * img_size).astype(int)\n",
        "    xy = np.clip(xy, 0, img_size-1)\n",
        "    rgb = p[2:5].copy()\n",
        "    rgb = np.clip(rgb, 0, 1)\n",
        "    p_img[:,xy[0],xy[1]] = torch.from_numpy(rgb) # Changing color of xy pixel\n",
        "    return p_img\n",
        "\n",
        "def visualize_perturbation(p, img, label, model, target_label=None):\n",
        "    p_img = perturb(p, img) #pertubeted image\n",
        "    print(\"Perturbation:\", p) #p=[x,y,r,g,b]\n",
        "    show(p_img)\n",
        "    tell(p_img, label, model, target_label)\n",
        "\n",
        "visualize_perturbation(np.array([0.6,0.6,0,0,0.75]), test_img, test_label, cifar_model)"
      ]
    },
    {
      "cell_type": "code",
      "execution_count": null,
      "metadata": {
        "colab": {
          "background_save": true,
          "base_uri": "https://localhost:8080/"
        },
        "id": "Lo4tEddshi8U",
        "outputId": "cf82760e-c2e0-4b94-e68d-62db9da41ca6"
      },
      "outputs": [
        {
          "name": "stdout",
          "output_type": "stream",
          "text": [
            "Target Probability [Iteration 0]: 0.10006055980920792\n",
            "Target Probability [Iteration 10]: 0.10006055980920792\n",
            "Target Probability [Iteration 20]: 0.10006055980920792\n",
            "Target Probability [Iteration 30]: 0.10006055980920792\n",
            "Target Probability [Iteration 40]: 0.10006055980920792\n",
            "Target Probability [Iteration 50]: 0.10006055980920792\n",
            "Target Probability [Iteration 60]: 0.10006055980920792\n",
            "Target Probability [Iteration 70]: 0.10006055980920792\n",
            "Target Probability [Iteration 80]: 0.10006055980920792\n",
            "Target Probability [Iteration 90]: 0.10006055980920792\n",
            "Perturbation: [0.23179133 0.69193141 0.40170404 0.         0.5466625 ]\n",
            "True Label: deer 4\n",
            "Prediction: horse 7\n",
            "Label Probabilities: tensor([0.0999, 0.0997, 0.1007, 0.0997, 0.1001, 0.0986, 0.1008, 0.1009, 0.1000,\n",
            "        0.0996], device='cuda:0', grad_fn=<SoftmaxBackward0>)\n",
            "True Label Probability: 0.10006055980920792\n"
          ]
        },
        {
          "data": {
            "image/png": "[encoded data removed]",
            "text/plain": [
              "<Figure size 432x288 with 1 Axes>"
            ]
          },
          "metadata": {},
          "output_type": "display_data"
        }
      ],
      "source": [
        "# Pertube and tells the probability\n",
        "def evaluate(candidates, img, label, model):\n",
        "    preds = []\n",
        "    model.eval()\n",
        "    with torch.no_grad():\n",
        "        for i, xs in enumerate(candidates):\n",
        "            p_img = perturb(xs, img) #perturbated image by xs=[x,y,r,g,b]\n",
        "            preds.append(F.softmax(model(p_img.unsqueeze(0)).squeeze(), dim=0)[label].item())\n",
        "    return np.array(preds)\n",
        "\n",
        "# Generates Child and Return(Mutate)\n",
        "def evolve(candidates, F=0.5, strategy=\"clip\"):\n",
        "    gen2 = candidates.copy()\n",
        "    num_candidates = len(candidates)\n",
        "    for i in range(num_candidates):\n",
        "        x1, x2, x3 = candidates[np.random.choice(num_candidates, 3, replace=False)]\n",
        "        x_next = (x1 + F*(x2 - x3))\n",
        "        if strategy == \"clip\":\n",
        "            gen2[i] = np.clip(x_next, 0, 1)\n",
        "        elif strategy == \"resample\":\n",
        "            x_oob = np.logical_or((x_next < 0), (1 < x_next))\n",
        "            x_next[x_oob] = np.random.random(5)[x_oob]\n",
        "            gen2[i] = x_next\n",
        "    return gen2\n",
        "\n",
        "def attack(model, img, true_label, target_label=None, iters=100, pop_size=400, verbose=True):\n",
        "    # Targeted: maximize target_label if given (early stop > 50%)\n",
        "    # Untargeted: minimize true_label otherwise (early stop < 5%)\n",
        "    candidates = np.random.random((pop_size,5)) # take array of 400(pixel),5(xyrgb) and fill with [0,1)\n",
        "    # means 400 diff perturbated images are found in each iteration(Generation)\n",
        "    candidates[:,2:5] = np.clip(np.random.normal(0.5, 0.5, (pop_size, 3)), 0, 1)\n",
        "    is_targeted = target_label is not None\n",
        "    label = target_label if is_targeted else true_label\n",
        "    fitness = evaluate(candidates, img, label, model)\n",
        "    \n",
        "    def is_success():\n",
        "        return (is_targeted and fitness.max() > 0.5) or ((not is_targeted) and fitness.min() < 0.05)\n",
        "    \n",
        "    for iteration in range(iters):\n",
        "        # Early Stopping\n",
        "        if is_success():\n",
        "            break\n",
        "        if verbose and iteration%10 == 0: # Print progress\n",
        "            print(\"Target Probability [Iteration {}]:\".format(iteration), fitness.max() if is_targeted else fitness.min())\n",
        "        # Generate new candidate solutions\n",
        "        new_gen_candidates = evolve(candidates, strategy=\"resample\")\n",
        "        # Evaluate new solutions\n",
        "        new_gen_fitness = evaluate(new_gen_candidates, img, label, model)\n",
        "        # Replace old solutions with new ones where they are better\n",
        "        successors = new_gen_fitness > fitness if is_targeted else new_gen_fitness < fitness\n",
        "        candidates[successors] = new_gen_candidates[successors] # Updte candidatea\n",
        "        fitness[successors] = new_gen_fitness[successors]\n",
        "    best_idx = fitness.argmax() if is_targeted else fitness.argmin()\n",
        "    best_solution = candidates[best_idx]\n",
        "    best_score = fitness[best_idx]\n",
        "    if verbose:\n",
        "        visualize_perturbation(best_solution, img, true_label, model, target_label)\n",
        "    return is_success(), best_solution, best_score\n",
        "\n",
        "# Untargeted attack\n",
        "_ = attack(cifar_model, test_img, test_label)"
      ]
    },
    {
      "cell_type": "code",
      "execution_count": null,
      "metadata": {
        "id": "cwBNT8Bfi5TX",
        "colab": {
          "base_uri": "https://localhost:8080/"
        },
        "outputId": "5dbfe7c1-242c-48f6-e809-5495a5bfcc4d"
      },
      "outputs": [
        {
          "output_type": "stream",
          "name": "stdout",
          "text": [
            "airplane 0 False 0.09994594007730484\n",
            "automobile 1 False 0.09974901378154755\n",
            "bird 2 False 0.10068761557340622\n",
            "cat 3 False 0.09967490285634995\n",
            "deer 4 True Label\n",
            "dog 5 False 0.09864164888858795\n",
            "frog 6 False 0.10080868005752563\n",
            "horse 7 False 0.10087330639362335\n",
            "ship 8 False 0.09996559470891953\n",
            "truck 9 False 0.09959271550178528\n"
          ]
        }
      ],
      "source": [
        "# Targeted attack\n",
        "# This is much harder/costlier than an untargeted attack\n",
        "# For time reasons, targeted attacks below use 20 iterations\n",
        "targeted_results = {}\n",
        "for idx in range(len(CIFAR_LABELS)):\n",
        "    if idx != test_label:\n",
        "        targeted_results[idx] = attack(cifar_model, test_img, test_label, target_label=idx, iters=20, verbose=False)\n",
        "        print(CIFAR_LABELS[idx], idx, targeted_results[idx][0], targeted_results[idx][2])\n",
        "    else:\n",
        "        print(CIFAR_LABELS[idx], idx, \"True Label\")"
      ]
    },
    {
      "cell_type": "code",
      "execution_count": null,
      "metadata": {
        "id": "1kB6iN-lkP8R"
      },
      "outputs": [],
      "source": [
        ""
      ]
    }
  ],
  "metadata": {
    "accelerator": "GPU",
    "colab": {
      "collapsed_sections": [],
      "name": "OnePixelAttack.ipynb",
      "provenance": [],
      "include_colab_link": true
    },
    "gpuClass": "standard",
    "kernelspec": {
      "display_name": "Python 3",
      "name": "python3"
    },
    "language_info": {
      "name": "python"
    },
    "widgets": {
      "application/vnd.jupyter.widget-state+json": {
        "030618b8c0de4633b833fb00116534e1": {
          "model_module": "@jupyter-widgets/base",
          "model_module_version": "1.2.0",
          "model_name": "LayoutModel",
          "state": {
            "_model_module": "@jupyter-widgets/base",
            "_model_module_version": "1.2.0",
            "_model_name": "LayoutModel",
            "_view_count": null,
            "_view_module": "@jupyter-widgets/base",
            "_view_module_version": "1.2.0",
            "_view_name": "LayoutView",
            "align_content": null,
            "align_items": null,
            "align_self": null,
            "border": null,
            "bottom": null,
            "display": null,
            "flex": null,
            "flex_flow": null,
            "grid_area": null,
            "grid_auto_columns": null,
            "grid_auto_flow": null,
            "grid_auto_rows": null,
            "grid_column": null,
            "grid_gap": null,
            "grid_row": null,
            "grid_template_areas": null,
            "grid_template_columns": null,
            "grid_template_rows": null,
            "height": null,
            "justify_content": null,
            "justify_items": null,
            "left": null,
            "margin": null,
            "max_height": null,
            "max_width": null,
            "min_height": null,
            "min_width": null,
            "object_fit": null,
            "object_position": null,
            "order": null,
            "overflow": null,
            "overflow_x": null,
            "overflow_y": null,
            "padding": null,
            "right": null,
            "top": null,
            "visibility": null,
            "width": null
          }
        },
        "0b0627985ff847cea1a8c8ed5c5e9323": {
          "model_module": "@jupyter-widgets/controls",
          "model_module_version": "1.5.0",
          "model_name": "HTMLModel",
          "state": {
            "_dom_classes": [],
            "_model_module": "@jupyter-widgets/controls",
            "_model_module_version": "1.5.0",
            "_model_name": "HTMLModel",
            "_view_count": null,
            "_view_module": "@jupyter-widgets/controls",
            "_view_module_version": "1.5.0",
            "_view_name": "HTMLView",
            "description": "",
            "description_tooltip": null,
            "layout": "IPY_MODEL_210b7c51422d40a7a38be5a02a584e5c",
            "placeholder": "​",
            "style": "IPY_MODEL_8a5f571441d841f0bdb9d361c29eebfc",
            "value": " 528M/528M [00:02&lt;00:00, 251MB/s]"
          }
        },
        "0bad8c01f01548e6a7f4551f6da4ba9d": {
          "model_module": "@jupyter-widgets/controls",
          "model_module_version": "1.5.0",
          "model_name": "FloatProgressModel",
          "state": {
            "_dom_classes": [],
            "_model_module": "@jupyter-widgets/controls",
            "_model_module_version": "1.5.0",
            "_model_name": "FloatProgressModel",
            "_view_count": null,
            "_view_module": "@jupyter-widgets/controls",
            "_view_module_version": "1.5.0",
            "_view_name": "ProgressView",
            "bar_style": "success",
            "description": "",
            "description_tooltip": null,
            "layout": "IPY_MODEL_6d17007f385d402598abf3fc213d3041",
            "max": 553433881,
            "min": 0,
            "orientation": "horizontal",
            "style": "IPY_MODEL_1079fffff0b14001896e662899cf18a3",
            "value": 553433881
          }
        },
        "0ea145f0796d4cc88d3b7ee219055b45": {
          "model_module": "@jupyter-widgets/controls",
          "model_module_version": "1.5.0",
          "model_name": "HBoxModel",
          "state": {
            "_dom_classes": [],
            "_model_module": "@jupyter-widgets/controls",
            "_model_module_version": "1.5.0",
            "_model_name": "HBoxModel",
            "_view_count": null,
            "_view_module": "@jupyter-widgets/controls",
            "_view_module_version": "1.5.0",
            "_view_name": "HBoxView",
            "box_style": "",
            "children": [
              "IPY_MODEL_ed4d0e5821034a88920f7ea1231d7ac1",
              "IPY_MODEL_0bad8c01f01548e6a7f4551f6da4ba9d",
              "IPY_MODEL_0b0627985ff847cea1a8c8ed5c5e9323"
            ],
            "layout": "IPY_MODEL_eec4972d98834eb3b3e60d86c93c151f"
          }
        },
        "1079fffff0b14001896e662899cf18a3": {
          "model_module": "@jupyter-widgets/controls",
          "model_module_version": "1.5.0",
          "model_name": "ProgressStyleModel",
          "state": {
            "_model_module": "@jupyter-widgets/controls",
            "_model_module_version": "1.5.0",
            "_model_name": "ProgressStyleModel",
            "_view_count": null,
            "_view_module": "@jupyter-widgets/base",
            "_view_module_version": "1.2.0",
            "_view_name": "StyleView",
            "bar_color": null,
            "description_width": ""
          }
        },
        "14fd9a71a68f48aead91a470ea3cf4a1": {
          "model_module": "@jupyter-widgets/controls",
          "model_module_version": "1.5.0",
          "model_name": "HTMLModel",
          "state": {
            "_dom_classes": [],
            "_model_module": "@jupyter-widgets/controls",
            "_model_module_version": "1.5.0",
            "_model_name": "HTMLModel",
            "_view_count": null,
            "_view_module": "@jupyter-widgets/controls",
            "_view_module_version": "1.5.0",
            "_view_name": "HTMLView",
            "description": "",
            "description_tooltip": null,
            "layout": "IPY_MODEL_4dcd44961902419a8a27a83c40e7bb4f",
            "placeholder": "​",
            "style": "IPY_MODEL_db257944a4f54973b639d1acd9b39522",
            "value": " 170499072/? [00:04&lt;00:00, 54658128.50it/s]"
          }
        },
        "210b7c51422d40a7a38be5a02a584e5c": {
          "model_module": "@jupyter-widgets/base",
          "model_module_version": "1.2.0",
          "model_name": "LayoutModel",
          "state": {
            "_model_module": "@jupyter-widgets/base",
            "_model_module_version": "1.2.0",
            "_model_name": "LayoutModel",
            "_view_count": null,
            "_view_module": "@jupyter-widgets/base",
            "_view_module_version": "1.2.0",
            "_view_name": "LayoutView",
            "align_content": null,
            "align_items": null,
            "align_self": null,
            "border": null,
            "bottom": null,
            "display": null,
            "flex": null,
            "flex_flow": null,
            "grid_area": null,
            "grid_auto_columns": null,
            "grid_auto_flow": null,
            "grid_auto_rows": null,
            "grid_column": null,
            "grid_gap": null,
            "grid_row": null,
            "grid_template_areas": null,
            "grid_template_columns": null,
            "grid_template_rows": null,
            "height": null,
            "justify_content": null,
            "justify_items": null,
            "left": null,
            "margin": null,
            "max_height": null,
            "max_width": null,
            "min_height": null,
            "min_width": null,
            "object_fit": null,
            "object_position": null,
            "order": null,
            "overflow": null,
            "overflow_x": null,
            "overflow_y": null,
            "padding": null,
            "right": null,
            "top": null,
            "visibility": null,
            "width": null
          }
        },
        "39d78d64f26a4bcea9363158e870e6dd": {
          "model_module": "@jupyter-widgets/controls",
          "model_module_version": "1.5.0",
          "model_name": "HBoxModel",
          "state": {
            "_dom_classes": [],
            "_model_module": "@jupyter-widgets/controls",
            "_model_module_version": "1.5.0",
            "_model_name": "HBoxModel",
            "_view_count": null,
            "_view_module": "@jupyter-widgets/controls",
            "_view_module_version": "1.5.0",
            "_view_name": "HBoxView",
            "box_style": "",
            "children": [
              "IPY_MODEL_bb898768eec34324b30d5b61a1bc50c9",
              "IPY_MODEL_411fb7390ae5480fab743e1940224740",
              "IPY_MODEL_14fd9a71a68f48aead91a470ea3cf4a1"
            ],
            "layout": "IPY_MODEL_030618b8c0de4633b833fb00116534e1"
          }
        },
        "411fb7390ae5480fab743e1940224740": {
          "model_module": "@jupyter-widgets/controls",
          "model_module_version": "1.5.0",
          "model_name": "FloatProgressModel",
          "state": {
            "_dom_classes": [],
            "_model_module": "@jupyter-widgets/controls",
            "_model_module_version": "1.5.0",
            "_model_name": "FloatProgressModel",
            "_view_count": null,
            "_view_module": "@jupyter-widgets/controls",
            "_view_module_version": "1.5.0",
            "_view_name": "ProgressView",
            "bar_style": "success",
            "description": "",
            "description_tooltip": null,
            "layout": "IPY_MODEL_a1eb1ec8ac544a8b9e7d81639a138fc1",
            "max": 170498071,
            "min": 0,
            "orientation": "horizontal",
            "style": "IPY_MODEL_dc075e1c29994a53a93ab4a729199874",
            "value": 170498071
          }
        },
        "4dcd44961902419a8a27a83c40e7bb4f": {
          "model_module": "@jupyter-widgets/base",
          "model_module_version": "1.2.0",
          "model_name": "LayoutModel",
          "state": {
            "_model_module": "@jupyter-widgets/base",
            "_model_module_version": "1.2.0",
            "_model_name": "LayoutModel",
            "_view_count": null,
            "_view_module": "@jupyter-widgets/base",
            "_view_module_version": "1.2.0",
            "_view_name": "LayoutView",
            "align_content": null,
            "align_items": null,
            "align_self": null,
            "border": null,
            "bottom": null,
            "display": null,
            "flex": null,
            "flex_flow": null,
            "grid_area": null,
            "grid_auto_columns": null,
            "grid_auto_flow": null,
            "grid_auto_rows": null,
            "grid_column": null,
            "grid_gap": null,
            "grid_row": null,
            "grid_template_areas": null,
            "grid_template_columns": null,
            "grid_template_rows": null,
            "height": null,
            "justify_content": null,
            "justify_items": null,
            "left": null,
            "margin": null,
            "max_height": null,
            "max_width": null,
            "min_height": null,
            "min_width": null,
            "object_fit": null,
            "object_position": null,
            "order": null,
            "overflow": null,
            "overflow_x": null,
            "overflow_y": null,
            "padding": null,
            "right": null,
            "top": null,
            "visibility": null,
            "width": null
          }
        },
        "66728671af3949e3bd6570edff6df03d": {
          "model_module": "@jupyter-widgets/controls",
          "model_module_version": "1.5.0",
          "model_name": "DescriptionStyleModel",
          "state": {
            "_model_module": "@jupyter-widgets/controls",
            "_model_module_version": "1.5.0",
            "_model_name": "DescriptionStyleModel",
            "_view_count": null,
            "_view_module": "@jupyter-widgets/base",
            "_view_module_version": "1.2.0",
            "_view_name": "StyleView",
            "description_width": ""
          }
        },
        "6ab3d1f393ee40f29e23f6d87e461ea7": {
          "model_module": "@jupyter-widgets/base",
          "model_module_version": "1.2.0",
          "model_name": "LayoutModel",
          "state": {
            "_model_module": "@jupyter-widgets/base",
            "_model_module_version": "1.2.0",
            "_model_name": "LayoutModel",
            "_view_count": null,
            "_view_module": "@jupyter-widgets/base",
            "_view_module_version": "1.2.0",
            "_view_name": "LayoutView",
            "align_content": null,
            "align_items": null,
            "align_self": null,
            "border": null,
            "bottom": null,
            "display": null,
            "flex": null,
            "flex_flow": null,
            "grid_area": null,
            "grid_auto_columns": null,
            "grid_auto_flow": null,
            "grid_auto_rows": null,
            "grid_column": null,
            "grid_gap": null,
            "grid_row": null,
            "grid_template_areas": null,
            "grid_template_columns": null,
            "grid_template_rows": null,
            "height": null,
            "justify_content": null,
            "justify_items": null,
            "left": null,
            "margin": null,
            "max_height": null,
            "max_width": null,
            "min_height": null,
            "min_width": null,
            "object_fit": null,
            "object_position": null,
            "order": null,
            "overflow": null,
            "overflow_x": null,
            "overflow_y": null,
            "padding": null,
            "right": null,
            "top": null,
            "visibility": null,
            "width": null
          }
        },
        "6d17007f385d402598abf3fc213d3041": {
          "model_module": "@jupyter-widgets/base",
          "model_module_version": "1.2.0",
          "model_name": "LayoutModel",
          "state": {
            "_model_module": "@jupyter-widgets/base",
            "_model_module_version": "1.2.0",
            "_model_name": "LayoutModel",
            "_view_count": null,
            "_view_module": "@jupyter-widgets/base",
            "_view_module_version": "1.2.0",
            "_view_name": "LayoutView",
            "align_content": null,
            "align_items": null,
            "align_self": null,
            "border": null,
            "bottom": null,
            "display": null,
            "flex": null,
            "flex_flow": null,
            "grid_area": null,
            "grid_auto_columns": null,
            "grid_auto_flow": null,
            "grid_auto_rows": null,
            "grid_column": null,
            "grid_gap": null,
            "grid_row": null,
            "grid_template_areas": null,
            "grid_template_columns": null,
            "grid_template_rows": null,
            "height": null,
            "justify_content": null,
            "justify_items": null,
            "left": null,
            "margin": null,
            "max_height": null,
            "max_width": null,
            "min_height": null,
            "min_width": null,
            "object_fit": null,
            "object_position": null,
            "order": null,
            "overflow": null,
            "overflow_x": null,
            "overflow_y": null,
            "padding": null,
            "right": null,
            "top": null,
            "visibility": null,
            "width": null
          }
        },
        "8a5f571441d841f0bdb9d361c29eebfc": {
          "model_module": "@jupyter-widgets/controls",
          "model_module_version": "1.5.0",
          "model_name": "DescriptionStyleModel",
          "state": {
            "_model_module": "@jupyter-widgets/controls",
            "_model_module_version": "1.5.0",
            "_model_name": "DescriptionStyleModel",
            "_view_count": null,
            "_view_module": "@jupyter-widgets/base",
            "_view_module_version": "1.2.0",
            "_view_name": "StyleView",
            "description_width": ""
          }
        },
        "9f3c9a72150a45c68cd743e7eb325146": {
          "model_module": "@jupyter-widgets/base",
          "model_module_version": "1.2.0",
          "model_name": "LayoutModel",
          "state": {
            "_model_module": "@jupyter-widgets/base",
            "_model_module_version": "1.2.0",
            "_model_name": "LayoutModel",
            "_view_count": null,
            "_view_module": "@jupyter-widgets/base",
            "_view_module_version": "1.2.0",
            "_view_name": "LayoutView",
            "align_content": null,
            "align_items": null,
            "align_self": null,
            "border": null,
            "bottom": null,
            "display": null,
            "flex": null,
            "flex_flow": null,
            "grid_area": null,
            "grid_auto_columns": null,
            "grid_auto_flow": null,
            "grid_auto_rows": null,
            "grid_column": null,
            "grid_gap": null,
            "grid_row": null,
            "grid_template_areas": null,
            "grid_template_columns": null,
            "grid_template_rows": null,
            "height": null,
            "justify_content": null,
            "justify_items": null,
            "left": null,
            "margin": null,
            "max_height": null,
            "max_width": null,
            "min_height": null,
            "min_width": null,
            "object_fit": null,
            "object_position": null,
            "order": null,
            "overflow": null,
            "overflow_x": null,
            "overflow_y": null,
            "padding": null,
            "right": null,
            "top": null,
            "visibility": null,
            "width": null
          }
        },
        "a1eb1ec8ac544a8b9e7d81639a138fc1": {
          "model_module": "@jupyter-widgets/base",
          "model_module_version": "1.2.0",
          "model_name": "LayoutModel",
          "state": {
            "_model_module": "@jupyter-widgets/base",
            "_model_module_version": "1.2.0",
            "_model_name": "LayoutModel",
            "_view_count": null,
            "_view_module": "@jupyter-widgets/base",
            "_view_module_version": "1.2.0",
            "_view_name": "LayoutView",
            "align_content": null,
            "align_items": null,
            "align_self": null,
            "border": null,
            "bottom": null,
            "display": null,
            "flex": null,
            "flex_flow": null,
            "grid_area": null,
            "grid_auto_columns": null,
            "grid_auto_flow": null,
            "grid_auto_rows": null,
            "grid_column": null,
            "grid_gap": null,
            "grid_row": null,
            "grid_template_areas": null,
            "grid_template_columns": null,
            "grid_template_rows": null,
            "height": null,
            "justify_content": null,
            "justify_items": null,
            "left": null,
            "margin": null,
            "max_height": null,
            "max_width": null,
            "min_height": null,
            "min_width": null,
            "object_fit": null,
            "object_position": null,
            "order": null,
            "overflow": null,
            "overflow_x": null,
            "overflow_y": null,
            "padding": null,
            "right": null,
            "top": null,
            "visibility": null,
            "width": null
          }
        },
        "bb898768eec34324b30d5b61a1bc50c9": {
          "model_module": "@jupyter-widgets/controls",
          "model_module_version": "1.5.0",
          "model_name": "HTMLModel",
          "state": {
            "_dom_classes": [],
            "_model_module": "@jupyter-widgets/controls",
            "_model_module_version": "1.5.0",
            "_model_name": "HTMLModel",
            "_view_count": null,
            "_view_module": "@jupyter-widgets/controls",
            "_view_module_version": "1.5.0",
            "_view_name": "HTMLView",
            "description": "",
            "description_tooltip": null,
            "layout": "IPY_MODEL_9f3c9a72150a45c68cd743e7eb325146",
            "placeholder": "​",
            "style": "IPY_MODEL_e7ec30de7243474abbd224370cbc1efb",
            "value": ""
          }
        },
        "db257944a4f54973b639d1acd9b39522": {
          "model_module": "@jupyter-widgets/controls",
          "model_module_version": "1.5.0",
          "model_name": "DescriptionStyleModel",
          "state": {
            "_model_module": "@jupyter-widgets/controls",
            "_model_module_version": "1.5.0",
            "_model_name": "DescriptionStyleModel",
            "_view_count": null,
            "_view_module": "@jupyter-widgets/base",
            "_view_module_version": "1.2.0",
            "_view_name": "StyleView",
            "description_width": ""
          }
        },
        "dc075e1c29994a53a93ab4a729199874": {
          "model_module": "@jupyter-widgets/controls",
          "model_module_version": "1.5.0",
          "model_name": "ProgressStyleModel",
          "state": {
            "_model_module": "@jupyter-widgets/controls",
            "_model_module_version": "1.5.0",
            "_model_name": "ProgressStyleModel",
            "_view_count": null,
            "_view_module": "@jupyter-widgets/base",
            "_view_module_version": "1.2.0",
            "_view_name": "StyleView",
            "bar_color": null,
            "description_width": ""
          }
        },
        "e7ec30de7243474abbd224370cbc1efb": {
          "model_module": "@jupyter-widgets/controls",
          "model_module_version": "1.5.0",
          "model_name": "DescriptionStyleModel",
          "state": {
            "_model_module": "@jupyter-widgets/controls",
            "_model_module_version": "1.5.0",
            "_model_name": "DescriptionStyleModel",
            "_view_count": null,
            "_view_module": "@jupyter-widgets/base",
            "_view_module_version": "1.2.0",
            "_view_name": "StyleView",
            "description_width": ""
          }
        },
        "ed4d0e5821034a88920f7ea1231d7ac1": {
          "model_module": "@jupyter-widgets/controls",
          "model_module_version": "1.5.0",
          "model_name": "HTMLModel",
          "state": {
            "_dom_classes": [],
            "_model_module": "@jupyter-widgets/controls",
            "_model_module_version": "1.5.0",
            "_model_name": "HTMLModel",
            "_view_count": null,
            "_view_module": "@jupyter-widgets/controls",
            "_view_module_version": "1.5.0",
            "_view_name": "HTMLView",
            "description": "",
            "description_tooltip": null,
            "layout": "IPY_MODEL_6ab3d1f393ee40f29e23f6d87e461ea7",
            "placeholder": "​",
            "style": "IPY_MODEL_66728671af3949e3bd6570edff6df03d",
            "value": "100%"
          }
        },
        "eec4972d98834eb3b3e60d86c93c151f": {
          "model_module": "@jupyter-widgets/base",
          "model_module_version": "1.2.0",
          "model_name": "LayoutModel",
          "state": {
            "_model_module": "@jupyter-widgets/base",
            "_model_module_version": "1.2.0",
            "_model_name": "LayoutModel",
            "_view_count": null,
            "_view_module": "@jupyter-widgets/base",
            "_view_module_version": "1.2.0",
            "_view_name": "LayoutView",
            "align_content": null,
            "align_items": null,
            "align_self": null,
            "border": null,
            "bottom": null,
            "display": null,
            "flex": null,
            "flex_flow": null,
            "grid_area": null,
            "grid_auto_columns": null,
            "grid_auto_flow": null,
            "grid_auto_rows": null,
            "grid_column": null,
            "grid_gap": null,
            "grid_row": null,
            "grid_template_areas": null,
            "grid_template_columns": null,
            "grid_template_rows": null,
            "height": null,
            "justify_content": null,
            "justify_items": null,
            "left": null,
            "margin": null,
            "max_height": null,
            "max_width": null,
            "min_height": null,
            "min_width": null,
            "object_fit": null,
            "object_position": null,
            "order": null,
            "overflow": null,
            "overflow_x": null,
            "overflow_y": null,
            "padding": null,
            "right": null,
            "top": null,
            "visibility": null,
            "width": null
          }
        }
      }
    }
  },
  "nbformat": 4,
  "nbformat_minor": 0
}
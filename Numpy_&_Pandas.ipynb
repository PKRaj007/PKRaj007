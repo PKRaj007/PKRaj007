{
  "nbformat": 4,
  "nbformat_minor": 0,
  "metadata": {
    "colab": {
      "name": "Numpy & Pandas.ipynb",
      "provenance": [],
      "toc_visible": true,
      "authorship_tag": "ABX9TyOFNQsiD8BeVp8lPLeHBBH5",
      "include_colab_link": true
    },
    "kernelspec": {
      "name": "python3",
      "display_name": "Python 3"
    },
    "language_info": {
      "name": "python"
    }
  },
  "cells": [
    {
      "cell_type": "markdown",
      "metadata": {
        "id": "view-in-github",
        "colab_type": "text"
      },
      "source": [
        "<a href=\"https://colab.research.google.com/github/PKRaj007/PKRaj007/blob/main/Numpy_%26_Pandas.ipynb\" target=\"_parent\"><img src=\"https://colab.research.google.com/assets/colab-badge.svg\" alt=\"Open In Colab\"/></a>"
      ]
    },
    {
      "cell_type": "code",
      "metadata": {
        "id": "f232C0CivDAf"
      },
      "source": [
        "import numpy as np\n",
        "import pandas as pd\n",
        "from matplotlib import pyplot as plt"
      ],
      "execution_count": null,
      "outputs": []
    },
    {
      "cell_type": "code",
      "metadata": {
        "colab": {
          "base_uri": "https://localhost:8080/"
        },
        "id": "6_bS3o8swrAm",
        "outputId": "bc6464ab-b980-4f8a-a15a-efb7aec0a55c"
      },
      "source": [
        "A = np.array([[11,22,33], [44,55,66], [77, 88 ,99]])\n",
        "print(\"=============A==============\")\n",
        "print(\"Shape of A:\", A.shape)\n",
        "print(A)\n",
        "\n",
        "print(\"\\n=============A0==============\")\n",
        "A0 = np.zeros((3, 3))\n",
        "print(A0)\n",
        "\n",
        "print(\"\\n=============A1==============\")\n",
        "A1 = np.ones((3, 3))\n",
        "print(A1)"
      ],
      "execution_count": null,
      "outputs": [
        {
          "output_type": "stream",
          "name": "stdout",
          "text": [
            "=============A==============\n",
            "Shape of A: (3, 3)\n",
            "[[11 22 33]\n",
            " [44 55 66]\n",
            " [77 88 99]]\n",
            "\n",
            "=============A0==============\n",
            "[[0. 0. 0.]\n",
            " [0. 0. 0.]\n",
            " [0. 0. 0.]]\n",
            "\n",
            "=============A1==============\n",
            "[[1. 1. 1.]\n",
            " [1. 1. 1.]\n",
            " [1. 1. 1.]]\n"
          ]
        }
      ]
    },
    {
      "cell_type": "code",
      "metadata": {
        "colab": {
          "base_uri": "https://localhost:8080/"
        },
        "id": "9eexnKO6w2Jr",
        "outputId": "d720fb7c-6452-437c-d8c4-89b17f54ca7c"
      },
      "source": [
        "A = np.array([[1, 5, 6, 7, 8], [6, 3, 7, 12, 65], [11, 6, 78, 35, 62], [8, 94, 28, 35, 52], [4, 6, 8, 31, 15]])\n",
        "print(\"=============A==============\")\n",
        "print(A)\n",
        "\n",
        "print(\"==========indexing==========\")\n",
        "print(A[2, 4], A[1, -1])\n",
        "\n",
        "print(\"===========slicing==========\")\n",
        "print(A[2: 4, 3: 5], end=\"\\n\\n\")\n",
        "print(A[:3, 3:], end=\"\\n\\n\")\n",
        "print(A[-1, :-1])"
      ],
      "execution_count": null,
      "outputs": [
        {
          "output_type": "stream",
          "name": "stdout",
          "text": [
            "=============A==============\n",
            "[[ 1  5  6  7  8]\n",
            " [ 6  3  7 12 65]\n",
            " [11  6 78 35 62]\n",
            " [ 8 94 28 35 52]\n",
            " [ 4  6  8 31 15]]\n",
            "==========indexing==========\n",
            "62 65\n",
            "===========slicing==========\n",
            "[[35 62]\n",
            " [35 52]]\n",
            "\n",
            "[[ 7  8]\n",
            " [12 65]\n",
            " [35 62]]\n",
            "\n",
            "[ 4  6  8 31]\n"
          ]
        }
      ]
    },
    {
      "cell_type": "code",
      "metadata": {
        "colab": {
          "base_uri": "https://localhost:8080/"
        },
        "id": "44Nbs68Dw-IV",
        "outputId": "1733a94c-e6f7-478d-a9fb-d575bbd88bea"
      },
      "source": [
        "A = np.array([[3, 1, 5], [6, 7, 4], [8, 4, 9]])\n",
        "B = np.array([[2, 7, 8], [4, 1, 6], [3, 5, 6]])\n",
        "\n",
        "print(\"===========matrix addition==========\")\n",
        "print(A + B)\n",
        "\n",
        "print(\"\\n========scaler multiplication=======\")\n",
        "print(A * 2)\n",
        "\n",
        "print(\"\\n=============dot product============\")\n",
        "print(A * B)\n",
        "\n",
        "print(\"\\n========matrix multiplication=======\")\n",
        "print(np.matmul(A, B))"
      ],
      "execution_count": null,
      "outputs": [
        {
          "output_type": "stream",
          "name": "stdout",
          "text": [
            "===========matrix addition==========\n",
            "[[ 5  8 13]\n",
            " [10  8 10]\n",
            " [11  9 15]]\n",
            "\n",
            "========scaler multiplication=======\n",
            "[[ 6  2 10]\n",
            " [12 14  8]\n",
            " [16  8 18]]\n",
            "\n",
            "=============dot product============\n",
            "[[ 6  7 40]\n",
            " [24  7 24]\n",
            " [24 20 54]]\n",
            "\n",
            "========matrix multiplication=======\n",
            "[[ 25  47  60]\n",
            " [ 52  69 114]\n",
            " [ 59 105 142]]\n"
          ]
        }
      ]
    },
    {
      "cell_type": "code",
      "metadata": {
        "colab": {
          "base_uri": "https://localhost:8080/"
        },
        "id": "vTj0ZMsUxE_i",
        "outputId": "04da2ce4-3dfc-4351-8fe5-4ddda99d345a"
      },
      "source": [
        "A = np.array([[1, 5, 6, 7], [6, 3, 7, 12], [11, 6, 78, 35], [8, 94, 28, 35], [4, 6, 8, 31]])\n",
        "print(\"=============A==============\")\n",
        "print(\"Shape of A:\", A.shape)\n",
        "print(A)\n",
        "\n",
        "print(\"\\n========max element=========\")\n",
        "print(A.max())\n",
        "\n",
        "print(\"\\n==max element of each rows==\")\n",
        "print(A.max(axis=1))\n",
        "\n",
        "print(\"\\n==max element of each cols==\")\n",
        "print(A.max(axis=0))\n",
        "\n",
        "print(\"\\n========argument max=========\")\n",
        "print(A.argmax(axis=0))\n",
        "\n",
        "print(\"\\n============mean=============\")\n",
        "print(A.mean(axis=1))\n",
        "\n",
        "print(\"\\n=============sum=============\")\n",
        "print(A.sum(axis=1))"
      ],
      "execution_count": null,
      "outputs": [
        {
          "output_type": "stream",
          "name": "stdout",
          "text": [
            "=============A==============\n",
            "Shape of A: (5, 4)\n",
            "[[ 1  5  6  7]\n",
            " [ 6  3  7 12]\n",
            " [11  6 78 35]\n",
            " [ 8 94 28 35]\n",
            " [ 4  6  8 31]]\n",
            "\n",
            "========max element=========\n",
            "94\n",
            "\n",
            "==max element of each rows==\n",
            "[ 7 12 78 94 31]\n",
            "\n",
            "==max element of each cols==\n",
            "[11 94 78 35]\n",
            "\n",
            "========argument max=========\n",
            "[2 3 2 2]\n",
            "\n",
            "============mean=============\n",
            "[ 4.75  7.   32.5  41.25 12.25]\n",
            "\n",
            "=============sum=============\n",
            "[ 19  28 130 165  49]\n"
          ]
        }
      ]
    },
    {
      "cell_type": "code",
      "metadata": {
        "colab": {
          "base_uri": "https://localhost:8080/"
        },
        "id": "nGpsPI8t6fiZ",
        "outputId": "277817e9-b6ff-40f9-ea10-1d79fe6fa858"
      },
      "source": [
        "from google.colab import drive\n",
        "drive.mount('/content/grive')"
      ],
      "execution_count": null,
      "outputs": [
        {
          "output_type": "stream",
          "name": "stdout",
          "text": [
            "Mounted at /content/grive\n"
          ]
        }
      ]
    },
    {
      "cell_type": "markdown",
      "metadata": {
        "id": "GPwwIwc9Eh-H"
      },
      "source": [
        "pandas"
      ]
    },
    {
      "cell_type": "code",
      "metadata": {
        "id": "5IfgJCe7BHgR"
      },
      "source": [
        "df=pd.read_csv('/content/grive/MyDrive/Datasets-20210927T104936Z-001/Datasets/sample.csv')"
      ],
      "execution_count": null,
      "outputs": []
    },
    {
      "cell_type": "code",
      "metadata": {
        "colab": {
          "base_uri": "https://localhost:8080/",
          "height": 203
        },
        "id": "f6t4SmnZDYth",
        "outputId": "c5423dfd-922d-4ceb-ec08-d276612a3e3e"
      },
      "source": [
        "df.head()"
      ],
      "execution_count": null,
      "outputs": [
        {
          "output_type": "execute_result",
          "data": {
            "text/html": [
              "<div>\n",
              "<style scoped>\n",
              "    .dataframe tbody tr th:only-of-type {\n",
              "        vertical-align: middle;\n",
              "    }\n",
              "\n",
              "    .dataframe tbody tr th {\n",
              "        vertical-align: top;\n",
              "    }\n",
              "\n",
              "    .dataframe thead th {\n",
              "        text-align: right;\n",
              "    }\n",
              "</style>\n",
              "<table border=\"1\" class=\"dataframe\">\n",
              "  <thead>\n",
              "    <tr style=\"text-align: right;\">\n",
              "      <th></th>\n",
              "      <th>col0</th>\n",
              "      <th>col1</th>\n",
              "      <th>col2</th>\n",
              "      <th>col3</th>\n",
              "    </tr>\n",
              "  </thead>\n",
              "  <tbody>\n",
              "    <tr>\n",
              "      <th>0</th>\n",
              "      <td>13</td>\n",
              "      <td>0.5165</td>\n",
              "      <td>-0.3318</td>\n",
              "      <td>B</td>\n",
              "    </tr>\n",
              "    <tr>\n",
              "      <th>1</th>\n",
              "      <td>4</td>\n",
              "      <td>0.9757</td>\n",
              "      <td>-0.3421</td>\n",
              "      <td>A</td>\n",
              "    </tr>\n",
              "    <tr>\n",
              "      <th>2</th>\n",
              "      <td>10</td>\n",
              "      <td>0.9461</td>\n",
              "      <td>-0.0642</td>\n",
              "      <td>B</td>\n",
              "    </tr>\n",
              "    <tr>\n",
              "      <th>3</th>\n",
              "      <td>10</td>\n",
              "      <td>0.6824</td>\n",
              "      <td>-0.6002</td>\n",
              "      <td>B</td>\n",
              "    </tr>\n",
              "    <tr>\n",
              "      <th>4</th>\n",
              "      <td>23</td>\n",
              "      <td>0.0421</td>\n",
              "      <td>-0.4023</td>\n",
              "      <td>B</td>\n",
              "    </tr>\n",
              "  </tbody>\n",
              "</table>\n",
              "</div>"
            ],
            "text/plain": [
              "   col0    col1    col2 col3\n",
              "0    13  0.5165 -0.3318    B\n",
              "1     4  0.9757 -0.3421    A\n",
              "2    10  0.9461 -0.0642    B\n",
              "3    10  0.6824 -0.6002    B\n",
              "4    23  0.0421 -0.4023    B"
            ]
          },
          "metadata": {},
          "execution_count": 18
        }
      ]
    },
    {
      "cell_type": "code",
      "metadata": {
        "colab": {
          "base_uri": "https://localhost:8080/",
          "height": 304
        },
        "id": "gOW5c010DtJy",
        "outputId": "09f78c92-f226-4dd4-c6b3-91b9d5d45112"
      },
      "source": [
        "col1 = df['col1']\n",
        "print(col1.head())\n",
        "df.tail()"
      ],
      "execution_count": null,
      "outputs": [
        {
          "output_type": "stream",
          "name": "stdout",
          "text": [
            "0    0.5165\n",
            "1    0.9757\n",
            "2    0.9461\n",
            "3    0.6824\n",
            "4    0.0421\n",
            "Name: col1, dtype: float64\n"
          ]
        },
        {
          "output_type": "execute_result",
          "data": {
            "text/html": [
              "<div>\n",
              "<style scoped>\n",
              "    .dataframe tbody tr th:only-of-type {\n",
              "        vertical-align: middle;\n",
              "    }\n",
              "\n",
              "    .dataframe tbody tr th {\n",
              "        vertical-align: top;\n",
              "    }\n",
              "\n",
              "    .dataframe thead th {\n",
              "        text-align: right;\n",
              "    }\n",
              "</style>\n",
              "<table border=\"1\" class=\"dataframe\">\n",
              "  <thead>\n",
              "    <tr style=\"text-align: right;\">\n",
              "      <th></th>\n",
              "      <th>col0</th>\n",
              "      <th>col1</th>\n",
              "      <th>col2</th>\n",
              "      <th>col3</th>\n",
              "    </tr>\n",
              "  </thead>\n",
              "  <tbody>\n",
              "    <tr>\n",
              "      <th>15</th>\n",
              "      <td>18</td>\n",
              "      <td>0.3851</td>\n",
              "      <td>-0.2747</td>\n",
              "      <td>A</td>\n",
              "    </tr>\n",
              "    <tr>\n",
              "      <th>16</th>\n",
              "      <td>19</td>\n",
              "      <td>0.5284</td>\n",
              "      <td>-0.8566</td>\n",
              "      <td>B</td>\n",
              "    </tr>\n",
              "    <tr>\n",
              "      <th>17</th>\n",
              "      <td>14</td>\n",
              "      <td>0.9615</td>\n",
              "      <td>-0.6571</td>\n",
              "      <td>B</td>\n",
              "    </tr>\n",
              "    <tr>\n",
              "      <th>18</th>\n",
              "      <td>4</td>\n",
              "      <td>0.8414</td>\n",
              "      <td>-0.6418</td>\n",
              "      <td>B</td>\n",
              "    </tr>\n",
              "    <tr>\n",
              "      <th>19</th>\n",
              "      <td>15</td>\n",
              "      <td>0.9611</td>\n",
              "      <td>-0.0937</td>\n",
              "      <td>A</td>\n",
              "    </tr>\n",
              "  </tbody>\n",
              "</table>\n",
              "</div>"
            ],
            "text/plain": [
              "    col0    col1    col2 col3\n",
              "15    18  0.3851 -0.2747    A\n",
              "16    19  0.5284 -0.8566    B\n",
              "17    14  0.9615 -0.6571    B\n",
              "18     4  0.8414 -0.6418    B\n",
              "19    15  0.9611 -0.0937    A"
            ]
          },
          "metadata": {},
          "execution_count": 19
        }
      ]
    },
    {
      "cell_type": "code",
      "metadata": {
        "colab": {
          "base_uri": "https://localhost:8080/"
        },
        "id": "1AeqU6xoFAag",
        "outputId": "63cf543a-0c1c-4c1e-c116-86f87f4667fb"
      },
      "source": [
        "print(\"===========get 0th row==========\")\n",
        "print(df.iloc[0])\n",
        "\n",
        "print(\"\\n===========get element==========\")\n",
        "print(df.iloc[2, 1])\n",
        "\n",
        "print(\"\\n============get col 1===========\")\n",
        "df.iloc[:, 1]"
      ],
      "execution_count": null,
      "outputs": [
        {
          "output_type": "stream",
          "name": "stdout",
          "text": [
            "===========get 0th row==========\n",
            "col0        13\n",
            "col1    0.5165\n",
            "col2   -0.3318\n",
            "col3         B\n",
            "Name: 0, dtype: object\n",
            "\n",
            "===========get element==========\n",
            "0.9461\n",
            "\n",
            "============get col 1===========\n"
          ]
        },
        {
          "output_type": "execute_result",
          "data": {
            "text/plain": [
              "0     0.5165\n",
              "1     0.9757\n",
              "2     0.9461\n",
              "3     0.6824\n",
              "4     0.0421\n",
              "5     0.7638\n",
              "6     0.6664\n",
              "7     0.6572\n",
              "8     0.8265\n",
              "9     0.8055\n",
              "10    0.0032\n",
              "11    0.2241\n",
              "12    0.8416\n",
              "13    0.6492\n",
              "14    0.5864\n",
              "15    0.3851\n",
              "16    0.5284\n",
              "17    0.9615\n",
              "18    0.8414\n",
              "19    0.9611\n",
              "Name: col1, dtype: float64"
            ]
          },
          "metadata": {},
          "execution_count": 20
        }
      ]
    },
    {
      "cell_type": "code",
      "metadata": {
        "colab": {
          "base_uri": "https://localhost:8080/",
          "height": 220
        },
        "id": "B_Nq0IUjFXUR",
        "outputId": "d1a7b704-fdd8-41c8-bd11-d4af9aacc717"
      },
      "source": [
        "print(\"===========slicing==========\")\n",
        "df.iloc[:5, 1:-1]"
      ],
      "execution_count": null,
      "outputs": [
        {
          "output_type": "stream",
          "name": "stdout",
          "text": [
            "===========slicing==========\n"
          ]
        },
        {
          "output_type": "execute_result",
          "data": {
            "text/html": [
              "<div>\n",
              "<style scoped>\n",
              "    .dataframe tbody tr th:only-of-type {\n",
              "        vertical-align: middle;\n",
              "    }\n",
              "\n",
              "    .dataframe tbody tr th {\n",
              "        vertical-align: top;\n",
              "    }\n",
              "\n",
              "    .dataframe thead th {\n",
              "        text-align: right;\n",
              "    }\n",
              "</style>\n",
              "<table border=\"1\" class=\"dataframe\">\n",
              "  <thead>\n",
              "    <tr style=\"text-align: right;\">\n",
              "      <th></th>\n",
              "      <th>col1</th>\n",
              "      <th>col2</th>\n",
              "    </tr>\n",
              "  </thead>\n",
              "  <tbody>\n",
              "    <tr>\n",
              "      <th>0</th>\n",
              "      <td>0.5165</td>\n",
              "      <td>-0.3318</td>\n",
              "    </tr>\n",
              "    <tr>\n",
              "      <th>1</th>\n",
              "      <td>0.9757</td>\n",
              "      <td>-0.3421</td>\n",
              "    </tr>\n",
              "    <tr>\n",
              "      <th>2</th>\n",
              "      <td>0.9461</td>\n",
              "      <td>-0.0642</td>\n",
              "    </tr>\n",
              "    <tr>\n",
              "      <th>3</th>\n",
              "      <td>0.6824</td>\n",
              "      <td>-0.6002</td>\n",
              "    </tr>\n",
              "    <tr>\n",
              "      <th>4</th>\n",
              "      <td>0.0421</td>\n",
              "      <td>-0.4023</td>\n",
              "    </tr>\n",
              "  </tbody>\n",
              "</table>\n",
              "</div>"
            ],
            "text/plain": [
              "     col1    col2\n",
              "0  0.5165 -0.3318\n",
              "1  0.9757 -0.3421\n",
              "2  0.9461 -0.0642\n",
              "3  0.6824 -0.6002\n",
              "4  0.0421 -0.4023"
            ]
          },
          "metadata": {},
          "execution_count": 21
        }
      ]
    },
    {
      "cell_type": "code",
      "metadata": {
        "colab": {
          "base_uri": "https://localhost:8080/"
        },
        "id": "y70im9NFFrSj",
        "outputId": "1f7725ee-929e-456f-eadd-514174ba5b37"
      },
      "source": [
        "print(\"=========mean of col2========\")\n",
        "print(df['col2'].mean())\n",
        "\n",
        "print(\"\\n===unique elements of col3===\")\n",
        "print(df['col3'].unique())"
      ],
      "execution_count": null,
      "outputs": [
        {
          "output_type": "stream",
          "name": "stdout",
          "text": [
            "=========mean of col2========\n",
            "-0.573335\n",
            "\n",
            "===unique elements of col3===\n",
            "['B' 'A']\n"
          ]
        }
      ]
    },
    {
      "cell_type": "code",
      "metadata": {
        "colab": {
          "base_uri": "https://localhost:8080/",
          "height": 326
        },
        "id": "7E-DAWF9F2lk",
        "outputId": "ead926db-348a-47f5-8a23-cfcacdb7d43d"
      },
      "source": [
        "df.loc[ df['col3']=='A' ]"
      ],
      "execution_count": null,
      "outputs": [
        {
          "output_type": "execute_result",
          "data": {
            "text/html": [
              "<div>\n",
              "<style scoped>\n",
              "    .dataframe tbody tr th:only-of-type {\n",
              "        vertical-align: middle;\n",
              "    }\n",
              "\n",
              "    .dataframe tbody tr th {\n",
              "        vertical-align: top;\n",
              "    }\n",
              "\n",
              "    .dataframe thead th {\n",
              "        text-align: right;\n",
              "    }\n",
              "</style>\n",
              "<table border=\"1\" class=\"dataframe\">\n",
              "  <thead>\n",
              "    <tr style=\"text-align: right;\">\n",
              "      <th></th>\n",
              "      <th>col0</th>\n",
              "      <th>col1</th>\n",
              "      <th>col2</th>\n",
              "      <th>col3</th>\n",
              "    </tr>\n",
              "  </thead>\n",
              "  <tbody>\n",
              "    <tr>\n",
              "      <th>1</th>\n",
              "      <td>4</td>\n",
              "      <td>0.9757</td>\n",
              "      <td>-0.3421</td>\n",
              "      <td>A</td>\n",
              "    </tr>\n",
              "    <tr>\n",
              "      <th>6</th>\n",
              "      <td>20</td>\n",
              "      <td>0.6664</td>\n",
              "      <td>-0.9480</td>\n",
              "      <td>A</td>\n",
              "    </tr>\n",
              "    <tr>\n",
              "      <th>9</th>\n",
              "      <td>7</td>\n",
              "      <td>0.8055</td>\n",
              "      <td>-0.9577</td>\n",
              "      <td>A</td>\n",
              "    </tr>\n",
              "    <tr>\n",
              "      <th>10</th>\n",
              "      <td>22</td>\n",
              "      <td>0.0032</td>\n",
              "      <td>-0.1939</td>\n",
              "      <td>A</td>\n",
              "    </tr>\n",
              "    <tr>\n",
              "      <th>12</th>\n",
              "      <td>19</td>\n",
              "      <td>0.8416</td>\n",
              "      <td>-0.7359</td>\n",
              "      <td>A</td>\n",
              "    </tr>\n",
              "    <tr>\n",
              "      <th>13</th>\n",
              "      <td>15</td>\n",
              "      <td>0.6492</td>\n",
              "      <td>-0.8979</td>\n",
              "      <td>A</td>\n",
              "    </tr>\n",
              "    <tr>\n",
              "      <th>14</th>\n",
              "      <td>2</td>\n",
              "      <td>0.5864</td>\n",
              "      <td>-0.6302</td>\n",
              "      <td>A</td>\n",
              "    </tr>\n",
              "    <tr>\n",
              "      <th>15</th>\n",
              "      <td>18</td>\n",
              "      <td>0.3851</td>\n",
              "      <td>-0.2747</td>\n",
              "      <td>A</td>\n",
              "    </tr>\n",
              "    <tr>\n",
              "      <th>19</th>\n",
              "      <td>15</td>\n",
              "      <td>0.9611</td>\n",
              "      <td>-0.0937</td>\n",
              "      <td>A</td>\n",
              "    </tr>\n",
              "  </tbody>\n",
              "</table>\n",
              "</div>"
            ],
            "text/plain": [
              "    col0    col1    col2 col3\n",
              "1      4  0.9757 -0.3421    A\n",
              "6     20  0.6664 -0.9480    A\n",
              "9      7  0.8055 -0.9577    A\n",
              "10    22  0.0032 -0.1939    A\n",
              "12    19  0.8416 -0.7359    A\n",
              "13    15  0.6492 -0.8979    A\n",
              "14     2  0.5864 -0.6302    A\n",
              "15    18  0.3851 -0.2747    A\n",
              "19    15  0.9611 -0.0937    A"
            ]
          },
          "metadata": {},
          "execution_count": 23
        }
      ]
    },
    {
      "cell_type": "code",
      "metadata": {
        "colab": {
          "base_uri": "https://localhost:8080/",
          "height": 110
        },
        "id": "N8rtg540GBGL",
        "outputId": "b51da274-140a-4db0-c439-21c66d5e01e8"
      },
      "source": [
        "df.loc[ (df['col0'] == 10) & (df['col1'] > 0.7) ]"
      ],
      "execution_count": null,
      "outputs": [
        {
          "output_type": "execute_result",
          "data": {
            "text/html": [
              "<div>\n",
              "<style scoped>\n",
              "    .dataframe tbody tr th:only-of-type {\n",
              "        vertical-align: middle;\n",
              "    }\n",
              "\n",
              "    .dataframe tbody tr th {\n",
              "        vertical-align: top;\n",
              "    }\n",
              "\n",
              "    .dataframe thead th {\n",
              "        text-align: right;\n",
              "    }\n",
              "</style>\n",
              "<table border=\"1\" class=\"dataframe\">\n",
              "  <thead>\n",
              "    <tr style=\"text-align: right;\">\n",
              "      <th></th>\n",
              "      <th>col0</th>\n",
              "      <th>col1</th>\n",
              "      <th>col2</th>\n",
              "      <th>col3</th>\n",
              "    </tr>\n",
              "  </thead>\n",
              "  <tbody>\n",
              "    <tr>\n",
              "      <th>2</th>\n",
              "      <td>10</td>\n",
              "      <td>0.9461</td>\n",
              "      <td>-0.0642</td>\n",
              "      <td>B</td>\n",
              "    </tr>\n",
              "    <tr>\n",
              "      <th>8</th>\n",
              "      <td>10</td>\n",
              "      <td>0.8265</td>\n",
              "      <td>-0.8112</td>\n",
              "      <td>B</td>\n",
              "    </tr>\n",
              "  </tbody>\n",
              "</table>\n",
              "</div>"
            ],
            "text/plain": [
              "   col0    col1    col2 col3\n",
              "2    10  0.9461 -0.0642    B\n",
              "8    10  0.8265 -0.8112    B"
            ]
          },
          "metadata": {},
          "execution_count": 24
        }
      ]
    },
    {
      "cell_type": "markdown",
      "metadata": {
        "id": "msdVEadOGNw7"
      },
      "source": [
        "MatPlotlib"
      ]
    },
    {
      "cell_type": "code",
      "metadata": {
        "colab": {
          "base_uri": "https://localhost:8080/",
          "height": 265
        },
        "id": "s1Ane2S4GJoC",
        "outputId": "01340db0-a83b-4452-d713-41dae791dde6"
      },
      "source": [
        "x = [1, 5, 7, 8]\n",
        "y = [3, 4, 6, 3.5]\n",
        "plt.plot(x, y, marker='o', c='red')\n",
        "plt.show()"
      ],
      "execution_count": null,
      "outputs": [
        {
          "output_type": "display_data",
          "data": {
            "image/png": "[encoded data removed]",
            "text/plain": [
              "<Figure size 432x288 with 1 Axes>"
            ]
          },
          "metadata": {
            "needs_background": "light"
          }
        }
      ]
    },
    {
      "cell_type": "code",
      "metadata": {
        "colab": {
          "base_uri": "https://localhost:8080/",
          "height": 265
        },
        "id": "FXLvFnQcGeje",
        "outputId": "2a2de344-2af5-4286-8d0b-800fb628eb48"
      },
      "source": [
        "x = np.arange(1, 1000)\n",
        "y_log = np.log(x)\n",
        "y_log10 = np.log10(x)\n",
        "y_log2 = np.log2(x)\n",
        "\n",
        "plt.plot(x, y_log, c=\"C0\", label='log')\n",
        "plt.plot(x, y_log10, c=\"C1\", label='log10')\n",
        "plt.plot(x, y_log2, c=\"C2\", label='log2')\n",
        "\n",
        "plt.legend()\n",
        "plt.show()"
      ],
      "execution_count": null,
      "outputs": [
        {
          "output_type": "display_data",
          "data": {
            "image/png": "[encoded data removed]",
            "text/plain": [
              "<Figure size 432x288 with 1 Axes>"
            ]
          },
          "metadata": {
            "needs_background": "light"
          }
        }
      ]
    },
    {
      "cell_type": "code",
      "metadata": {
        "colab": {
          "base_uri": "https://localhost:8080/",
          "height": 281
        },
        "id": "z9Jh0nzhGmQZ",
        "outputId": "2a0f970f-3227-49f0-892a-c5ba7e6fbfa1"
      },
      "source": [
        "x, y = df['col1'], df['col2']\n",
        "plt.title('example of scatter plot')\n",
        "plt.scatter(x, y)\n",
        "plt.show()"
      ],
      "execution_count": null,
      "outputs": [
        {
          "output_type": "display_data",
          "data": {
            "image/png": "[encoded data removed]",
            "text/plain": [
              "<Figure size 432x288 with 1 Axes>"
            ]
          },
          "metadata": {
            "needs_background": "light"
          }
        }
      ]
    },
    {
      "cell_type": "code",
      "metadata": {
        "colab": {
          "base_uri": "https://localhost:8080/",
          "height": 281
        },
        "id": "LqXHc2ClGswX",
        "outputId": "be95642d-9292-43c6-b688-cf7755e7b9ab"
      },
      "source": [
        "x = [2, 4, 6, 8]\n",
        "y = [4, 12, 7, 9]\n",
        "plt.title('example of bar chart')\n",
        "plt.bar(x, y)\n",
        "plt.show()"
      ],
      "execution_count": null,
      "outputs": [
        {
          "output_type": "display_data",
          "data": {
            "image/png": "[encoded data removed]",
            "text/plain": [
              "<Figure size 432x288 with 1 Axes>"
            ]
          },
          "metadata": {
            "needs_background": "light"
          }
        }
      ]
    },
    {
      "cell_type": "code",
      "metadata": {
        "colab": {
          "base_uri": "https://localhost:8080/",
          "height": 264
        },
        "id": "qEf2Ty4xGyhI",
        "outputId": "21f0ebb7-9237-43e9-83cb-77fff8b585f2"
      },
      "source": [
        "plt.title('example of pie chart')\n",
        "plt.pie([4, 1, 3, 2], autopct='%.1f%%')\n",
        "plt.show()"
      ],
      "execution_count": null,
      "outputs": [
        {
          "output_type": "display_data",
          "data": {
            "image/png": "[encoded data removed]",
            "text/plain": [
              "<Figure size 432x288 with 1 Axes>"
            ]
          },
          "metadata": {}
        }
      ]
    },
    {
      "cell_type": "code",
      "metadata": {
        "colab": {
          "base_uri": "https://localhost:8080/"
        },
        "id": "XHtkGtNFG1fE",
        "outputId": "c344c772-3c3c-4165-e168-c5a3b3addc35"
      },
      "source": [
        "X = np.array(df.iloc[:, : -1])\n",
        "X"
      ],
      "execution_count": null,
      "outputs": [
        {
          "output_type": "execute_result",
          "data": {
            "text/plain": [
              "array([[ 1.300e+01,  5.165e-01, -3.318e-01],\n",
              "       [ 4.000e+00,  9.757e-01, -3.421e-01],\n",
              "       [ 1.000e+01,  9.461e-01, -6.420e-02],\n",
              "       [ 1.000e+01,  6.824e-01, -6.002e-01],\n",
              "       [ 2.300e+01,  4.210e-02, -4.023e-01],\n",
              "       [ 2.300e+01,  7.638e-01, -6.860e-01],\n",
              "       [ 2.000e+01,  6.664e-01, -9.480e-01],\n",
              "       [ 9.000e+00,  6.572e-01, -6.978e-01],\n",
              "       [ 1.000e+01,  8.265e-01, -8.112e-01],\n",
              "       [ 7.000e+00,  8.055e-01, -9.577e-01],\n",
              "       [ 2.200e+01,  3.200e-03, -1.939e-01],\n",
              "       [ 3.000e+00,  2.241e-01, -6.436e-01],\n",
              "       [ 1.900e+01,  8.416e-01, -7.359e-01],\n",
              "       [ 1.500e+01,  6.492e-01, -8.979e-01],\n",
              "       [ 2.000e+00,  5.864e-01, -6.302e-01],\n",
              "       [ 1.800e+01,  3.851e-01, -2.747e-01],\n",
              "       [ 1.900e+01,  5.284e-01, -8.566e-01],\n",
              "       [ 1.400e+01,  9.615e-01, -6.571e-01],\n",
              "       [ 4.000e+00,  8.414e-01, -6.418e-01],\n",
              "       [ 1.500e+01,  9.611e-01, -9.370e-02]])"
            ]
          },
          "metadata": {},
          "execution_count": 30
        }
      ]
    }
  ]
}
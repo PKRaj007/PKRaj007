{
  "nbformat": 4,
  "nbformat_minor": 0,
  "metadata": {
    "colab": {
      "name": "VGG 16 implimented.ipynb",
      "provenance": [],
      "collapsed_sections": [],
      "include_colab_link": true
    },
    "kernelspec": {
      "name": "python3",
      "display_name": "Python 3"
    },
    "language_info": {
      "name": "python"
    },
    "accelerator": "GPU",
    "gpuClass": "standard"
  },
  "cells": [
    {
      "cell_type": "markdown",
      "metadata": {
        "id": "view-in-github",
        "colab_type": "text"
      },
      "source": [
        "<a href=\"https://colab.research.google.com/github/PKRaj007/PKRaj007/blob/main/VGG_16_implimented%20by%20Transfer%20learning.ipynb\" target=\"_parent\"><img src=\"https://colab.research.google.com/assets/colab-badge.svg\" alt=\"Open In Colab\"/></a>"
      ]
    },
    {
      "cell_type": "code",
      "execution_count": null,
      "metadata": {
        "id": "Q29liHwHsZS2"
      },
      "outputs": [],
      "source": [
        "# Pandas and Numpy for data structures and util fucntions\n",
        "import scipy as sp\n",
        "import numpy as np\n",
        "import pandas as pd\n",
        "from numpy.random import rand\n",
        "pd.options.display.max_colwidth = 600\n",
        "import time\n",
        "# Scikit Imports\n",
        "from sklearn import preprocessing\n",
        "from sklearn.metrics import roc_curve, auc, precision_recall_curve\n",
        "from sklearn.model_selection import train_test_split\n",
        "\n",
        "#import cnn_utils as utils\n",
        "#from model_evaluation_utils import get_metrics\n",
        "\n",
        "# Matplot Imports\n",
        "import matplotlib.pyplot as plt\n",
        "params = {'legend.fontsize': 'x-large',\n",
        "          'figure.figsize': (15, 5),\n",
        "          'axes.labelsize': 'x-large',\n",
        "          'axes.titlesize':'x-large',\n",
        "          'xtick.labelsize':'x-large',\n",
        "          'ytick.labelsize':'x-large'}\n",
        "\n",
        "plt.rcParams.update(params)\n",
        "%matplotlib inline\n",
        "\n",
        "# pandas display data frames as tables\n",
        "from IPython.display import display, HTML\n",
        "\n",
        "import warnings\n",
        "warnings.filterwarnings('ignore')"
      ]
    },
    {
      "cell_type": "code",
      "source": [
        "import tensorflow as tf\n"
      ],
      "metadata": {
        "id": "65sQBw8Z9Ape"
      },
      "execution_count": null,
      "outputs": []
    },
    {
      "cell_type": "code",
      "source": [
        "\n",
        "from keras import callbacks\n",
        "from keras import optimizers\n",
        "from keras.datasets import cifar10\n",
        "#from keras.engine import Model\n",
        "from keras.applications import vgg16 as vgg\n",
        "from keras.layers import Dropout, Flatten, Dense, GlobalAveragePooling2D,BatchNormalization\n",
        "from keras.preprocessing.image import ImageDataGenerator\n",
        "from keras.utils import np_utils\n"
      ],
      "metadata": {
        "id": "qHujSrVAu8Rl"
      },
      "execution_count": null,
      "outputs": []
    },
    {
      "cell_type": "code",
      "source": [
        "BATCH_SIZE = 32\n",
        "EPOCHS = 40\n",
        "NUM_CLASSES = 10\n",
        "LEARNING_RATE = 1e-4\n",
        "MOMENTUM = 0.9"
      ],
      "metadata": {
        "id": "bM-pOam_u9pJ"
      },
      "execution_count": null,
      "outputs": []
    },
    {
      "cell_type": "code",
      "source": [
        "(X_train, y_train), (X_test, y_test) = cifar10.load_data()"
      ],
      "metadata": {
        "id": "wKoInezyvDhE"
      },
      "execution_count": null,
      "outputs": []
    },
    {
      "cell_type": "code",
      "source": [
        "class_names = ['airplane', 'automobile', 'bird', 'cat', 'deer', 'dog', 'frog', 'horse', 'ship', 'truck']"
      ],
      "metadata": {
        "id": "9FHMsSjSXLhE"
      },
      "execution_count": null,
      "outputs": []
    },
    {
      "cell_type": "code",
      "source": [
        "X_newtest=X_test[:50]"
      ],
      "metadata": {
        "id": "sHLObZj3iOfw"
      },
      "execution_count": null,
      "outputs": []
    },
    {
      "cell_type": "code",
      "source": [
        "X_newtest.shape"
      ],
      "metadata": {
        "colab": {
          "base_uri": "https://localhost:8080/"
        },
        "id": "2sv1gvGLiY9o",
        "outputId": "3f5f1aec-155e-46c6-9b2d-1cd6be12d615"
      },
      "execution_count": null,
      "outputs": [
        {
          "output_type": "execute_result",
          "data": {
            "text/plain": [
              "(50, 48, 48, 3)"
            ]
          },
          "metadata": {},
          "execution_count": 82
        }
      ]
    },
    {
      "cell_type": "code",
      "source": [
        "Y_newtest=y_test[:50]"
      ],
      "metadata": {
        "id": "rupo6xMBiOaE"
      },
      "execution_count": null,
      "outputs": []
    },
    {
      "cell_type": "code",
      "source": [
        "Y_newtest.shape"
      ],
      "metadata": {
        "colab": {
          "base_uri": "https://localhost:8080/"
        },
        "id": "ocisZGhRijxJ",
        "outputId": "8d835441-69ed-4b5e-9d7c-2b2fd97ba56c"
      },
      "execution_count": null,
      "outputs": [
        {
          "output_type": "execute_result",
          "data": {
            "text/plain": [
              "(50, 1)"
            ]
          },
          "metadata": {},
          "execution_count": 84
        }
      ]
    },
    {
      "cell_type": "code",
      "source": [
        "X_train, X_val, y_train, y_val = train_test_split(X_train, \n",
        "                                                  y_train, \n",
        "                                                  test_size=0.15, \n",
        "                                                  stratify=np.array(y_train), \n",
        "                                                  random_state=42)"
      ],
      "metadata": {
        "id": "NjMxxTfvvRDg"
      },
      "execution_count": null,
      "outputs": []
    },
    {
      "cell_type": "code",
      "source": [
        "Y_train = np_utils.to_categorical(y_train, NUM_CLASSES)\n",
        "Y_val = np_utils.to_categorical(y_val, NUM_CLASSES)\n",
        "Y_test = np_utils.to_categorical(y_test, NUM_CLASSES)"
      ],
      "metadata": {
        "id": "QVOZZCebvU_T"
      },
      "execution_count": null,
      "outputs": []
    },
    {
      "cell_type": "code",
      "source": [
        "pip install scipy==1.2.2"
      ],
      "metadata": {
        "id": "tYfB720YyzXU",
        "colab": {
          "base_uri": "https://localhost:8080/"
        },
        "outputId": "d2d593fb-482d-4a2f-e97d-3df608fe5264"
      },
      "execution_count": null,
      "outputs": [
        {
          "output_type": "stream",
          "name": "stdout",
          "text": [
            "Looking in indexes: https://pypi.org/simple, https://us-python.pkg.dev/colab-wheels/public/simple/\n",
            "Requirement already satisfied: scipy==1.2.2 in /usr/local/lib/python3.7/dist-packages (1.2.2)\n",
            "Requirement already satisfied: numpy>=1.8.2 in /usr/local/lib/python3.7/dist-packages (from scipy==1.2.2) (1.21.6)\n"
          ]
        }
      ]
    },
    {
      "cell_type": "code",
      "source": [
        "X_train = np.array([sp.misc.imresize(x, \n",
        "                                     (48, 48)) for x in X_train])\n",
        "X_val = np.array([sp.misc.imresize(x, \n",
        "                                   (48, 48)) for x in X_val])\n",
        "X_test = np.array([sp.misc.imresize(x, \n",
        "                                    (48, 48)) for x in X_test])"
      ],
      "metadata": {
        "id": "679gkdrSvcke"
      },
      "execution_count": null,
      "outputs": []
    },
    {
      "cell_type": "code",
      "source": [
        "base_model = vgg.VGG16(weights='imagenet', \n",
        "                       include_top=False, \n",
        "                       input_shape=(48, 48, 3))"
      ],
      "metadata": {
        "id": "uj4QI-ARvdpZ",
        "colab": {
          "base_uri": "https://localhost:8080/"
        },
        "outputId": "3dc2f711-ad0a-46f7-bb9a-03a7fa135b9a"
      },
      "execution_count": null,
      "outputs": [
        {
          "output_type": "stream",
          "name": "stdout",
          "text": [
            "Downloading data from https://storage.googleapis.com/tensorflow/keras-applications/vgg16/vgg16_weights_tf_dim_ordering_tf_kernels_notop.h5\n",
            "58892288/58889256 [==============================] - 1s 0us/step\n",
            "58900480/58889256 [==============================] - 1s 0us/step\n"
          ]
        }
      ]
    },
    {
      "cell_type": "code",
      "source": [
        "last = base_model.get_layer('block3_pool').output"
      ],
      "metadata": {
        "id": "7URimRCovn81"
      },
      "execution_count": null,
      "outputs": []
    },
    {
      "cell_type": "code",
      "source": [
        "x = GlobalAveragePooling2D()(last)\n",
        "x= BatchNormalization()(x)\n",
        "x = Dense(256, activation='relu')(x)\n",
        "x = Dense(256, activation='relu')(x)\n",
        "x = Dropout(0.5)(x)\n",
        "NUM_CLASSES=10\n",
        "pred = Dense(NUM_CLASSES, activation='softmax')(x)\n",
        "model = tf.keras.Model(base_model.input, pred)\n",
        "\n"
      ],
      "metadata": {
        "id": "cdyvhAxmvq8x"
      },
      "execution_count": null,
      "outputs": []
    },
    {
      "cell_type": "code",
      "source": [
        "for layer in base_model.layers:\n",
        "     layer.trainable = False"
      ],
      "metadata": {
        "id": "idaPwmN4vtmU"
      },
      "execution_count": null,
      "outputs": []
    },
    {
      "cell_type": "code",
      "source": [
        "model.compile(loss='binary_crossentropy',\n",
        "              optimizer=tf.keras.optimizers.Adam(lr=LEARNING_RATE),\n",
        "              metrics=['accuracy'])"
      ],
      "metadata": {
        "id": "ujjx_jDhvwN-"
      },
      "execution_count": null,
      "outputs": []
    },
    {
      "cell_type": "code",
      "source": [
        "model.summary()"
      ],
      "metadata": {
        "colab": {
          "base_uri": "https://localhost:8080/"
        },
        "id": "cfem-dlWv7GF",
        "outputId": "3d71309b-ded5-4e3a-d2e6-b23b282e5711"
      },
      "execution_count": null,
      "outputs": [
        {
          "output_type": "stream",
          "name": "stdout",
          "text": [
            "Model: \"model\"\n",
            "_________________________________________________________________\n",
            " Layer (type)                Output Shape              Param #   \n",
            "=================================================================\n",
            " input_1 (InputLayer)        [(None, 48, 48, 3)]       0         \n",
            "                                                                 \n",
            " block1_conv1 (Conv2D)       (None, 48, 48, 64)        1792      \n",
            "                                                                 \n",
            " block1_conv2 (Conv2D)       (None, 48, 48, 64)        36928     \n",
            "                                                                 \n",
            " block1_pool (MaxPooling2D)  (None, 24, 24, 64)        0         \n",
            "                                                                 \n",
            " block2_conv1 (Conv2D)       (None, 24, 24, 128)       73856     \n",
            "                                                                 \n",
            " block2_conv2 (Conv2D)       (None, 24, 24, 128)       147584    \n",
            "                                                                 \n",
            " block2_pool (MaxPooling2D)  (None, 12, 12, 128)       0         \n",
            "                                                                 \n",
            " block3_conv1 (Conv2D)       (None, 12, 12, 256)       295168    \n",
            "                                                                 \n",
            " block3_conv2 (Conv2D)       (None, 12, 12, 256)       590080    \n",
            "                                                                 \n",
            " block3_conv3 (Conv2D)       (None, 12, 12, 256)       590080    \n",
            "                                                                 \n",
            " block3_pool (MaxPooling2D)  (None, 6, 6, 256)         0         \n",
            "                                                                 \n",
            " global_average_pooling2d (G  (None, 256)              0         \n",
            " lobalAveragePooling2D)                                          \n",
            "                                                                 \n",
            " batch_normalization (BatchN  (None, 256)              1024      \n",
            " ormalization)                                                   \n",
            "                                                                 \n",
            " dense (Dense)               (None, 256)               65792     \n",
            "                                                                 \n",
            " dense_1 (Dense)             (None, 256)               65792     \n",
            "                                                                 \n",
            " dropout (Dropout)           (None, 256)               0         \n",
            "                                                                 \n",
            " dense_2 (Dense)             (None, 10)                2570      \n",
            "                                                                 \n",
            "=================================================================\n",
            "Total params: 1,870,666\n",
            "Trainable params: 134,666\n",
            "Non-trainable params: 1,736,000\n",
            "_________________________________________________________________\n"
          ]
        }
      ]
    },
    {
      "cell_type": "markdown",
      "source": [
        "**Data Augmentation**\n",
        "                    To help model generalize and overcome the limitations of a small dataset, we prepare augmented datasets using keras utilities"
      ],
      "metadata": {
        "id": "m51JuvkTwBbW"
      }
    },
    {
      "cell_type": "code",
      "source": [
        "train_datagen = ImageDataGenerator(\n",
        "    rescale=1. / 255,\n",
        "    horizontal_flip=False)"
      ],
      "metadata": {
        "id": "pSvlGa8YwEGA"
      },
      "execution_count": null,
      "outputs": []
    },
    {
      "cell_type": "code",
      "source": [
        "train_datagen.fit(X_train)\n",
        "train_generator = train_datagen.flow(X_train,\n",
        "                                     Y_train, \n",
        "                                     batch_size=BATCH_SIZE)"
      ],
      "metadata": {
        "id": "goktN9PBwRcq"
      },
      "execution_count": null,
      "outputs": []
    },
    {
      "cell_type": "code",
      "source": [
        "val_datagen = ImageDataGenerator(rescale=1. / 255,\n",
        "    horizontal_flip=False)\n",
        "\n",
        "val_datagen.fit(X_val)\n",
        "val_generator = val_datagen.flow(X_val,\n",
        "                                 Y_val,\n",
        "                                 batch_size=BATCH_SIZE)"
      ],
      "metadata": {
        "id": "2u4xzQ10wXEl"
      },
      "execution_count": null,
      "outputs": []
    },
    {
      "cell_type": "code",
      "source": [
        "train_steps_per_epoch = X_train.shape[0] // BATCH_SIZE\n",
        "val_steps_per_epoch = X_val.shape[0] // BATCH_SIZE\n",
        "\n",
        "history = model.fit_generator(train_generator,\n",
        "                              steps_per_epoch=train_steps_per_epoch,\n",
        "                              validation_data=val_generator,\n",
        "                              validation_steps=val_steps_per_epoch,\n",
        "                              epochs=EPOCHS,\n",
        "                              verbose=1)"
      ],
      "metadata": {
        "colab": {
          "base_uri": "https://localhost:8080/"
        },
        "id": "BayCC678wbNe",
        "outputId": "8eb12450-2d5e-4c8d-a671-d3bd08bc3a13"
      },
      "execution_count": null,
      "outputs": [
        {
          "output_type": "stream",
          "name": "stdout",
          "text": [
            "Epoch 1/40\n",
            "1328/1328 [==============================] - 14s 11ms/step - loss: 0.0928 - accuracy: 0.8169 - val_loss: 0.1126 - val_accuracy: 0.7694\n",
            "Epoch 2/40\n",
            "1328/1328 [==============================] - 14s 11ms/step - loss: 0.0934 - accuracy: 0.8191 - val_loss: 0.1128 - val_accuracy: 0.7687\n",
            "Epoch 3/40\n",
            "1328/1328 [==============================] - 14s 11ms/step - loss: 0.0926 - accuracy: 0.8194 - val_loss: 0.1120 - val_accuracy: 0.7711\n",
            "Epoch 4/40\n",
            "1328/1328 [==============================] - 14s 11ms/step - loss: 0.0917 - accuracy: 0.8213 - val_loss: 0.1124 - val_accuracy: 0.7714\n",
            "Epoch 5/40\n",
            "1328/1328 [==============================] - 14s 11ms/step - loss: 0.0911 - accuracy: 0.8214 - val_loss: 0.1126 - val_accuracy: 0.7706\n",
            "Epoch 6/40\n",
            "1328/1328 [==============================] - 14s 11ms/step - loss: 0.0902 - accuracy: 0.8230 - val_loss: 0.1128 - val_accuracy: 0.7702\n",
            "Epoch 7/40\n",
            "1328/1328 [==============================] - 14s 11ms/step - loss: 0.0899 - accuracy: 0.8243 - val_loss: 0.1134 - val_accuracy: 0.7734\n",
            "Epoch 8/40\n",
            "1328/1328 [==============================] - 14s 11ms/step - loss: 0.0887 - accuracy: 0.8263 - val_loss: 0.1125 - val_accuracy: 0.7734\n",
            "Epoch 9/40\n",
            "1328/1328 [==============================] - 14s 11ms/step - loss: 0.0878 - accuracy: 0.8284 - val_loss: 0.1126 - val_accuracy: 0.7718\n",
            "Epoch 10/40\n",
            "1328/1328 [==============================] - 14s 11ms/step - loss: 0.0870 - accuracy: 0.8284 - val_loss: 0.1145 - val_accuracy: 0.7684\n",
            "Epoch 11/40\n",
            "1328/1328 [==============================] - 14s 11ms/step - loss: 0.0868 - accuracy: 0.8325 - val_loss: 0.1138 - val_accuracy: 0.7734\n",
            "Epoch 12/40\n",
            "1328/1328 [==============================] - 14s 11ms/step - loss: 0.0851 - accuracy: 0.8357 - val_loss: 0.1138 - val_accuracy: 0.7690\n",
            "Epoch 13/40\n",
            "1328/1328 [==============================] - 14s 11ms/step - loss: 0.0850 - accuracy: 0.8337 - val_loss: 0.1135 - val_accuracy: 0.7744\n",
            "Epoch 14/40\n",
            "1328/1328 [==============================] - 14s 11ms/step - loss: 0.0849 - accuracy: 0.8336 - val_loss: 0.1137 - val_accuracy: 0.7723\n",
            "Epoch 15/40\n",
            "1328/1328 [==============================] - 14s 11ms/step - loss: 0.0834 - accuracy: 0.8393 - val_loss: 0.1145 - val_accuracy: 0.7708\n",
            "Epoch 16/40\n",
            "1328/1328 [==============================] - 15s 11ms/step - loss: 0.0833 - accuracy: 0.8391 - val_loss: 0.1142 - val_accuracy: 0.7706\n",
            "Epoch 17/40\n",
            "1328/1328 [==============================] - 14s 11ms/step - loss: 0.0829 - accuracy: 0.8387 - val_loss: 0.1144 - val_accuracy: 0.7715\n",
            "Epoch 18/40\n",
            "1328/1328 [==============================] - 14s 11ms/step - loss: 0.0827 - accuracy: 0.8416 - val_loss: 0.1150 - val_accuracy: 0.7736\n",
            "Epoch 19/40\n",
            "1328/1328 [==============================] - 14s 11ms/step - loss: 0.0809 - accuracy: 0.8442 - val_loss: 0.1158 - val_accuracy: 0.7686\n",
            "Epoch 20/40\n",
            "1328/1328 [==============================] - 15s 11ms/step - loss: 0.0805 - accuracy: 0.8428 - val_loss: 0.1146 - val_accuracy: 0.7726\n",
            "Epoch 21/40\n",
            "1328/1328 [==============================] - 14s 11ms/step - loss: 0.0808 - accuracy: 0.8446 - val_loss: 0.1143 - val_accuracy: 0.7750\n",
            "Epoch 22/40\n",
            "1328/1328 [==============================] - 15s 11ms/step - loss: 0.0795 - accuracy: 0.8490 - val_loss: 0.1153 - val_accuracy: 0.7700\n",
            "Epoch 23/40\n",
            "1328/1328 [==============================] - 14s 11ms/step - loss: 0.0791 - accuracy: 0.8492 - val_loss: 0.1153 - val_accuracy: 0.7716\n",
            "Epoch 24/40\n",
            "1328/1328 [==============================] - 14s 11ms/step - loss: 0.0782 - accuracy: 0.8508 - val_loss: 0.1161 - val_accuracy: 0.7719\n",
            "Epoch 25/40\n",
            "1328/1328 [==============================] - 14s 11ms/step - loss: 0.0779 - accuracy: 0.8513 - val_loss: 0.1163 - val_accuracy: 0.7723\n",
            "Epoch 26/40\n",
            "1328/1328 [==============================] - 14s 11ms/step - loss: 0.0771 - accuracy: 0.8538 - val_loss: 0.1172 - val_accuracy: 0.7688\n",
            "Epoch 27/40\n",
            "1328/1328 [==============================] - 14s 11ms/step - loss: 0.0769 - accuracy: 0.8525 - val_loss: 0.1160 - val_accuracy: 0.7770\n",
            "Epoch 28/40\n",
            "1328/1328 [==============================] - 14s 11ms/step - loss: 0.0763 - accuracy: 0.8539 - val_loss: 0.1168 - val_accuracy: 0.7758\n",
            "Epoch 29/40\n",
            "1328/1328 [==============================] - 14s 11ms/step - loss: 0.0758 - accuracy: 0.8568 - val_loss: 0.1175 - val_accuracy: 0.7740\n",
            "Epoch 30/40\n",
            "1328/1328 [==============================] - 14s 11ms/step - loss: 0.0755 - accuracy: 0.8555 - val_loss: 0.1176 - val_accuracy: 0.7718\n",
            "Epoch 31/40\n",
            "1328/1328 [==============================] - 14s 11ms/step - loss: 0.0750 - accuracy: 0.8555 - val_loss: 0.1176 - val_accuracy: 0.7735\n",
            "Epoch 32/40\n",
            "1328/1328 [==============================] - 14s 11ms/step - loss: 0.0745 - accuracy: 0.8592 - val_loss: 0.1178 - val_accuracy: 0.7715\n",
            "Epoch 33/40\n",
            "1328/1328 [==============================] - 14s 11ms/step - loss: 0.0735 - accuracy: 0.8609 - val_loss: 0.1188 - val_accuracy: 0.7719\n",
            "Epoch 34/40\n",
            "1328/1328 [==============================] - 14s 11ms/step - loss: 0.0728 - accuracy: 0.8623 - val_loss: 0.1191 - val_accuracy: 0.7740\n",
            "Epoch 35/40\n",
            "1328/1328 [==============================] - 14s 11ms/step - loss: 0.0732 - accuracy: 0.8600 - val_loss: 0.1196 - val_accuracy: 0.7715\n",
            "Epoch 36/40\n",
            "1328/1328 [==============================] - 14s 11ms/step - loss: 0.0722 - accuracy: 0.8632 - val_loss: 0.1196 - val_accuracy: 0.7715\n",
            "Epoch 37/40\n",
            "1328/1328 [==============================] - 14s 11ms/step - loss: 0.0715 - accuracy: 0.8637 - val_loss: 0.1198 - val_accuracy: 0.7726\n",
            "Epoch 38/40\n",
            "1328/1328 [==============================] - 14s 11ms/step - loss: 0.0712 - accuracy: 0.8651 - val_loss: 0.1201 - val_accuracy: 0.7683\n",
            "Epoch 39/40\n",
            "1328/1328 [==============================] - 14s 11ms/step - loss: 0.0715 - accuracy: 0.8657 - val_loss: 0.1200 - val_accuracy: 0.7732\n",
            "Epoch 40/40\n",
            "1328/1328 [==============================] - 14s 11ms/step - loss: 0.0703 - accuracy: 0.8674 - val_loss: 0.1202 - val_accuracy: 0.7706\n"
          ]
        }
      ]
    },
    {
      "cell_type": "markdown",
      "source": [
        "Analyze Model **Performance**"
      ],
      "metadata": {
        "id": "4XAPr622wfB_"
      }
    },
    {
      "cell_type": "code",
      "source": [
        "f, (ax1, ax2) = plt.subplots(1, 2, figsize=(15, 5))\n",
        "t = f.suptitle('Deep Neural Net Performance', fontsize=12)\n",
        "f.subplots_adjust(top=0.85, wspace=0.3)\n",
        "\n",
        "epochs = list(range(1,EPOCHS+1))\n",
        "ax1.plot(epochs, history.history['accuracy'], label='Train Accuracy')\n",
        "ax1.plot(epochs, history.history['val_accuracy'], label='Validation Accuracy')\n",
        "ax1.set_xticks(epochs)\n",
        "ax1.set_ylabel('Accuracy Value')\n",
        "ax1.set_xlabel('Epoch')\n",
        "ax1.set_title('Accuracy')\n",
        "l1 = ax1.legend(loc=\"best\")\n",
        "\n",
        "ax2.plot(epochs, history.history['loss'], label='Train Loss')\n",
        "ax2.plot(epochs, history.history['val_loss'], label='Validation Loss')\n",
        "ax2.set_xticks(epochs)\n",
        "ax2.set_ylabel('Loss Value')\n",
        "ax2.set_xlabel('Epoch')\n",
        "ax2.set_title('Loss')\n",
        "l2 = ax2.legend(loc=\"best\")"
      ],
      "metadata": {
        "id": "0adFotT-wgd7",
        "colab": {
          "base_uri": "https://localhost:8080/",
          "height": 378
        },
        "outputId": "ef0d2e0e-c032-4472-b2e4-6b969599cfc2"
      },
      "execution_count": null,
      "outputs": [
        {
          "output_type": "display_data",
          "data": {
            "text/plain": [
              "<Figure size 1080x360 with 2 Axes>"
            ],
            "image/png": "[encoded data removed]"
          },
          "metadata": {
            "needs_background": "light"
          }
        }
      ]
    },
    {
      "cell_type": "code",
      "source": [
        "predictions = model.predict(X_test/255.)"
      ],
      "metadata": {
        "id": "eQZeCH2fPIyQ"
      },
      "execution_count": null,
      "outputs": []
    },
    {
      "cell_type": "code",
      "source": [
        "predictions[:5]"
      ],
      "metadata": {
        "colab": {
          "base_uri": "https://localhost:8080/"
        },
        "id": "Tuhr3gLcW2EI",
        "outputId": "bdce22e0-1cb8-4c53-fbb6-552edfc075a7"
      },
      "execution_count": null,
      "outputs": [
        {
          "output_type": "execute_result",
          "data": {
            "text/plain": [
              "[3, 8, 8, 0, 6]"
            ]
          },
          "metadata": {},
          "execution_count": 56
        }
      ]
    },
    {
      "cell_type": "code",
      "source": [
        "class_names[3]"
      ],
      "metadata": {
        "colab": {
          "base_uri": "https://localhost:8080/",
          "height": 35
        },
        "id": "9k1HyRnMXX-z",
        "outputId": "d2fe04da-d4bc-4c61-e9f3-c126f1891afe"
      },
      "execution_count": null,
      "outputs": [
        {
          "output_type": "execute_result",
          "data": {
            "text/plain": [
              "'cat'"
            ],
            "application/vnd.google.colaboratory.intrinsic+json": {
              "type": "string"
            }
          },
          "metadata": {},
          "execution_count": 59
        }
      ]
    },
    {
      "cell_type": "code",
      "source": [
        "y_test[:5]"
      ],
      "metadata": {
        "colab": {
          "base_uri": "https://localhost:8080/"
        },
        "id": "hvAKKjp6W_zL",
        "outputId": "89e3bcae-2fd5-457c-ee33-245af723a565"
      },
      "execution_count": null,
      "outputs": [
        {
          "output_type": "execute_result",
          "data": {
            "text/plain": [
              "array([[3],\n",
              "       [8],\n",
              "       [8],\n",
              "       [0],\n",
              "       [6]], dtype=uint8)"
            ]
          },
          "metadata": {},
          "execution_count": 57
        }
      ]
    },
    {
      "cell_type": "code",
      "source": [
        "y_pred=('true_labels',y_test, \n",
        "                'predicted_labels',predictions)"
      ],
      "metadata": {
        "id": "FL1XAX5zPPXb"
      },
      "execution_count": null,
      "outputs": []
    },
    {
      "cell_type": "code",
      "source": [
        "from sklearn.metrics import confusion_matrix , classification_report\n",
        "\n",
        "print(classification_report(y_test,predictions))"
      ],
      "metadata": {
        "colab": {
          "base_uri": "https://localhost:8080/"
        },
        "id": "iFjOu4HVPib1",
        "outputId": "c8a5984f-8375-4052-d535-429ebf74f945"
      },
      "execution_count": null,
      "outputs": [
        {
          "output_type": "stream",
          "name": "stdout",
          "text": [
            "              precision    recall  f1-score   support\n",
            "\n",
            "           0       0.81      0.81      0.81      1000\n",
            "           1       0.85      0.85      0.85      1000\n",
            "           2       0.72      0.70      0.71      1000\n",
            "           3       0.61      0.60      0.60      1000\n",
            "           4       0.75      0.69      0.72      1000\n",
            "           5       0.69      0.67      0.68      1000\n",
            "           6       0.77      0.84      0.80      1000\n",
            "           7       0.80      0.81      0.81      1000\n",
            "           8       0.83      0.88      0.86      1000\n",
            "           9       0.84      0.82      0.83      1000\n",
            "\n",
            "    accuracy                           0.77     10000\n",
            "   macro avg       0.77      0.77      0.77     10000\n",
            "weighted avg       0.77      0.77      0.77     10000\n",
            "\n"
          ]
        }
      ]
    },
    {
      "cell_type": "code",
      "source": [
        "def perturb_image(xs, img):\n",
        "  #xs perturbations [x,y,r,g,b]\n",
        "    # If this function is passed just one perturbation vector (one pixel perturbation),\n",
        "    # pack it in a list to keep the computation the same\n",
        "    if xs.ndim < 2:\n",
        "        xs = np.array([xs])\n",
        "        print(xs)\n",
        "    # Repet this on image n == len(xs) times so that we can \n",
        "    # create n new perturbed images\n",
        "    tile = [len(xs)] + [1]*(xs.ndim+1)\n",
        "    \n",
        "    imgs = np.tile(img, tile)\n",
        "    \n",
        "    # Make sure to floor the members of xs as int types\n",
        "    xs = xs.astype(int)\n",
        "    \n",
        "    for x,img in zip(xs, imgs):\n",
        "        # Split x ( single pixel) into an array of 5-tuples (perturbation pixels)\n",
        "        # i.e., [[x,y,r,g,b], ...]\n",
        "        pixels = np.split(x, len(x) // 5)\n",
        "        #split seprate array into its single elements (seperator,maxsplit);\n",
        "        for pixel in pixels:\n",
        "            # At each pixel's x,y position, assign its rgb value\n",
        "            x_pos, y_pos, *rgb = pixel\n",
        "            img[x_pos, y_pos] = rgb\n",
        "    \n",
        "    return imgs"
      ],
      "metadata": {
        "id": "j0ZUpaVAZEBK"
      },
      "execution_count": null,
      "outputs": []
    },
    {
      "cell_type": "code",
      "source": [
        "from numpy.random import rand\n",
        "from numpy.random import choice\n",
        "from numpy import asarray\n",
        "from numpy import clip\n",
        "from numpy import argmin\n",
        "from numpy import min\n",
        "from numpy import around\n",
        "from matplotlib import pyplot\n",
        "import pytest\n",
        "import math\n",
        "import time\n",
        "\n",
        "# define objective function\n",
        "def obj(x):\n",
        "    return x[0]**2.0 + x[1]**2.0\n",
        "\n",
        "\n",
        "# define mutation operation\n",
        "def mutation(x, F):\n",
        "    return x[0] + F * (x[1] - x[2])\n",
        "\n",
        "\n",
        "# define boundary check operation\n",
        "def check_bounds(mutated, bounds):\n",
        "    mutated_bound = [clip(mutated[i], bounds[i, 0], bounds[i, 1]) for i in range(len(bounds))]\n",
        "    return mutated_bound\n",
        "\n",
        "\n",
        "# define crossover operation\n",
        "def crossover(mutated, target, dims, cr):\n",
        "    # generate a uniform random value for every dimension\n",
        "    p = rand(dims)\n",
        "    # generate trial vector by binomial crossover\n",
        "    trial = [mutated[i] if p[i] < cr else target[i] for i in range(dims)]\n",
        "    return trial\n",
        "\n",
        "\n",
        "def differential_evolution(predict_fn, bounds, maxiter, popsize,\n",
        "        recombination=1, atol=-1):\n",
        "    # initialise population of candidate solutions randomly within the specified bounds\n",
        "    pop = bounds[:, 0] + (rand(popsize, len(bounds)) * (bounds[:, 1] - bounds[:, 0]))\n",
        "    print('Pop = ',pop)\n",
        "    # evaluate initial population of candidate solutions\n",
        "    obj_all = [obj(ind) for ind in pop]\n",
        "    print(obj_all)\n",
        "    # find the best performing vector of initial population\n",
        "    best_vector = pop[argmin(obj_all)]\n",
        "    best_obj = min(obj_all)\n",
        "    prev_obj = best_obj\n",
        "    # initialise list to store the objective function value at each iteration\n",
        "    obj_iter = list()\n",
        "    # run iterations of the algorithm\n",
        "    for i in range(iter):\n",
        "        # iterate over all candidate solutions\n",
        "        for j in range(popsize):\n",
        "            # choose three candidates, a, b and c, that are not the current one\n",
        "            candidates = [candidate for candidate in range(popsize) if candidate != j]\n",
        "            a, b, c = pop[choice(candidates, 3, replace=False)]\n",
        "            # perform mutation\n",
        "            mutated = mutation([a, b, c], F)\n",
        "            # check that lower and upper bounds are retained after mutation\n",
        "            trial = check_bounds(mutated, bounds)\n",
        "            # perform crossover\n",
        "            # trial = crossover(trial, pop[j], len(bounds), cr)\n",
        "            # compute objective function value for target vector\n",
        "            obj_target = obj(pop[j])\n",
        "            # compute objective function value for trial vector\n",
        "            obj_trial = obj(trial)\n",
        "            # perform selection\n",
        "            # print('Prior : ',pop[j])\n",
        "            if obj_trial < obj_target:\n",
        "                # replace the target vector with the trial vector\n",
        "                pop[j] = trial\n",
        "                # store the new objective function value\n",
        "                obj_all[j] = obj_trial\n",
        "            # print('After : ',pop[j])\n",
        "        # find the best performing vector at each iteration\n",
        "        best_obj = min(obj_all)\n",
        "        # store the lowest objective function value\n",
        "        if best_obj < prev_obj:\n",
        "            best_vector = pop[argmin(obj_all)]\n",
        "            prev_obj = best_obj\n",
        "            obj_iter.append(best_obj)\n",
        "            # report progress at each iteration\n",
        "            print('Iteration: %d f([%s]) = %.5f' % (i, around(best_vector, decimals=5), best_obj))\n",
        "        \n",
        "        # if(math.isclose(0.00000,best_obj, abs_tol = 10**-5)):\n",
        "        #   break\n",
        "        \n",
        "        #if best_obj == pytest.approx(0.00000):\n",
        "        # print('iter = ',i)\n",
        "        # break\n",
        "    return [best_vector, best_obj, obj_iter]"
      ],
      "metadata": {
        "id": "Ix9xJSfFZD9x"
      },
      "execution_count": null,
      "outputs": []
    },
    {
      "cell_type": "code",
      "source": [
        "DEVICE = torch.device(\"cuda\" if torch.cuda.is_available() else \"cpu\")\n",
        "LOADER_KWARGS = {'num_workers': 1, 'pin_memory': True} if torch.cuda.is_available() else {'num_workers': 4}\n",
        "print(\"CUDA Available:\", torch.cuda.is_available())"
      ],
      "metadata": {
        "colab": {
          "base_uri": "https://localhost:8080/",
          "height": 200
        },
        "id": "9EBEzvbHaFAB",
        "outputId": "abfb3190-1556-4155-9bcd-96a9b1ed8f38"
      },
      "execution_count": null,
      "outputs": [
        {
          "output_type": "error",
          "ename": "NameError",
          "evalue": "ignored",
          "traceback": [
            "\u001b[0;31m---------------------------------------------------------------------------\u001b[0m",
            "\u001b[0;31mNameError\u001b[0m                                 Traceback (most recent call last)",
            "\u001b[0;32m<ipython-input-70-0c653caf1ed9>\u001b[0m in \u001b[0;36m<module>\u001b[0;34m()\u001b[0m\n\u001b[0;32m----> 1\u001b[0;31m \u001b[0mDEVICE\u001b[0m \u001b[0;34m=\u001b[0m \u001b[0mtorch\u001b[0m\u001b[0;34m.\u001b[0m\u001b[0mdevice\u001b[0m\u001b[0;34m(\u001b[0m\u001b[0;34m\"cuda\"\u001b[0m \u001b[0;32mif\u001b[0m \u001b[0mtorch\u001b[0m\u001b[0;34m.\u001b[0m\u001b[0mcuda\u001b[0m\u001b[0;34m.\u001b[0m\u001b[0mis_available\u001b[0m\u001b[0;34m(\u001b[0m\u001b[0;34m)\u001b[0m \u001b[0;32melse\u001b[0m \u001b[0;34m\"cpu\"\u001b[0m\u001b[0;34m)\u001b[0m\u001b[0;34m\u001b[0m\u001b[0;34m\u001b[0m\u001b[0m\n\u001b[0m\u001b[1;32m      2\u001b[0m \u001b[0mLOADER_KWARGS\u001b[0m \u001b[0;34m=\u001b[0m \u001b[0;34m{\u001b[0m\u001b[0;34m'num_workers'\u001b[0m\u001b[0;34m:\u001b[0m \u001b[0;36m1\u001b[0m\u001b[0;34m,\u001b[0m \u001b[0;34m'pin_memory'\u001b[0m\u001b[0;34m:\u001b[0m \u001b[0;32mTrue\u001b[0m\u001b[0;34m}\u001b[0m \u001b[0;32mif\u001b[0m \u001b[0mtorch\u001b[0m\u001b[0;34m.\u001b[0m\u001b[0mcuda\u001b[0m\u001b[0;34m.\u001b[0m\u001b[0mis_available\u001b[0m\u001b[0;34m(\u001b[0m\u001b[0;34m)\u001b[0m \u001b[0;32melse\u001b[0m \u001b[0;34m{\u001b[0m\u001b[0;34m'num_workers'\u001b[0m\u001b[0;34m:\u001b[0m \u001b[0;36m4\u001b[0m\u001b[0;34m}\u001b[0m\u001b[0;34m\u001b[0m\u001b[0;34m\u001b[0m\u001b[0m\n\u001b[1;32m      3\u001b[0m \u001b[0mprint\u001b[0m\u001b[0;34m(\u001b[0m\u001b[0;34m\"CUDA Available:\"\u001b[0m\u001b[0;34m,\u001b[0m \u001b[0mtorch\u001b[0m\u001b[0;34m.\u001b[0m\u001b[0mcuda\u001b[0m\u001b[0;34m.\u001b[0m\u001b[0mis_available\u001b[0m\u001b[0;34m(\u001b[0m\u001b[0;34m)\u001b[0m\u001b[0;34m)\u001b[0m\u001b[0;34m\u001b[0m\u001b[0;34m\u001b[0m\u001b[0m\n",
            "\u001b[0;31mNameError\u001b[0m: name 'torch' is not defined"
          ]
        }
      ]
    },
    {
      "cell_type": "code",
      "source": [
        "CIFAR_LABELS = ('airplane', 'automobile', 'bird', 'cat', 'deer', 'dog', 'frog', 'horse', 'ship', 'truck')\n",
        "\n",
        "def show(img):\n",
        "    npimg = img.cpu().numpy()\n",
        "    plt.imshow(np.transpose(npimg, (1,2,0)), interpolation='nearest')\n",
        "\n",
        "def tell(img, label, model, target_label=None):\n",
        "    print(\"True Label:\", CIFAR_LABELS[label], label)\n",
        "    print(\"Prediction:\", CIFAR_LABELS[model(img.unsqueeze(0)).max(-1)[1]], model(img.unsqueeze(0)).max(-1)[1][0].item())\n",
        "    print(\"Label Probabilities:\", F.softmax(model(img.unsqueeze(0)).squeeze(), dim=0))\n",
        "    print(\"True Label Probability:\", F.softmax(model(img.unsqueeze(0)).squeeze(), dim=0)[label].item())\n",
        "    if target_label is not None:\n",
        "        print(\"Target Label Probability:\", F.softmax(model(img.unsqueeze(0)).squeeze(), dim=0)[target_label].item())"
      ],
      "metadata": {
        "id": "lu7KM17pZD7d"
      },
      "execution_count": null,
      "outputs": []
    },
    {
      "cell_type": "code",
      "source": [
        "for i in range(10):\n",
        "  test_img, test_label =X_test[i]\n",
        "  test_img = test_img.to(DEVICE)\n",
        "  show(test_img)\n",
        "  start = time.time()\n",
        "  tell(test_img, test_label,model)\n",
        "  print(f'Time: {time.time() - start}')"
      ],
      "metadata": {
        "colab": {
          "base_uri": "https://localhost:8080/",
          "height": 235
        },
        "id": "-e2wifTAZD5p",
        "outputId": "73c2cd0b-b42e-42e2-dc94-c6d6aedd6b02"
      },
      "execution_count": null,
      "outputs": [
        {
          "output_type": "error",
          "ename": "ValueError",
          "evalue": "ignored",
          "traceback": [
            "\u001b[0;31m---------------------------------------------------------------------------\u001b[0m",
            "\u001b[0;31mValueError\u001b[0m                                Traceback (most recent call last)",
            "\u001b[0;32m<ipython-input-73-e4ee0a25590e>\u001b[0m in \u001b[0;36m<module>\u001b[0;34m()\u001b[0m\n\u001b[1;32m      1\u001b[0m \u001b[0;32mfor\u001b[0m \u001b[0mi\u001b[0m \u001b[0;32min\u001b[0m \u001b[0mrange\u001b[0m\u001b[0;34m(\u001b[0m\u001b[0;36m10\u001b[0m\u001b[0;34m)\u001b[0m\u001b[0;34m:\u001b[0m\u001b[0;34m\u001b[0m\u001b[0;34m\u001b[0m\u001b[0m\n\u001b[0;32m----> 2\u001b[0;31m   \u001b[0mtest_img\u001b[0m\u001b[0;34m,\u001b[0m \u001b[0mtest_label\u001b[0m \u001b[0;34m=\u001b[0m\u001b[0mX_test\u001b[0m\u001b[0;34m[\u001b[0m\u001b[0mi\u001b[0m\u001b[0;34m]\u001b[0m\u001b[0;34m\u001b[0m\u001b[0;34m\u001b[0m\u001b[0m\n\u001b[0m\u001b[1;32m      3\u001b[0m   \u001b[0mtest_img\u001b[0m \u001b[0;34m=\u001b[0m \u001b[0mtest_img\u001b[0m\u001b[0;34m.\u001b[0m\u001b[0mto\u001b[0m\u001b[0;34m(\u001b[0m\u001b[0mDEVICE\u001b[0m\u001b[0;34m)\u001b[0m\u001b[0;34m\u001b[0m\u001b[0;34m\u001b[0m\u001b[0m\n\u001b[1;32m      4\u001b[0m   \u001b[0mshow\u001b[0m\u001b[0;34m(\u001b[0m\u001b[0mtest_img\u001b[0m\u001b[0;34m)\u001b[0m\u001b[0;34m\u001b[0m\u001b[0;34m\u001b[0m\u001b[0m\n\u001b[1;32m      5\u001b[0m   \u001b[0mstart\u001b[0m \u001b[0;34m=\u001b[0m \u001b[0mtime\u001b[0m\u001b[0;34m.\u001b[0m\u001b[0mtime\u001b[0m\u001b[0;34m(\u001b[0m\u001b[0;34m)\u001b[0m\u001b[0;34m\u001b[0m\u001b[0;34m\u001b[0m\u001b[0m\n",
            "\u001b[0;31mValueError\u001b[0m: too many values to unpack (expected 2)"
          ]
        }
      ]
    },
    {
      "cell_type": "code",
      "source": [
        "def perturb(p, img):\n",
        "    # Elements of p should be in range [0,1]\n",
        "    img_size = img.size(1) # C x _H_ x W, assume H == W\n",
        "    p_img = img.clone()\n",
        "    xy = (p[0:2].copy() * img_size).astype(int)\n",
        "    xy = np.clip(xy, 0, img_size-1)\n",
        "    rgb = p[2:5].copy()\n",
        "    rgb = np.clip(rgb, 0, 1)\n",
        "    p_img[:,xy[0],xy[1]] = torch.from_numpy(rgb) # Changing color of xy pixel\n",
        "    return p_img\n",
        "\n",
        "def visualize_perturbation(p, img, label, model, target_label=None):\n",
        "    p_img = perturb(p, img)\n",
        "    print(\"Perturbation:\", p)\n",
        "    show(p_img)\n",
        "    tell(p_img, label, model, target_label)\n",
        "\n",
        "visualize_perturbation(np.array([0.6,0.6,0,0,0.75]), test_img, test_label, cifar_model)"
      ],
      "metadata": {
        "colab": {
          "base_uri": "https://localhost:8080/",
          "height": 200
        },
        "id": "YmZNtyt7Zj_v",
        "outputId": "7f54b8b1-6f5f-4398-dc32-c5c80fa456c6"
      },
      "execution_count": null,
      "outputs": [
        {
          "output_type": "error",
          "ename": "NameError",
          "evalue": "ignored",
          "traceback": [
            "\u001b[0;31m---------------------------------------------------------------------------\u001b[0m",
            "\u001b[0;31mNameError\u001b[0m                                 Traceback (most recent call last)",
            "\u001b[0;32m<ipython-input-74-8222a663ea4b>\u001b[0m in \u001b[0;36m<module>\u001b[0;34m()\u001b[0m\n\u001b[1;32m     16\u001b[0m     \u001b[0mtell\u001b[0m\u001b[0;34m(\u001b[0m\u001b[0mp_img\u001b[0m\u001b[0;34m,\u001b[0m \u001b[0mlabel\u001b[0m\u001b[0;34m,\u001b[0m \u001b[0mmodel\u001b[0m\u001b[0;34m,\u001b[0m \u001b[0mtarget_label\u001b[0m\u001b[0;34m)\u001b[0m\u001b[0;34m\u001b[0m\u001b[0;34m\u001b[0m\u001b[0m\n\u001b[1;32m     17\u001b[0m \u001b[0;34m\u001b[0m\u001b[0m\n\u001b[0;32m---> 18\u001b[0;31m \u001b[0mvisualize_perturbation\u001b[0m\u001b[0;34m(\u001b[0m\u001b[0mnp\u001b[0m\u001b[0;34m.\u001b[0m\u001b[0marray\u001b[0m\u001b[0;34m(\u001b[0m\u001b[0;34m[\u001b[0m\u001b[0;36m0.6\u001b[0m\u001b[0;34m,\u001b[0m\u001b[0;36m0.6\u001b[0m\u001b[0;34m,\u001b[0m\u001b[0;36m0\u001b[0m\u001b[0;34m,\u001b[0m\u001b[0;36m0\u001b[0m\u001b[0;34m,\u001b[0m\u001b[0;36m0.75\u001b[0m\u001b[0;34m]\u001b[0m\u001b[0;34m)\u001b[0m\u001b[0;34m,\u001b[0m \u001b[0mtest_img\u001b[0m\u001b[0;34m,\u001b[0m \u001b[0mtest_label\u001b[0m\u001b[0;34m,\u001b[0m \u001b[0mcifar_model\u001b[0m\u001b[0;34m)\u001b[0m\u001b[0;34m\u001b[0m\u001b[0;34m\u001b[0m\u001b[0m\n\u001b[0m",
            "\u001b[0;31mNameError\u001b[0m: name 'test_img' is not defined"
          ]
        }
      ]
    },
    {
      "cell_type": "code",
      "source": [
        "# Pertube nd tells the probability\n",
        "def evaluate(candidates, img, label, model):\n",
        "    preds = []\n",
        "    model.eval()\n",
        "    with torch.no_grad():\n",
        "        for i, xs in enumerate(candidates):\n",
        "            p_img = perturb(xs, img)\n",
        "            preds.append(F.softmax(model(p_img.unsqueeze(0)).squeeze(), dim=0)[label].item())\n",
        "    return np.array(preds)\n",
        "\n",
        "# Generates Child and Return(Mutate)\n",
        "def evolve(candidates, F=0.5, strategy=\"clip\"):\n",
        "    gen2 = candidates.copy()\n",
        "    num_candidates = len(candidates)\n",
        "    for i in range(num_candidates):\n",
        "        x1, x2, x3 = candidates[np.random.choice(num_candidates, 3, replace=False)]\n",
        "        x_next = (x1 + F*(x2 - x3))\n",
        "        if strategy == \"clip\":\n",
        "            gen2[i] = np.clip(x_next, 0, 1)\n",
        "        elif strategy == \"resample\":\n",
        "            x_oob = np.logical_or((x_next < 0), (1 < x_next))\n",
        "            x_next[x_oob] = np.random.random(5)[x_oob]\n",
        "            gen2[i] = x_next\n",
        "    return gen2\n",
        "\n",
        "def attack(model, img, true_label, target_label=None, iters=100, pop_size=400, verbose=True):\n",
        "    # Targeted: maximize target_label if given (early stop > 50%)\n",
        "    # Untargeted: minimize true_label otherwise (early stop < 5%)\n",
        "    candidates = np.random.random((pop_size,5)) # take rray of 400(pixel),5(xyrgb) and fill with [0,1)\n",
        "    candidates[:,2:5] = np.clip(np.random.normal(0.5, 0.5, (pop_size, 3)), 0, 1)\n",
        "    is_targeted = target_label is not None\n",
        "    label = target_label if is_targeted else true_label\n",
        "    fitness = evaluate(candidates, img, label, model)\n",
        "    \n",
        "    def is_success():\n",
        "        return (is_targeted and fitness.max() > 0.5) or ((not is_targeted) and fitness.min() < 0.05)\n",
        "    \n",
        "    for iteration in range(iters):\n",
        "        # Early Stopping\n",
        "        if is_success():\n",
        "            break\n",
        "        if verbose and iteration%10 == 0: # Print progress\n",
        "            print(\"Target Probability [Iteration {}]:\".format(iteration), fitness.max() if is_targeted else fitness.min())\n",
        "        # Generate new candidate solutions\n",
        "        new_gen_candidates = evolve(candidates, strategy=\"resample\")\n",
        "        # Evaluate new solutions\n",
        "        new_gen_fitness = evaluate(new_gen_candidates, img, label, model)\n",
        "        # Replace old solutions with new ones where they are better\n",
        "        successors = new_gen_fitness > fitness if is_targeted else new_gen_fitness < fitness\n",
        "        candidates[successors] = new_gen_candidates[successors] # Updte candidatea\n",
        "        fitness[successors] = new_gen_fitness[successors]\n",
        "    best_idx = fitness.argmax() if is_targeted else fitness.argmin()\n",
        "    best_solution = candidates[best_idx]\n",
        "    best_score = fitness[best_idx]\n",
        "    if verbose:\n",
        "        visualize_perturbation(best_solution, img, true_label, model, target_label)\n",
        "    return is_success(), best_solution, best_score\n",
        "\n",
        "# Untargeted attack\n",
        "_ = attack(model, test_img, test_label)"
      ],
      "metadata": {
        "colab": {
          "base_uri": "https://localhost:8080/",
          "height": 200
        },
        "id": "_bog9o8RZqEZ",
        "outputId": "4b97ec9a-ec5e-4758-ff6c-9b4a71238662"
      },
      "execution_count": null,
      "outputs": [
        {
          "output_type": "error",
          "ename": "NameError",
          "evalue": "ignored",
          "traceback": [
            "\u001b[0;31m---------------------------------------------------------------------------\u001b[0m",
            "\u001b[0;31mNameError\u001b[0m                                 Traceback (most recent call last)",
            "\u001b[0;32m<ipython-input-75-e895e346464a>\u001b[0m in \u001b[0;36m<module>\u001b[0;34m()\u001b[0m\n\u001b[1;32m     58\u001b[0m \u001b[0;34m\u001b[0m\u001b[0m\n\u001b[1;32m     59\u001b[0m \u001b[0;31m# Untargeted attack\u001b[0m\u001b[0;34m\u001b[0m\u001b[0;34m\u001b[0m\u001b[0;34m\u001b[0m\u001b[0m\n\u001b[0;32m---> 60\u001b[0;31m \u001b[0m_\u001b[0m \u001b[0;34m=\u001b[0m \u001b[0mattack\u001b[0m\u001b[0;34m(\u001b[0m\u001b[0mmodel\u001b[0m\u001b[0;34m,\u001b[0m \u001b[0mtest_img\u001b[0m\u001b[0;34m,\u001b[0m \u001b[0mtest_label\u001b[0m\u001b[0;34m)\u001b[0m\u001b[0;34m\u001b[0m\u001b[0;34m\u001b[0m\u001b[0m\n\u001b[0m",
            "\u001b[0;31mNameError\u001b[0m: name 'test_img' is not defined"
          ]
        }
      ]
    },
    {
      "cell_type": "code",
      "source": [
        "# Targeted attack\n",
        "# This is much harder/costlier than an untargeted attack\n",
        "# For time reasons, targeted attacks below use 20 iterations\n",
        "targeted_results = {}\n",
        "for idx in range(len(CIFAR_LABELS)):\n",
        "    if idx != test_label:\n",
        "        targeted_results[idx] = attack(model, test_img, test_label, target_label=idx, iters=20, verbose=False)\n",
        "        print(CIFAR_LABELS[idx], idx, targeted_results[idx][0], targeted_results[idx][2])\n",
        "    else:\n",
        "        print(CIFAR_LABELS[idx], idx, \"True Label\")"
      ],
      "metadata": {
        "colab": {
          "base_uri": "https://localhost:8080/",
          "height": 235
        },
        "id": "iCEZ50lhZtl5",
        "outputId": "1ee7b02e-3f59-4e99-c5cd-ac24af461071"
      },
      "execution_count": null,
      "outputs": [
        {
          "output_type": "error",
          "ename": "NameError",
          "evalue": "ignored",
          "traceback": [
            "\u001b[0;31m---------------------------------------------------------------------------\u001b[0m",
            "\u001b[0;31mNameError\u001b[0m                                 Traceback (most recent call last)",
            "\u001b[0;32m<ipython-input-76-1982be1e31ff>\u001b[0m in \u001b[0;36m<module>\u001b[0;34m()\u001b[0m\n\u001b[1;32m      4\u001b[0m \u001b[0mtargeted_results\u001b[0m \u001b[0;34m=\u001b[0m \u001b[0;34m{\u001b[0m\u001b[0;34m}\u001b[0m\u001b[0;34m\u001b[0m\u001b[0;34m\u001b[0m\u001b[0m\n\u001b[1;32m      5\u001b[0m \u001b[0;32mfor\u001b[0m \u001b[0midx\u001b[0m \u001b[0;32min\u001b[0m \u001b[0mrange\u001b[0m\u001b[0;34m(\u001b[0m\u001b[0mlen\u001b[0m\u001b[0;34m(\u001b[0m\u001b[0mCIFAR_LABELS\u001b[0m\u001b[0;34m)\u001b[0m\u001b[0;34m)\u001b[0m\u001b[0;34m:\u001b[0m\u001b[0;34m\u001b[0m\u001b[0;34m\u001b[0m\u001b[0m\n\u001b[0;32m----> 6\u001b[0;31m     \u001b[0;32mif\u001b[0m \u001b[0midx\u001b[0m \u001b[0;34m!=\u001b[0m \u001b[0mtest_label\u001b[0m\u001b[0;34m:\u001b[0m\u001b[0;34m\u001b[0m\u001b[0;34m\u001b[0m\u001b[0m\n\u001b[0m\u001b[1;32m      7\u001b[0m         \u001b[0mtargeted_results\u001b[0m\u001b[0;34m[\u001b[0m\u001b[0midx\u001b[0m\u001b[0;34m]\u001b[0m \u001b[0;34m=\u001b[0m \u001b[0mattack\u001b[0m\u001b[0;34m(\u001b[0m\u001b[0mmodel\u001b[0m\u001b[0;34m,\u001b[0m \u001b[0mtest_img\u001b[0m\u001b[0;34m,\u001b[0m \u001b[0mtest_label\u001b[0m\u001b[0;34m,\u001b[0m \u001b[0mtarget_label\u001b[0m\u001b[0;34m=\u001b[0m\u001b[0midx\u001b[0m\u001b[0;34m,\u001b[0m \u001b[0miters\u001b[0m\u001b[0;34m=\u001b[0m\u001b[0;36m20\u001b[0m\u001b[0;34m,\u001b[0m \u001b[0mverbose\u001b[0m\u001b[0;34m=\u001b[0m\u001b[0;32mFalse\u001b[0m\u001b[0;34m)\u001b[0m\u001b[0;34m\u001b[0m\u001b[0;34m\u001b[0m\u001b[0m\n\u001b[1;32m      8\u001b[0m         \u001b[0mprint\u001b[0m\u001b[0;34m(\u001b[0m\u001b[0mCIFAR_LABELS\u001b[0m\u001b[0;34m[\u001b[0m\u001b[0midx\u001b[0m\u001b[0;34m]\u001b[0m\u001b[0;34m,\u001b[0m \u001b[0midx\u001b[0m\u001b[0;34m,\u001b[0m \u001b[0mtargeted_results\u001b[0m\u001b[0;34m[\u001b[0m\u001b[0midx\u001b[0m\u001b[0;34m]\u001b[0m\u001b[0;34m[\u001b[0m\u001b[0;36m0\u001b[0m\u001b[0;34m]\u001b[0m\u001b[0;34m,\u001b[0m \u001b[0mtargeted_results\u001b[0m\u001b[0;34m[\u001b[0m\u001b[0midx\u001b[0m\u001b[0;34m]\u001b[0m\u001b[0;34m[\u001b[0m\u001b[0;36m2\u001b[0m\u001b[0;34m]\u001b[0m\u001b[0;34m)\u001b[0m\u001b[0;34m\u001b[0m\u001b[0;34m\u001b[0m\u001b[0m\n",
            "\u001b[0;31mNameError\u001b[0m: name 'test_label' is not defined"
          ]
        }
      ]
    }
  ]
}
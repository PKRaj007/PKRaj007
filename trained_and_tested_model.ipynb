{
  "nbformat": 4,
  "nbformat_minor": 0,
  "metadata": {
    "accelerator": "GPU",
    "colab": {
      "name": "trained and tested model.ipynb",
      "provenance": [],
      "collapsed_sections": [],
      "include_colab_link": true
    },
    "kernelspec": {
      "display_name": "Python 3",
      "name": "python3"
    }
  },
  "cells": [
    {
      "cell_type": "markdown",
      "metadata": {
        "id": "view-in-github",
        "colab_type": "text"
      },
      "source": [
        "<a href=\"https://colab.research.google.com/github/PKRaj007/PKRaj007/blob/main/trained_and_tested_model.ipynb\" target=\"_parent\"><img src=\"https://colab.research.google.com/assets/colab-badge.svg\" alt=\"Open In Colab\"/></a>"
      ]
    },
    {
      "cell_type": "code",
      "metadata": {
        "colab": {
          "base_uri": "https://localhost:8080/"
        },
        "id": "ctpFXWadTGhh",
        "outputId": "898c27d0-6151-4d84-b541-86007f3f2408"
      },
      "source": [
        "from google.colab import drive\n",
        "drive.mount('/content/drive')"
      ],
      "execution_count": null,
      "outputs": [
        {
          "output_type": "stream",
          "name": "stdout",
          "text": [
            "Mounted at /content/drive\n"
          ]
        }
      ]
    },
    {
      "cell_type": "code",
      "metadata": {
        "id": "Xac_XV5tR4Fw"
      },
      "source": [
        "import os,cv2\n",
        "import numpy as np\n",
        "import pandas as pd\n",
        "from math import exp, sqrt\n",
        "import matplotlib.pyplot as plt\n",
        "from sklearn import svm, datasets\n",
        "from sklearn.model_selection import train_test_split\n",
        "from sklearn.metrics import confusion_matrix\n",
        "from sklearn.utils.multiclass import unique_labels\n",
        "import matplotlib.image as mpimg\n",
        "from sklearn.utils import shuffle\n",
        "from keras.utils import np_utils\n",
        "import keras\n",
        "import tensorflow as tf\n",
        "import tensorflow.keras.backend as K\n",
        "from keras import Input \n",
        "from keras.models import Model\n",
        "from keras.layers.core import Dense, Dropout, Activation, Flatten\n",
        "from keras.layers import  BatchNormalization, Concatenate, Add, DepthwiseConv2D, GlobalAveragePooling2D, SeparableConv2D\n",
        "from tensorflow.keras.optimizers import SGD,RMSprop,Adam,Adagrad\n",
        "from keras.layers.convolutional import Conv2D, MaxPooling2D"
      ],
      "execution_count": null,
      "outputs": []
    },
    {
      "cell_type": "markdown",
      "metadata": {
        "id": "uCkuNYUF_rYe"
      },
      "source": [
        "**DATA READING**\n",
        "\n",
        "*Pre-proceesed using Modified homomorphsim with histogram equalization**"
      ]
    },
    {
      "cell_type": "code",
      "metadata": {
        "colab": {
          "base_uri": "https://localhost:8080/"
        },
        "id": "pPaRQBFvc39I",
        "outputId": "913af1b2-7a4e-45d7-e0e8-d25d7db9a5de"
      },
      "source": [
        "data_path='/content/drive/MyDrive/Pixel attack/CK+'\n",
        "data_dir_list = os.listdir(data_path)\n",
        "img_data_list=[]\n",
        "labels = []\n",
        "for dataset in data_dir_list:\n",
        "    img_list=os.listdir(data_path+'/'+ dataset)\n",
        "    print ('Loaded the images of dataset-'+'{}\\n'.format(dataset))\n",
        "    for img in img_list:\n",
        "        input_img=cv2.imread(data_path + '/'+ dataset + '/'+ img )\n",
        "        # img=cv2.cvtColor(input_img, cv2.COLOR_BGR2GRAY)\n",
        "        img = cv2.resize(input_img,(64,64))\n",
        "        labels.append(dataset)\n",
        "        img_data_list.append(img)    \n",
        "label=np.array(labels)\n",
        "img_data = np.array(img_data_list)\n",
        "img_data = img_data.astype('float32')\n",
        "img_data = img_data/255\n",
        "img_data.shape"
      ],
      "execution_count": null,
      "outputs": [
        {
          "output_type": "stream",
          "name": "stdout",
          "text": [
            "Loaded the images of dataset-4\n",
            "\n",
            "Loaded the images of dataset-3\n",
            "\n",
            "Loaded the images of dataset-2\n",
            "\n",
            "Loaded the images of dataset-6\n",
            "\n",
            "Loaded the images of dataset-5\n",
            "\n",
            "Loaded the images of dataset-1\n",
            "\n",
            "Loaded the images of dataset-0\n",
            "\n"
          ]
        },
        {
          "output_type": "execute_result",
          "data": {
            "text/plain": [
              "(977, 64, 64, 3)"
            ]
          },
          "metadata": {},
          "execution_count": 72
        }
      ]
    },
    {
      "cell_type": "code",
      "metadata": {
        "colab": {
          "base_uri": "https://localhost:8080/",
          "height": 285
        },
        "id": "f9Teyx2o2Jo8",
        "outputId": "eed41a72-a16c-4886-8686-6c4e58a9e1c9"
      },
      "source": [
        "plt.imshow(img_data[30], cmap = 'gray')\n",
        "plt.show"
      ],
      "execution_count": null,
      "outputs": [
        {
          "output_type": "execute_result",
          "data": {
            "text/plain": [
              "<function matplotlib.pyplot.show>"
            ]
          },
          "metadata": {},
          "execution_count": 73
        },
        {
          "output_type": "display_data",
          "data": {
            "text/plain": [
              "<Figure size 432x288 with 1 Axes>"
            ],
            "image/png": "[encoded data removed]"
          },
          "metadata": {
            "needs_background": "light"
          }
        }
      ]
    },
    {
      "cell_type": "code",
      "metadata": {
        "colab": {
          "base_uri": "https://localhost:8080/"
        },
        "id": "nauPP5rOAq1_",
        "outputId": "5ef84e31-bc27-4ea7-cf39-00d5987da69d"
      },
      "source": [
        "from sklearn.utils import shuffle\n",
        "num_classes = 7\n",
        "Y = np_utils.to_categorical(label, num_classes)\n",
        "x,y = shuffle(img_data, Y, random_state= 42)\n",
        "X_train, X_val, y_train, y_val = train_test_split(x,y,test_size=0.3, random_state = 42)\n",
        "print(X_train.shape)\n",
        "print(y_train.shape)"
      ],
      "execution_count": null,
      "outputs": [
        {
          "output_type": "stream",
          "name": "stdout",
          "text": [
            "(683, 64, 64, 3)\n",
            "(683, 7)\n"
          ]
        }
      ]
    },
    {
      "cell_type": "code",
      "metadata": {
        "colab": {
          "base_uri": "https://localhost:8080/",
          "height": 268
        },
        "id": "hH22omH1DTiK",
        "outputId": "0fe6686a-57ee-4cc8-b0c8-3f8c9c2ec716"
      },
      "source": [
        "plt.imshow(X_train[3])\n",
        "plt.show()"
      ],
      "execution_count": null,
      "outputs": [
        {
          "output_type": "display_data",
          "data": {
            "text/plain": [
              "<Figure size 432x288 with 1 Axes>"
            ],
            "image/png": "[encoded data removed]"
          },
          "metadata": {
            "needs_background": "light"
          }
        }
      ]
    },
    {
      "cell_type": "code",
      "metadata": {
        "id": "inTrSTlSMcp9"
      },
      "source": [
        "X_train = X_train.reshape(-1, 64,64,3)\n",
        "X_val = X_val.reshape(-1, 64,64,3)"
      ],
      "execution_count": null,
      "outputs": []
    },
    {
      "cell_type": "markdown",
      "metadata": {
        "id": "4u20m-WRR2lE"
      },
      "source": [
        "**CONCATENATION_of_Texture_Features*"
      ]
    },
    {
      "cell_type": "markdown",
      "metadata": {
        "id": "vEnk3YPq0A07"
      },
      "source": [
        "**TRANSFORM_UNIT_MODEL**"
      ]
    },
    {
      "cell_type": "code",
      "metadata": {
        "colab": {
          "base_uri": "https://localhost:8080/"
        },
        "id": "kHweDJTNCDNX",
        "outputId": "bd86f25a-8fa3-4d7a-8699-a921d1b2c3ba"
      },
      "source": [
        "from keras.layers import LeakyReLU\n",
        "def FER_MODEL(input_1,num_classes):\n",
        " \n",
        "  input_1 = Input(shape=(64, 64, 3), name='input_1')\n",
        " \n",
        "  conv1 = Conv2D(64,(3,3))(input_1)\n",
        "  B1 = BatchNormalization()(conv1)\n",
        "  A1 = Activation(\"relu\")(B1)\n",
        "  m1 = MaxPooling2D()(A1)\n",
        "  conv2 = Conv2D(128,(5,5))(m1)\n",
        "  B2 = BatchNormalization()(conv2)\n",
        "  A2 = Activation(\"relu\")(B2)\n",
        "  m2 = MaxPooling2D()(A2)\n",
        "  conv3 = Conv2D(256,(3,3))(m2)\n",
        "  B3 = BatchNormalization()(conv3)\n",
        "  A3 = Activation(\"relu\")(B3)\n",
        "  m3 = MaxPooling2D()(A3)\n",
        "  conv4 = Conv2D(256,(3,3))(m3)\n",
        "  B4 = BatchNormalization()(conv4)\n",
        "  A4 = Activation(\"relu\")(B4)\n",
        "  m4 = MaxPooling2D()(A4)\n",
        "  F = Flatten()(m4)\n",
        "  # GAP = GlobalAveragePooling2D()(conv1)\n",
        "  D1  = Dense(512, activation = \"relu\")(F)\n",
        "  D2  = Dense(256, activation = \"relu\")(D1)\n",
        "  \n",
        "  OUT  = Dense(num_classes, activation='softmax')(D2)\n",
        "  model = Model(inputs= [input_1], outputs= OUT, name=\"BaseModel\")\n",
        "  return model \n",
        "\n",
        "\n",
        "\n",
        "input_1 = Input(shape=(64, 64, 3), name='input_1')\n",
        "\n",
        "model = FER_MODEL(input_1, 7)\n",
        "model.summary()"
      ],
      "execution_count": null,
      "outputs": [
        {
          "output_type": "stream",
          "name": "stdout",
          "text": [
            "Model: \"BaseModel\"\n",
            "_________________________________________________________________\n",
            " Layer (type)                Output Shape              Param #   \n",
            "=================================================================\n",
            " input_1 (InputLayer)        [(None, 64, 64, 3)]       0         \n",
            "                                                                 \n",
            " conv2d_49 (Conv2D)          (None, 62, 62, 64)        1792      \n",
            "                                                                 \n",
            " batch_normalization_9 (Batc  (None, 62, 62, 64)       256       \n",
            " hNormalization)                                                 \n",
            "                                                                 \n",
            " activation_9 (Activation)   (None, 62, 62, 64)        0         \n",
            "                                                                 \n",
            " max_pooling2d_47 (MaxPoolin  (None, 31, 31, 64)       0         \n",
            " g2D)                                                            \n",
            "                                                                 \n",
            " conv2d_50 (Conv2D)          (None, 27, 27, 128)       204928    \n",
            "                                                                 \n",
            " batch_normalization_10 (Bat  (None, 27, 27, 128)      512       \n",
            " chNormalization)                                                \n",
            "                                                                 \n",
            " activation_10 (Activation)  (None, 27, 27, 128)       0         \n",
            "                                                                 \n",
            " max_pooling2d_48 (MaxPoolin  (None, 13, 13, 128)      0         \n",
            " g2D)                                                            \n",
            "                                                                 \n",
            " conv2d_51 (Conv2D)          (None, 11, 11, 256)       295168    \n",
            "                                                                 \n",
            " batch_normalization_11 (Bat  (None, 11, 11, 256)      1024      \n",
            " chNormalization)                                                \n",
            "                                                                 \n",
            " activation_11 (Activation)  (None, 11, 11, 256)       0         \n",
            "                                                                 \n",
            " max_pooling2d_49 (MaxPoolin  (None, 5, 5, 256)        0         \n",
            " g2D)                                                            \n",
            "                                                                 \n",
            " conv2d_52 (Conv2D)          (None, 3, 3, 256)         590080    \n",
            "                                                                 \n",
            " batch_normalization_12 (Bat  (None, 3, 3, 256)        1024      \n",
            " chNormalization)                                                \n",
            "                                                                 \n",
            " activation_12 (Activation)  (None, 3, 3, 256)         0         \n",
            "                                                                 \n",
            " max_pooling2d_50 (MaxPoolin  (None, 1, 1, 256)        0         \n",
            " g2D)                                                            \n",
            "                                                                 \n",
            " flatten_11 (Flatten)        (None, 256)               0         \n",
            "                                                                 \n",
            " dense_33 (Dense)            (None, 512)               131584    \n",
            "                                                                 \n",
            " dense_34 (Dense)            (None, 256)               131328    \n",
            "                                                                 \n",
            " dense_35 (Dense)            (None, 7)                 1799      \n",
            "                                                                 \n",
            "=================================================================\n",
            "Total params: 1,359,495\n",
            "Trainable params: 1,358,087\n",
            "Non-trainable params: 1,408\n",
            "_________________________________________________________________\n"
          ]
        }
      ]
    },
    {
      "cell_type": "code",
      "metadata": {
        "colab": {
          "base_uri": "https://localhost:8080/"
        },
        "id": "K_CTQ-0McVwo",
        "outputId": "f24eaf67-0123-49f3-deb5-85793c51f9fb"
      },
      "source": [
        "model.compile(optimizer= Adam(lr=0.0001, decay = 0.0006), loss='categorical_crossentropy', metrics=['accuracy'])\n",
        "history = model.fit([X_train], y_train, batch_size= 16, epochs=20, verbose=1,  shuffle = True)  #validation_data=([X_val], y_val),"
      ],
      "execution_count": null,
      "outputs": [
        {
          "output_type": "stream",
          "name": "stdout",
          "text": [
            "Epoch 1/20\n"
          ]
        },
        {
          "output_type": "stream",
          "name": "stderr",
          "text": [
            "/usr/local/lib/python3.7/dist-packages/keras/optimizer_v2/adam.py:105: UserWarning: The `lr` argument is deprecated, use `learning_rate` instead.\n",
            "  super(Adam, self).__init__(name, **kwargs)\n"
          ]
        },
        {
          "output_type": "stream",
          "name": "stdout",
          "text": [
            "43/43 [==============================] - 1s 14ms/step - loss: 1.2710 - accuracy: 0.5754\n",
            "Epoch 2/20\n",
            "43/43 [==============================] - 0s 8ms/step - loss: 0.5345 - accuracy: 0.8536\n",
            "Epoch 3/20\n",
            "43/43 [==============================] - 0s 9ms/step - loss: 0.2659 - accuracy: 0.9458\n",
            "Epoch 4/20\n",
            "43/43 [==============================] - 0s 9ms/step - loss: 0.1369 - accuracy: 0.9751\n",
            "Epoch 5/20\n",
            "43/43 [==============================] - 0s 8ms/step - loss: 0.0658 - accuracy: 0.9941\n",
            "Epoch 6/20\n",
            "43/43 [==============================] - 0s 8ms/step - loss: 0.0345 - accuracy: 0.9985\n",
            "Epoch 7/20\n",
            "43/43 [==============================] - 0s 9ms/step - loss: 0.0214 - accuracy: 1.0000\n",
            "Epoch 8/20\n",
            "43/43 [==============================] - 0s 8ms/step - loss: 0.0127 - accuracy: 1.0000\n",
            "Epoch 9/20\n",
            "43/43 [==============================] - 0s 8ms/step - loss: 0.0123 - accuracy: 0.9985\n",
            "Epoch 10/20\n",
            "43/43 [==============================] - 0s 8ms/step - loss: 0.0159 - accuracy: 0.9985\n",
            "Epoch 11/20\n",
            "43/43 [==============================] - 0s 8ms/step - loss: 0.0091 - accuracy: 1.0000\n",
            "Epoch 12/20\n",
            "43/43 [==============================] - 0s 9ms/step - loss: 0.0044 - accuracy: 1.0000\n",
            "Epoch 13/20\n",
            "43/43 [==============================] - 0s 8ms/step - loss: 0.0036 - accuracy: 1.0000\n",
            "Epoch 14/20\n",
            "43/43 [==============================] - 0s 8ms/step - loss: 0.0037 - accuracy: 1.0000\n",
            "Epoch 15/20\n",
            "43/43 [==============================] - 0s 9ms/step - loss: 0.0076 - accuracy: 0.9971\n",
            "Epoch 16/20\n",
            "43/43 [==============================] - 0s 8ms/step - loss: 0.0118 - accuracy: 0.9971\n",
            "Epoch 17/20\n",
            "43/43 [==============================] - 0s 8ms/step - loss: 0.0145 - accuracy: 0.9971\n",
            "Epoch 18/20\n",
            "43/43 [==============================] - 0s 8ms/step - loss: 0.0093 - accuracy: 0.9971\n",
            "Epoch 19/20\n",
            "43/43 [==============================] - 0s 8ms/step - loss: 0.0265 - accuracy: 0.9941\n",
            "Epoch 20/20\n",
            "43/43 [==============================] - 0s 9ms/step - loss: 0.0389 - accuracy: 0.9927\n"
          ]
        }
      ]
    },
    {
      "cell_type": "code",
      "metadata": {
        "id": "qjiaO67HcVzy",
        "colab": {
          "base_uri": "https://localhost:8080/"
        },
        "outputId": "c0f3a03d-78fe-4540-92ac-34fa4d28ebfe"
      },
      "source": [
        "preds_prob = model.predict([X_val])\n",
        "y_pred_labels = np.argmax(preds_prob, axis=1) \n",
        "print(y_pred_labels)\n"
      ],
      "execution_count": null,
      "outputs": [
        {
          "output_type": "stream",
          "name": "stdout",
          "text": [
            "[4 6 6 6 5 6 5 2 5 2 0 4 5 6 6 5 1 6 4 6 4 2 6 6 6 0 2 4 6 2 2 4 2 4 6 6 4\n",
            " 0 4 2 2 3 6 4 6 4 5 2 4 1 6 4 5 4 2 2 2 2 2 1 2 6 1 3 2 2 2 2 1 2 4 4 4 4\n",
            " 1 6 1 1 4 1 2 0 6 1 1 4 1 3 6 4 4 2 3 4 6 3 4 6 4 6 3 4 6 4 3 6 2 3 2 3 6\n",
            " 6 5 6 4 4 4 2 1 6 6 4 3 4 0 0 4 4 4 1 0 6 1 3 4 6 1 6 6 6 4 2 5 1 4 1 1 6\n",
            " 1 2 4 6 2 4 2 4 4 2 4 6 1 4 1 4 6 6 4 6 2 4 4 1 4 2 0 2 1 6 2 1 5 4 2 2 2\n",
            " 6 2 2 4 3 3 1 4 5 6 4 3 1 3 4 5 1 5 1 4 2 6 6 5 3 2 3 4 2 2 1 0 6 6 6 4 2\n",
            " 2 1 4 4 1 6 2 6 4 6 4 6 6 4 6 6 4 5 6 4 5 5 1 2 3 2 1 1 4 6 0 5 5 6 6 2 1\n",
            " 6 3 6 6 1 4 6 1 1 6 1 0 4 1 5 5 0 2 0 6 2 5 6 2 1 2 4 2 3 6 2 6 4 1 6]\n"
          ]
        }
      ]
    },
    {
      "cell_type": "code",
      "metadata": {
        "colab": {
          "base_uri": "https://localhost:8080/"
        },
        "id": "hrWNnN-VVz0K",
        "outputId": "8023ace6-1379-44e3-e79c-81855b142466"
      },
      "source": [
        "y_true =  np.argmax(y_val, axis=1)\n",
        "print(y_true) "
      ],
      "execution_count": null,
      "outputs": [
        {
          "output_type": "stream",
          "name": "stdout",
          "text": [
            "[4 6 6 6 5 6 5 2 6 2 0 4 3 6 6 5 1 6 4 6 4 2 6 6 6 0 2 4 6 2 2 4 2 4 6 6 4\n",
            " 0 4 2 2 3 6 4 6 4 5 2 4 1 6 4 5 4 2 2 2 2 2 1 2 6 3 3 2 2 2 2 1 2 4 4 4 4\n",
            " 1 6 1 1 4 1 2 0 6 1 1 4 1 3 6 3 4 2 3 4 6 3 4 6 4 6 3 3 6 4 3 6 2 3 2 3 6\n",
            " 6 5 6 4 4 4 2 1 6 6 4 3 4 0 0 4 4 4 1 0 6 1 3 4 6 1 6 6 6 4 2 5 1 4 1 1 6\n",
            " 1 2 4 6 2 4 2 4 4 2 4 6 1 4 1 4 6 6 4 6 2 4 3 1 4 2 0 2 1 6 2 1 5 4 2 2 2\n",
            " 6 2 2 4 3 3 1 4 5 6 4 3 1 3 4 5 1 5 1 4 2 6 6 5 3 2 3 3 2 2 1 0 6 6 6 4 2\n",
            " 2 1 4 4 1 6 2 6 4 6 4 6 6 3 6 6 4 5 6 4 5 5 1 2 3 2 1 1 4 6 0 6 5 6 6 2 1\n",
            " 6 3 6 6 1 4 6 3 1 6 1 0 4 1 5 5 0 2 0 6 2 5 6 2 3 2 4 2 3 6 2 6 4 1 6]\n"
          ]
        }
      ]
    },
    {
      "cell_type": "code",
      "metadata": {
        "colab": {
          "base_uri": "https://localhost:8080/"
        },
        "id": "qV5vQ_lIVPWe",
        "outputId": "d1f41446-553a-4cbe-cf3c-5ba965fc8bc2"
      },
      "source": [
        "# my_string = []\n",
        "# for digit in y_pred_labels:\n",
        "#   my_string.append(str(digit))\n",
        "from sklearn.metrics import accuracy_score\n",
        "print(accuracy_score(y_true, y_pred_labels))\n",
        "from sklearn.metrics import classification_report\n",
        "print(classification_report(y_true, y_pred_labels))\n",
        "from sklearn.metrics import confusion_matrix\n",
        "confusion_matrix(y_true, y_pred_labels)"
      ],
      "execution_count": null,
      "outputs": [
        {
          "output_type": "stream",
          "name": "stdout",
          "text": [
            "0.9625850340136054\n",
            "              precision    recall  f1-score   support\n",
            "\n",
            "           0       1.00      1.00      1.00        13\n",
            "           1       0.93      1.00      0.96        40\n",
            "           2       1.00      1.00      1.00        56\n",
            "           3       1.00      0.69      0.82        29\n",
            "           4       0.93      1.00      0.96        64\n",
            "           5       0.86      1.00      0.93        19\n",
            "           6       1.00      0.97      0.99        73\n",
            "\n",
            "    accuracy                           0.96       294\n",
            "   macro avg       0.96      0.95      0.95       294\n",
            "weighted avg       0.97      0.96      0.96       294\n",
            "\n"
          ]
        },
        {
          "output_type": "execute_result",
          "data": {
            "text/plain": [
              "array([[13,  0,  0,  0,  0,  0,  0],\n",
              "       [ 0, 40,  0,  0,  0,  0,  0],\n",
              "       [ 0,  0, 56,  0,  0,  0,  0],\n",
              "       [ 0,  3,  0, 20,  5,  1,  0],\n",
              "       [ 0,  0,  0,  0, 64,  0,  0],\n",
              "       [ 0,  0,  0,  0,  0, 19,  0],\n",
              "       [ 0,  0,  0,  0,  0,  2, 71]])"
            ]
          },
          "metadata": {},
          "execution_count": 91
        }
      ]
    },
    {
      "cell_type": "code",
      "metadata": {
        "colab": {
          "base_uri": "https://localhost:8080/",
          "height": 338
        },
        "id": "pVhkIiMfVPaf",
        "outputId": "47d0c443-a5ba-4fa1-d426-7c2a698772fa"
      },
      "source": [
        "from sklearn.metrics import confusion_matrix\n",
        "import seaborn as sns\n",
        "target_names = ['NE', 'AN', 'DI', 'FE', 'HA', 'SA', 'SU']\n",
        "cm = confusion_matrix(y_true, y_pred_labels)\n",
        "# Normalise\n",
        "cmn = cm.astype('float') / cm.sum(axis=1)[:, np.newaxis]\n",
        "fig, ax = plt.subplots(figsize=(5,5))\n",
        "sns.heatmap(cmn, annot=True, fmt='.2f', xticklabels=target_names, yticklabels=target_names)\n",
        "plt.ylabel('Actual')\n",
        "plt.xlabel('Predicted')\n",
        "plt.show(block=False)"
      ],
      "execution_count": null,
      "outputs": [
        {
          "output_type": "display_data",
          "data": {
            "text/plain": [
              "<Figure size 360x360 with 2 Axes>"
            ],
            "image/png": "[encoded data removed]"
          },
          "metadata": {
            "needs_background": "light"
          }
        }
      ]
    },
    {
      "cell_type": "code",
      "metadata": {
        "id": "-sxCOcAJhDDe"
      },
      "source": [
        "model.save('/content/drive/MyDrive/Pixel attack/CK+.h5')"
      ],
      "execution_count": null,
      "outputs": []
    }
  ]
}
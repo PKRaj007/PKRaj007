{
  "nbformat": 4,
  "nbformat_minor": 0,
  "metadata": {
    "colab": {
      "name": "CVDL_Project",
      "provenance": [],
      "collapsed_sections": [
        "xB8HH_6VnjsS"
      ],
      "include_colab_link": true
    },
    "kernelspec": {
      "name": "python3",
      "display_name": "Python 3"
    },
    "language_info": {
      "name": "python"
    },
    "accelerator": "GPU"
  },
  "cells": [
    {
      "cell_type": "markdown",
      "metadata": {
        "id": "view-in-github",
        "colab_type": "text"
      },
      "source": [
        "<a href=\"https://colab.research.google.com/github/PKRaj007/PKRaj007/blob/main/CVDL_Project.ipynb\" target=\"_parent\"><img src=\"https://colab.research.google.com/assets/colab-badge.svg\" alt=\"Open In Colab\"/></a>"
      ]
    },
    {
      "cell_type": "code",
      "source": [
        "from google.colab import drive\n",
        "drive.mount('/content/drive')"
      ],
      "metadata": {
        "colab": {
          "base_uri": "https://localhost:8080/"
        },
        "id": "3Xevwnr1YcGG",
        "outputId": "51e2f0bb-c50d-424c-b7ce-023b89da4bb0"
      },
      "execution_count": null,
      "outputs": [
        {
          "output_type": "stream",
          "name": "stdout",
          "text": [
            "Drive already mounted at /content/drive; to attempt to forcibly remount, call drive.mount(\"/content/drive\", force_remount=True).\n"
          ]
        }
      ]
    },
    {
      "cell_type": "code",
      "source": [
        "%cd /content/drive/MyDrive/Computer Vision/smoke_fog_dataset"
      ],
      "metadata": {
        "colab": {
          "base_uri": "https://localhost:8080/"
        },
        "id": "M6ONiLajYpNy",
        "outputId": "2ae83cad-61ae-4e5b-bc0d-90fbeeffaf66"
      },
      "execution_count": null,
      "outputs": [
        {
          "output_type": "stream",
          "name": "stdout",
          "text": [
            "/content/drive/.shortcut-targets-by-id/1l0l7QH5lS8z8L_MD-p6GX6kgZjzvhSYF/smoke_fog_dataset\n"
          ]
        }
      ]
    },
    {
      "cell_type": "code",
      "source": [
        "path='/content/drive/MyDrive/Computer Vision/smoke_fog_dataset/test/smoke/'"
      ],
      "metadata": {
        "id": "AduBbAgcu0TK"
      },
      "execution_count": null,
      "outputs": []
    },
    {
      "cell_type": "code",
      "source": [
        "!ls"
      ],
      "metadata": {
        "colab": {
          "base_uri": "https://localhost:8080/"
        },
        "id": "Ya7xBljGwaHQ",
        "outputId": "91c05f3a-8f52-4ba3-df3b-2c1632851ad3"
      },
      "execution_count": null,
      "outputs": [
        {
          "output_type": "stream",
          "name": "stdout",
          "text": [
            "'dataset introduction.docx'   test   train\n"
          ]
        }
      ]
    },
    {
      "cell_type": "code",
      "source": [
        "import matplotlib.pyplot as plt"
      ],
      "metadata": {
        "id": "R77isy79uhJT"
      },
      "execution_count": null,
      "outputs": []
    },
    {
      "cell_type": "markdown",
      "source": [
        "#Preprocessing"
      ],
      "metadata": {
        "id": "oKLHwWbMx602"
      }
    },
    {
      "cell_type": "code",
      "source": [
        "img = plt.imread(path +'smoke.994.jpg')"
      ],
      "metadata": {
        "id": "TukICNeoulAS"
      },
      "execution_count": null,
      "outputs": []
    },
    {
      "cell_type": "code",
      "source": [
        "img.shape"
      ],
      "metadata": {
        "colab": {
          "base_uri": "https://localhost:8080/"
        },
        "id": "8bsoZE5swsag",
        "outputId": "4e33576d-3c57-43dc-9535-d76e9927554e"
      },
      "execution_count": null,
      "outputs": [
        {
          "output_type": "execute_result",
          "data": {
            "text/plain": [
              "(592, 1280, 3)"
            ]
          },
          "metadata": {},
          "execution_count": 10
        }
      ]
    },
    {
      "cell_type": "markdown",
      "source": [
        "Rescaling Image using ImageDataGenerator"
      ],
      "metadata": {
        "id": "TGi4vrTevAGd"
      }
    },
    {
      "cell_type": "code",
      "source": [
        "from tensorflow.keras.preprocessing.image import ImageDataGenerator"
      ],
      "metadata": {
        "id": "L0O3bdo3vHn9"
      },
      "execution_count": null,
      "outputs": []
    },
    {
      "cell_type": "code",
      "source": [
        "train_data = ImageDataGenerator(rescale=1/255)\n",
        "#val_data = ImageDataGenerator(rescale=1/255)\n",
        "test_data = ImageDataGenerator(rescale=1/255)"
      ],
      "metadata": {
        "id": "vypl87yxvVgO"
      },
      "execution_count": null,
      "outputs": []
    },
    {
      "cell_type": "code",
      "source": [
        "train_generator = train_data.flow_from_directory('train', target_size=(224,224), batch_size=8, class_mode='categorical')"
      ],
      "metadata": {
        "colab": {
          "base_uri": "https://localhost:8080/"
        },
        "id": "_hK8gESzwKn3",
        "outputId": "efcd9138-2bf2-4448-fb72-3073ea5a494d"
      },
      "execution_count": null,
      "outputs": [
        {
          "output_type": "stream",
          "name": "stdout",
          "text": [
            "Found 26980 images belonging to 4 classes.\n"
          ]
        }
      ]
    },
    {
      "cell_type": "code",
      "source": [
        "test_generator = test_data.flow_from_directory('test', target_size=(224,224), batch_size=8,shuffle = False,class_mode='categorical')"
      ],
      "metadata": {
        "colab": {
          "base_uri": "https://localhost:8080/"
        },
        "id": "dIZepnDIxSWW",
        "outputId": "0e84d77b-9613-4171-8908-2369639a3da1"
      },
      "execution_count": null,
      "outputs": [
        {
          "output_type": "stream",
          "name": "stdout",
          "text": [
            "Found 6730 images belonging to 4 classes.\n"
          ]
        }
      ]
    },
    {
      "cell_type": "code",
      "source": [
        "y_true = test_generator.classes\n",
        "y_true"
      ],
      "metadata": {
        "colab": {
          "base_uri": "https://localhost:8080/"
        },
        "id": "tm7rd9btgS46",
        "outputId": "ebad8da3-32b0-4b69-eda5-b38d41113a15"
      },
      "execution_count": null,
      "outputs": [
        {
          "output_type": "execute_result",
          "data": {
            "text/plain": [
              "array([0, 0, 0, ..., 3, 3, 3], dtype=int32)"
            ]
          },
          "metadata": {},
          "execution_count": 13
        }
      ]
    },
    {
      "cell_type": "markdown",
      "source": [
        "# Designing the proposed vgg 16 model with Attention Mechanism and Feature Level and Decision Level Fusion as given in paper"
      ],
      "metadata": {
        "id": "J21Ig-HgLjXs"
      }
    },
    {
      "cell_type": "markdown",
      "source": [
        "# Designing the Model"
      ],
      "metadata": {
        "id": "oPeAkFdLysh8"
      }
    },
    {
      "cell_type": "code",
      "source": [
        "import tensorflow as tf\n",
        "\n",
        "from tensorflow.keras import models\n",
        "from tensorflow.keras import layers"
      ],
      "metadata": {
        "id": "zXDbVbaKyySz"
      },
      "execution_count": null,
      "outputs": []
    },
    {
      "cell_type": "code",
      "source": [
        "import cv2\n",
        "import numpy as np\n",
        "import os\n",
        "from keras.preprocessing.image import ImageDataGenerator\n",
        "from keras.layers import Dense,Flatten,Conv2D,Activation,Dropout\n",
        "from keras import backend as K\n",
        "\n",
        "import keras\n",
        "from keras.models import Sequential, Model\n",
        "from keras.models import load_model\n",
        "from tensorflow.keras.optimizers import SGD\n",
        "from keras.callbacks import EarlyStopping,ModelCheckpoint\n",
        "from keras.layers import MaxPool2D\n",
        "from keras.layers.pooling import AvgPool2D\n",
        "from google.colab.patches import cv2_imshow\n",
        "from tensorflow.keras.layers import *\n",
        "from keras import Input\n",
        "from keras.layers.convolutional import UpSampling2D\n",
        "\n",
        "# from tensorflow.keras import Add,Multiply"
      ],
      "metadata": {
        "id": "4QNlrXPLxevj"
      },
      "execution_count": null,
      "outputs": []
    },
    {
      "cell_type": "code",
      "source": [
        " # Spatial Attention Mechanism\n",
        "\n",
        "  # avg_pool_layer = AvgPool2D(1,(1,1))(vgg_layer2)\n",
        "  # max_pool_layer = MaxPool2D(1,(1,1))(vgg_layer2)\n",
        "  # add_layer = Concatenate()([avg_pool_layer,max_pool_layer])\n",
        "\n",
        "  # Channel Attention Mechanism\n",
        "\n",
        "  # global_avg_pool_layer = GlobalAvgPool2D()(spatial_attention_output)\n",
        "  # global_max_pool_layer = GlobalMaxPool2D()(b)\n",
        "\n",
        "  #dense_avg_layer = Dense(1)(global_avg_pool_layer)\n",
        "  #dense_max_layer = Dense(1)(global_max_pool_layer)\n",
        "\n",
        "  # add_layer = Add()([dense_avg_layer, dense_max_layer])\n",
        "  # mul_layer = Multiply()([add_layer, b])"
      ],
      "metadata": {
        "id": "DTUGRxBuArGd"
      },
      "execution_count": null,
      "outputs": []
    },
    {
      "cell_type": "markdown",
      "source": [
        ""
      ],
      "metadata": {
        "id": "-k8hCclxzzUP"
      }
    },
    {
      "cell_type": "code",
      "source": [
        "def vggSmokeDetectionModel(input, n/um_classes):\n",
        "  # Adding VGG Layer 1 and 2\n",
        "  input = Input(shape = (224,224,3))\n",
        "  #changing filters from 64 -> 16\n",
        "  input_layer = Conv2D(filters=16, kernel_size=(3,3), padding=\"same\", activation=\"relu\")(input)\n",
        "  input_layer = Conv2D(filters=64, kernel_size=(3,3), padding=\"same\", activation=\"relu\")(input_layer)\n",
        "\n",
        "  max_pool_layer1 = MaxPool2D(pool_size=(2,2), strides=(2,2))(input_layer)\n",
        "  #changing filters from 128 -> 32/64\n",
        "  vgg_layer1 = Conv2D(filters=32, kernel_size=(3,3), padding=\"same\", activation=\"relu\")(max_pool_layer1)\n",
        "  vgg_layer1 = Conv2D(filters=64, kernel_size=(3,3), padding=\"same\", activation=\"relu\")(vgg_layer1)\n",
        "\n",
        "  max_pool_layer2 = MaxPool2D(pool_size=(2,2), strides=(2,2))(vgg_layer1)\n",
        "  #changing filters from 256 -> 32/64\n",
        "  vgg_layer2 = Conv2D(filters=32, kernel_size=(3,3), padding=\"same\", activation=\"relu\")(max_pool_layer2)\n",
        "  vgg_layer2 = Conv2D(filters=32, kernel_size=(3,3), padding=\"same\", activation=\"relu\")(vgg_layer2)\n",
        "  vgg_layer2 = Conv2D(filters=64, kernel_size=(3,3), padding=\"same\", activation=\"relu\")(vgg_layer2)\n",
        "  \n",
        "  # Adding Spatial Attention\n",
        "  conv_spatial = Conv2D(filters=64, kernel_size=(3,3), padding='same', activation=\"relu\")(vgg_layer2)\n",
        "  weight_spatial = Activation(\"sigmoid\")(conv_spatial)\n",
        "  prod_spatial = Multiply()([vgg_layer2, weight_spatial])\n",
        "  spatial_attention_output = Add()([vgg_layer2, prod_spatial])\n",
        "\n",
        "  # Adding Channel Attention\n",
        "  conv_channel = Conv2D(filters=64, kernel_size=(1,1), padding=\"same\", activation=\"relu\")(spatial_attention_output)\n",
        "  global_avg_pool_layer = GlobalAvgPool2D()(conv_channel)\n",
        "  weight_channel = Activation(\"sigmoid\")(conv_channel)\n",
        "  prod_channel = Multiply()([spatial_attention_output,weight_channel])\n",
        "  channel_attention_output = Add()([spatial_attention_output, prod_channel])\n",
        "\n",
        "  # Applying Feature-Level Fusion\n",
        "\n",
        "  # Adding vgg_layer 3\n",
        "  vgg_maxPool_layer3 = MaxPool2D(pool_size=(2,2), strides=(2,2))(channel_attention_output)\n",
        "  #changing filters from 512 to 64/128\n",
        "  vgg_layer3 = Conv2D(filters=64, kernel_size=(3,3), padding=\"same\", activation=\"relu\")(vgg_maxPool_layer3)\n",
        "  vgg_layer3 = Conv2D(filters=64, kernel_size=(3,3), padding=\"same\", activation=\"relu\")(vgg_layer3)\n",
        "  vgg_layer3 = Conv2D(filters=128, kernel_size=(3,3), padding=\"same\", activation=\"relu\")(vgg_layer3)\n",
        "\n",
        "  # Adding vgg_layer 4\n",
        "  vgg_maxPool_layer4 = MaxPool2D(pool_size=(2,2), strides=(2,2))(vgg_layer3)\n",
        "  #changing filters from 512 to 64/128\n",
        "  vgg_layer4 = Conv2D(filters=64, kernel_size=(3,3), padding=\"same\", activation=\"relu\")(vgg_maxPool_layer4)\n",
        "  vgg_layer4 = Conv2D(filters=64, kernel_size=(3,3), padding=\"same\", activation=\"relu\")(vgg_layer4)\n",
        "  vgg_layer4 = Conv2D(filters=128, kernel_size=(3,3), padding=\"same\", activation=\"relu\")(vgg_layer4)\n",
        "\n",
        "  # Adding vgg_layer 5\n",
        "  vgg_maxPool_layer5 = MaxPool2D(pool_size=(2,2), strides=(2,2))(vgg_layer4)\n",
        "  vgg_layer5 = vgg_maxPool_layer5\n",
        "\n",
        "  # Applying 1*1 Convolution on vgg layer 5\n",
        "  #changing filters from 512 to 128\n",
        "  vgg_layer5_Conv = Conv2D(filters=128, kernel_size=(1,1), padding=\"same\", activation=\"relu\")(vgg_layer5)\n",
        "\n",
        "  # #Upsampling vgg_layer 5\n",
        "  vgg_layer5_Conv_Upsampled = UpSampling2D(size=(2,2))(vgg_layer5_Conv)\n",
        "\n",
        "  # Applying 1*1 Convolution on vgg layer 4\n",
        "  #changing filters from 512 to 128\n",
        "  vgg_layer4_Conv = Conv2D(filters=128, kernel_size=(1,1), padding=\"same\", activation=\"relu\")(vgg_layer4)\n",
        "\n",
        "  # Adding vgg_layer4_Conv with vgg_layer5_Conv_Upsampled\n",
        "  add_vgg_layer4_vgg_layer5 = Add()([vgg_layer4_Conv, vgg_layer5_Conv_Upsampled])\n",
        "\n",
        "  # UpSampling the Concatenated Result\n",
        "  add_vgg_layer4_vgg_layer5_upsampled = UpSampling2D(size=(2,2))(add_vgg_layer4_vgg_layer5)\n",
        "\n",
        "  # Applying 1*1 Convolution on vgg layer 3\n",
        "  #changing filters from 512 to 128\n",
        "  vgg_layer3_Conv = Conv2D(filters=128, kernel_size=(1,1), padding=\"same\", activation=\"relu\")(vgg_layer3)\n",
        "\n",
        "  # adding convolved vgg layer 3 with upsampled added vgg layer 4 and 5\n",
        "  add_all_layers = Add()([vgg_layer3_Conv, add_vgg_layer4_vgg_layer5_upsampled])\n",
        "\n",
        "  # Applying 3*3 Convolution Smoothing on vgg_layer 5\n",
        "  #changing filters from 512 to 128\n",
        "  vgg_layer5_smoothed = Conv2D(filters=128, kernel_size=(3,3), padding=\"same\", activation=\"relu\")(vgg_layer5)\n",
        "\n",
        "  # Applying 3*3 Convolution Smoothing on added upsampled convolved vgg layer 5 and convolved vgg layer 4\n",
        "  #changing filters from 512 to 128\n",
        "  add_vgg_layer4_vgg_layer5_smoothed = Conv2D(filters=128, kernel_size=(3,3), padding=\"same\", activation=\"relu\")(add_vgg_layer4_vgg_layer5)\n",
        "\n",
        "  # Applying 3*3 Convolution Smoothing on added all layers\n",
        "  #changing filters from 512 to 128\n",
        "  add_all_layer_smoothed = Conv2D(filters=128, kernel_size=(3,3), padding=\"same\", activation=\"relu\")(add_all_layers)\n",
        "\n",
        "  # Applying Decision Level Fusion\n",
        "\n",
        "  # Adding Classifier 1\n",
        "  #changing filters from 512 to 128\n",
        "  conv_classifier1 = Conv2D(filters=128, kernel_size=(1,1), padding=\"same\", activation=\"relu\")(vgg_layer5_smoothed)\n",
        "  dropout_classifier1 = Dropout(rate=0.2, seed=None)(conv_classifier1)\n",
        "  globalMaxPool_classifier1 = GlobalMaxPool2D()(dropout_classifier1)\n",
        "\n",
        "  dense_classifier1 = Dense(num_classes, activation = 'sigmoid')(globalMaxPool_classifier1)\n",
        "\n",
        "  # Adding Classifier 2\n",
        "  #changing filters from 512 to 128\n",
        "  conv_classifier2 = Conv2D(filters=128, kernel_size=(1,1), padding=\"same\", activation=\"relu\")(add_vgg_layer4_vgg_layer5_smoothed)\n",
        "  dropout_classifier2 = Dropout(rate=0.2, seed=None)(conv_classifier2)\n",
        "  globalMaxPool_classifier2 = GlobalMaxPool2D()(dropout_classifier2)\n",
        "\n",
        "  dense_classifier2 = Dense(num_classes, activation = 'sigmoid')(globalMaxPool_classifier2)\n",
        "\n",
        "  # Adding Classifier 3\n",
        "  #changing filters from 512 to 128\n",
        "  conv_classifier3 = Conv2D(filters=128, kernel_size=(1,1), padding=\"same\", activation=\"relu\")(add_all_layer_smoothed)\n",
        "  dropout_classifier3 = Dropout(rate=0.2, seed=None)(conv_classifier3)\n",
        "  globalMaxPool_classifier3 = GlobalMaxPool2D()(dropout_classifier3)\n",
        "\n",
        "  dense_classifier3 = Dense(num_classes, activation = 'softmax')(globalMaxPool_classifier3)\n",
        " \n",
        "  model = Model(inputs = input, outputs = [dense_classifier1, dense_classifier2, dense_classifier3])\n",
        "  return model\n",
        "\n",
        "input = Input(shape = (224,224,3))\n",
        "vgg_model = vggSmokeDetectionModel(input, 4)\n",
        "vgg_model.summary()"
      ],
      "metadata": {
        "colab": {
          "base_uri": "https://localhost:8080/"
        },
        "id": "nMaJ3z3Oyuvu",
        "outputId": "7f29db46-ed39-472c-87d9-b49727381c68"
      },
      "execution_count": null,
      "outputs": [
        {
          "output_type": "stream",
          "name": "stdout",
          "text": [
            "Model: \"model\"\n",
            "__________________________________________________________________________________________________\n",
            " Layer (type)                   Output Shape         Param #     Connected to                     \n",
            "==================================================================================================\n",
            " input_2 (InputLayer)           [(None, 224, 224, 3  0           []                               \n",
            "                                )]                                                                \n",
            "                                                                                                  \n",
            " conv2d (Conv2D)                (None, 224, 224, 16  448         ['input_2[0][0]']                \n",
            "                                )                                                                 \n",
            "                                                                                                  \n",
            " conv2d_1 (Conv2D)              (None, 224, 224, 64  9280        ['conv2d[0][0]']                 \n",
            "                                )                                                                 \n",
            "                                                                                                  \n",
            " max_pooling2d (MaxPooling2D)   (None, 112, 112, 64  0           ['conv2d_1[0][0]']               \n",
            "                                )                                                                 \n",
            "                                                                                                  \n",
            " conv2d_2 (Conv2D)              (None, 112, 112, 32  18464       ['max_pooling2d[0][0]']          \n",
            "                                )                                                                 \n",
            "                                                                                                  \n",
            " conv2d_3 (Conv2D)              (None, 112, 112, 64  18496       ['conv2d_2[0][0]']               \n",
            "                                )                                                                 \n",
            "                                                                                                  \n",
            " max_pooling2d_1 (MaxPooling2D)  (None, 56, 56, 64)  0           ['conv2d_3[0][0]']               \n",
            "                                                                                                  \n",
            " conv2d_4 (Conv2D)              (None, 56, 56, 32)   18464       ['max_pooling2d_1[0][0]']        \n",
            "                                                                                                  \n",
            " conv2d_5 (Conv2D)              (None, 56, 56, 32)   9248        ['conv2d_4[0][0]']               \n",
            "                                                                                                  \n",
            " conv2d_6 (Conv2D)              (None, 56, 56, 64)   18496       ['conv2d_5[0][0]']               \n",
            "                                                                                                  \n",
            " conv2d_7 (Conv2D)              (None, 56, 56, 64)   36928       ['conv2d_6[0][0]']               \n",
            "                                                                                                  \n",
            " activation (Activation)        (None, 56, 56, 64)   0           ['conv2d_7[0][0]']               \n",
            "                                                                                                  \n",
            " multiply (Multiply)            (None, 56, 56, 64)   0           ['conv2d_6[0][0]',               \n",
            "                                                                  'activation[0][0]']             \n",
            "                                                                                                  \n",
            " add (Add)                      (None, 56, 56, 64)   0           ['conv2d_6[0][0]',               \n",
            "                                                                  'multiply[0][0]']               \n",
            "                                                                                                  \n",
            " conv2d_8 (Conv2D)              (None, 56, 56, 64)   4160        ['add[0][0]']                    \n",
            "                                                                                                  \n",
            " activation_1 (Activation)      (None, 56, 56, 64)   0           ['conv2d_8[0][0]']               \n",
            "                                                                                                  \n",
            " multiply_1 (Multiply)          (None, 56, 56, 64)   0           ['add[0][0]',                    \n",
            "                                                                  'activation_1[0][0]']           \n",
            "                                                                                                  \n",
            " add_1 (Add)                    (None, 56, 56, 64)   0           ['add[0][0]',                    \n",
            "                                                                  'multiply_1[0][0]']             \n",
            "                                                                                                  \n",
            " max_pooling2d_2 (MaxPooling2D)  (None, 28, 28, 64)  0           ['add_1[0][0]']                  \n",
            "                                                                                                  \n",
            " conv2d_9 (Conv2D)              (None, 28, 28, 64)   36928       ['max_pooling2d_2[0][0]']        \n",
            "                                                                                                  \n",
            " conv2d_10 (Conv2D)             (None, 28, 28, 64)   36928       ['conv2d_9[0][0]']               \n",
            "                                                                                                  \n",
            " conv2d_11 (Conv2D)             (None, 28, 28, 128)  73856       ['conv2d_10[0][0]']              \n",
            "                                                                                                  \n",
            " max_pooling2d_3 (MaxPooling2D)  (None, 14, 14, 128)  0          ['conv2d_11[0][0]']              \n",
            "                                                                                                  \n",
            " conv2d_12 (Conv2D)             (None, 14, 14, 64)   73792       ['max_pooling2d_3[0][0]']        \n",
            "                                                                                                  \n",
            " conv2d_13 (Conv2D)             (None, 14, 14, 64)   36928       ['conv2d_12[0][0]']              \n",
            "                                                                                                  \n",
            " conv2d_14 (Conv2D)             (None, 14, 14, 128)  73856       ['conv2d_13[0][0]']              \n",
            "                                                                                                  \n",
            " max_pooling2d_4 (MaxPooling2D)  (None, 7, 7, 128)   0           ['conv2d_14[0][0]']              \n",
            "                                                                                                  \n",
            " conv2d_15 (Conv2D)             (None, 7, 7, 128)    16512       ['max_pooling2d_4[0][0]']        \n",
            "                                                                                                  \n",
            " conv2d_16 (Conv2D)             (None, 14, 14, 128)  16512       ['conv2d_14[0][0]']              \n",
            "                                                                                                  \n",
            " up_sampling2d (UpSampling2D)   (None, 14, 14, 128)  0           ['conv2d_15[0][0]']              \n",
            "                                                                                                  \n",
            " add_2 (Add)                    (None, 14, 14, 128)  0           ['conv2d_16[0][0]',              \n",
            "                                                                  'up_sampling2d[0][0]']          \n",
            "                                                                                                  \n",
            " conv2d_17 (Conv2D)             (None, 28, 28, 128)  16512       ['conv2d_11[0][0]']              \n",
            "                                                                                                  \n",
            " up_sampling2d_1 (UpSampling2D)  (None, 28, 28, 128)  0          ['add_2[0][0]']                  \n",
            "                                                                                                  \n",
            " add_3 (Add)                    (None, 28, 28, 128)  0           ['conv2d_17[0][0]',              \n",
            "                                                                  'up_sampling2d_1[0][0]']        \n",
            "                                                                                                  \n",
            " conv2d_18 (Conv2D)             (None, 7, 7, 128)    147584      ['max_pooling2d_4[0][0]']        \n",
            "                                                                                                  \n",
            " conv2d_19 (Conv2D)             (None, 14, 14, 128)  147584      ['add_2[0][0]']                  \n",
            "                                                                                                  \n",
            " conv2d_20 (Conv2D)             (None, 28, 28, 128)  147584      ['add_3[0][0]']                  \n",
            "                                                                                                  \n",
            " conv2d_21 (Conv2D)             (None, 7, 7, 128)    16512       ['conv2d_18[0][0]']              \n",
            "                                                                                                  \n",
            " conv2d_22 (Conv2D)             (None, 14, 14, 128)  16512       ['conv2d_19[0][0]']              \n",
            "                                                                                                  \n",
            " conv2d_23 (Conv2D)             (None, 28, 28, 128)  16512       ['conv2d_20[0][0]']              \n",
            "                                                                                                  \n",
            " dropout (Dropout)              (None, 7, 7, 128)    0           ['conv2d_21[0][0]']              \n",
            "                                                                                                  \n",
            " dropout_1 (Dropout)            (None, 14, 14, 128)  0           ['conv2d_22[0][0]']              \n",
            "                                                                                                  \n",
            " dropout_2 (Dropout)            (None, 28, 28, 128)  0           ['conv2d_23[0][0]']              \n",
            "                                                                                                  \n",
            " global_max_pooling2d (GlobalMa  (None, 128)         0           ['dropout[0][0]']                \n",
            " xPooling2D)                                                                                      \n",
            "                                                                                                  \n",
            " global_max_pooling2d_1 (Global  (None, 128)         0           ['dropout_1[0][0]']              \n",
            " MaxPooling2D)                                                                                    \n",
            "                                                                                                  \n",
            " global_max_pooling2d_2 (Global  (None, 128)         0           ['dropout_2[0][0]']              \n",
            " MaxPooling2D)                                                                                    \n",
            "                                                                                                  \n",
            " dense (Dense)                  (None, 4)            516         ['global_max_pooling2d[0][0]']   \n",
            "                                                                                                  \n",
            " dense_1 (Dense)                (None, 4)            516         ['global_max_pooling2d_1[0][0]'] \n",
            "                                                                                                  \n",
            " dense_2 (Dense)                (None, 4)            516         ['global_max_pooling2d_2[0][0]'] \n",
            "                                                                                                  \n",
            "==================================================================================================\n",
            "Total params: 1,009,644\n",
            "Trainable params: 1,009,644\n",
            "Non-trainable params: 0\n",
            "__________________________________________________________________________________________________\n"
          ]
        }
      ]
    },
    {
      "cell_type": "code",
      "source": [
        "# vgg_model.parameters()"
      ],
      "metadata": {
        "id": "s9P_9jVWINyZ"
      },
      "execution_count": null,
      "outputs": []
    },
    {
      "cell_type": "markdown",
      "source": [
        "# Training the Model"
      ],
      "metadata": {
        "id": "eUcc93FM9HVC"
      }
    },
    {
      "cell_type": "code",
      "source": [
        "from tensorflow.keras.optimizers import SGD\n",
        "import tensorflow.keras.metrics as tfm\n",
        "\n",
        "# from decimal import *"
      ],
      "metadata": {
        "id": "2lPMOpw29J0K"
      },
      "execution_count": null,
      "outputs": []
    },
    {
      "cell_type": "code",
      "source": [
        "opt = SGD(learning_rate=0.001)\n",
        "\n",
        "vgg_model.compile(optimizer=opt, \n",
        "              loss={\n",
        "                  'dense': 'categorical_crossentropy', \n",
        "                  'dense_1': 'categorical_crossentropy', \n",
        "                  'dense_2': 'categorical_crossentropy'},\n",
        "              loss_weights={\n",
        "                  'dense': 1, \n",
        "                  'dense_1': 1, \n",
        "                  'dense_2': 1},\n",
        "              metrics=['accuracy'])"
      ],
      "metadata": {
        "id": "aY1eUWA29bQd"
      },
      "execution_count": null,
      "outputs": []
    },
    {
      "cell_type": "code",
      "source": [
        "vgg_model_results = vgg_model.fit(train_generator, epochs=30)"
      ],
      "metadata": {
        "id": "3bZuRaps_hg4",
        "colab": {
          "base_uri": "https://localhost:8080/"
        },
        "outputId": "7a7ae76f-1800-45a3-d062-e0efef5b14e3"
      },
      "execution_count": null,
      "outputs": [
        {
          "output_type": "stream",
          "name": "stdout",
          "text": [
            "Epoch 1/30\n",
            "3373/3373 [==============================] - 7732s 2s/step - loss: 3.0930 - dense_loss: 1.0408 - dense_1_loss: 1.0310 - dense_2_loss: 1.0212 - dense_accuracy: 0.5326 - dense_1_accuracy: 0.5279 - dense_2_accuracy: 0.5348\n",
            "Epoch 2/30\n",
            "3373/3373 [==============================] - 195s 58ms/step - loss: 1.5617 - dense_loss: 0.5190 - dense_1_loss: 0.5222 - dense_2_loss: 0.5206 - dense_accuracy: 0.7683 - dense_1_accuracy: 0.7656 - dense_2_accuracy: 0.7646\n",
            "Epoch 3/30\n",
            "3373/3373 [==============================] - 193s 57ms/step - loss: 0.9227 - dense_loss: 0.2931 - dense_1_loss: 0.3099 - dense_2_loss: 0.3197 - dense_accuracy: 0.8810 - dense_1_accuracy: 0.8734 - dense_2_accuracy: 0.8696\n",
            "Epoch 4/30\n",
            "3373/3373 [==============================] - 193s 57ms/step - loss: 0.5176 - dense_loss: 0.1634 - dense_1_loss: 0.1665 - dense_2_loss: 0.1878 - dense_accuracy: 0.9394 - dense_1_accuracy: 0.9378 - dense_2_accuracy: 0.9326\n",
            "Epoch 5/30\n",
            "3373/3373 [==============================] - 192s 57ms/step - loss: 0.2558 - dense_loss: 0.0862 - dense_1_loss: 0.0802 - dense_2_loss: 0.0894 - dense_accuracy: 0.9711 - dense_1_accuracy: 0.9729 - dense_2_accuracy: 0.9704\n",
            "Epoch 6/30\n",
            "3373/3373 [==============================] - 192s 57ms/step - loss: 0.1670 - dense_loss: 0.0557 - dense_1_loss: 0.0541 - dense_2_loss: 0.0572 - dense_accuracy: 0.9827 - dense_1_accuracy: 0.9840 - dense_2_accuracy: 0.9832\n",
            "Epoch 7/30\n",
            "3373/3373 [==============================] - 192s 57ms/step - loss: 0.1000 - dense_loss: 0.0355 - dense_1_loss: 0.0282 - dense_2_loss: 0.0363 - dense_accuracy: 0.9896 - dense_1_accuracy: 0.9914 - dense_2_accuracy: 0.9893\n",
            "Epoch 8/30\n",
            "3373/3373 [==============================] - 193s 57ms/step - loss: 0.1877 - dense_loss: 0.0610 - dense_1_loss: 0.0614 - dense_2_loss: 0.0653 - dense_accuracy: 0.9812 - dense_1_accuracy: 0.9807 - dense_2_accuracy: 0.9798\n",
            "Epoch 9/30\n",
            "3373/3373 [==============================] - 193s 57ms/step - loss: 0.1786 - dense_loss: 0.0608 - dense_1_loss: 0.0566 - dense_2_loss: 0.0611 - dense_accuracy: 0.9773 - dense_1_accuracy: 0.9778 - dense_2_accuracy: 0.9781\n",
            "Epoch 10/30\n",
            "3373/3373 [==============================] - 192s 57ms/step - loss: 1.0992 - dense_loss: 0.3693 - dense_1_loss: 0.3708 - dense_2_loss: 0.3591 - dense_accuracy: 0.8355 - dense_1_accuracy: 0.8330 - dense_2_accuracy: 0.8369\n",
            "Epoch 11/30\n",
            "3373/3373 [==============================] - 192s 57ms/step - loss: 0.5917 - dense_loss: 0.2008 - dense_1_loss: 0.1891 - dense_2_loss: 0.2018 - dense_accuracy: 0.9244 - dense_1_accuracy: 0.9305 - dense_2_accuracy: 0.9218\n",
            "Epoch 12/30\n",
            "3373/3373 [==============================] - 193s 57ms/step - loss: 0.2511 - dense_loss: 0.0813 - dense_1_loss: 0.0766 - dense_2_loss: 0.0933 - dense_accuracy: 0.9745 - dense_1_accuracy: 0.9771 - dense_2_accuracy: 0.9718\n",
            "Epoch 13/30\n",
            "3373/3373 [==============================] - 193s 57ms/step - loss: 0.2151 - dense_loss: 0.0772 - dense_1_loss: 0.0667 - dense_2_loss: 0.0712 - dense_accuracy: 0.9774 - dense_1_accuracy: 0.9807 - dense_2_accuracy: 0.9786\n",
            "Epoch 14/30\n",
            "3373/3373 [==============================] - 193s 57ms/step - loss: 0.0778 - dense_loss: 0.0286 - dense_1_loss: 0.0224 - dense_2_loss: 0.0268 - dense_accuracy: 0.9928 - dense_1_accuracy: 0.9936 - dense_2_accuracy: 0.9929\n",
            "Epoch 15/30\n",
            "3373/3373 [==============================] - 193s 57ms/step - loss: 0.0549 - dense_loss: 0.0190 - dense_1_loss: 0.0173 - dense_2_loss: 0.0186 - dense_accuracy: 0.9942 - dense_1_accuracy: 0.9948 - dense_2_accuracy: 0.9952\n",
            "Epoch 16/30\n",
            "3373/3373 [==============================] - 193s 57ms/step - loss: 0.0288 - dense_loss: 0.0073 - dense_1_loss: 0.0050 - dense_2_loss: 0.0165 - dense_accuracy: 0.9978 - dense_1_accuracy: 0.9983 - dense_2_accuracy: 0.9960\n",
            "Epoch 17/30\n",
            "3373/3373 [==============================] - 193s 57ms/step - loss: 0.0281 - dense_loss: 0.0093 - dense_1_loss: 0.0071 - dense_2_loss: 0.0116 - dense_accuracy: 0.9982 - dense_1_accuracy: 0.9988 - dense_2_accuracy: 0.9974\n",
            "Epoch 18/30\n",
            "3373/3373 [==============================] - 192s 57ms/step - loss: 0.0181 - dense_loss: 0.0064 - dense_1_loss: 0.0067 - dense_2_loss: 0.0051 - dense_accuracy: 0.9986 - dense_1_accuracy: 0.9983 - dense_2_accuracy: 0.9987\n",
            "Epoch 19/30\n",
            "3373/3373 [==============================] - 193s 57ms/step - loss: 0.0112 - dense_loss: 0.0029 - dense_1_loss: 0.0039 - dense_2_loss: 0.0044 - dense_accuracy: 0.9994 - dense_1_accuracy: 0.9991 - dense_2_accuracy: 0.9988\n",
            "Epoch 20/30\n",
            "3373/3373 [==============================] - 192s 57ms/step - loss: 0.0144 - dense_loss: 0.0048 - dense_1_loss: 0.0024 - dense_2_loss: 0.0072 - dense_accuracy: 0.9984 - dense_1_accuracy: 0.9994 - dense_2_accuracy: 0.9984\n",
            "Epoch 21/30\n",
            "3373/3373 [==============================] - 195s 58ms/step - loss: 0.0111 - dense_loss: 0.0069 - dense_1_loss: 0.0021 - dense_2_loss: 0.0021 - dense_accuracy: 0.9980 - dense_1_accuracy: 0.9993 - dense_2_accuracy: 0.9994\n",
            "Epoch 22/30\n",
            "3373/3373 [==============================] - 192s 57ms/step - loss: 0.0175 - dense_loss: 0.0084 - dense_1_loss: 0.0053 - dense_2_loss: 0.0039 - dense_accuracy: 0.9977 - dense_1_accuracy: 0.9985 - dense_2_accuracy: 0.9984\n",
            "Epoch 23/30\n",
            "3373/3373 [==============================] - 193s 57ms/step - loss: 0.0177 - dense_loss: 0.0080 - dense_1_loss: 0.0052 - dense_2_loss: 0.0045 - dense_accuracy: 0.9984 - dense_1_accuracy: 0.9989 - dense_2_accuracy: 0.9992\n",
            "Epoch 24/30\n",
            "3373/3373 [==============================] - 192s 57ms/step - loss: 0.0033 - dense_loss: 0.0018 - dense_1_loss: 0.0012 - dense_2_loss: 3.6535e-04 - dense_accuracy: 0.9996 - dense_1_accuracy: 0.9996 - dense_2_accuracy: 1.0000\n",
            "Epoch 25/30\n",
            "3373/3373 [==============================] - 193s 57ms/step - loss: 0.0500 - dense_loss: 0.0182 - dense_1_loss: 0.0195 - dense_2_loss: 0.0124 - dense_accuracy: 0.9952 - dense_1_accuracy: 0.9950 - dense_2_accuracy: 0.9961\n",
            "Epoch 26/30\n",
            "3373/3373 [==============================] - 193s 57ms/step - loss: 0.2868 - dense_loss: 0.0943 - dense_1_loss: 0.0917 - dense_2_loss: 0.1008 - dense_accuracy: 0.9631 - dense_1_accuracy: 0.9615 - dense_2_accuracy: 0.9597\n",
            "Epoch 27/30\n",
            "3373/3373 [==============================] - 192s 57ms/step - loss: 0.0583 - dense_loss: 0.0192 - dense_1_loss: 0.0153 - dense_2_loss: 0.0237 - dense_accuracy: 0.9951 - dense_1_accuracy: 0.9967 - dense_2_accuracy: 0.9948\n",
            "Epoch 28/30\n",
            "3373/3373 [==============================] - 191s 57ms/step - loss: 0.0250 - dense_loss: 0.0106 - dense_1_loss: 0.0066 - dense_2_loss: 0.0078 - dense_accuracy: 0.9969 - dense_1_accuracy: 0.9980 - dense_2_accuracy: 0.9978\n",
            "Epoch 29/30\n",
            " 374/3373 [==>...........................] - ETA: 2:52 - loss: 0.0082 - dense_loss: 0.0055 - dense_1_loss: 0.0012 - dense_2_loss: 0.0014 - dense_accuracy: 0.9980 - dense_1_accuracy: 0.9993 - dense_2_accuracy: 0.9997"
          ]
        }
      ]
    },
    {
      "cell_type": "code",
      "source": [
        "vgg_model_results = vgg_model.fit(train_generator, epochs=30)"
      ],
      "metadata": {
        "colab": {
          "base_uri": "https://localhost:8080/"
        },
        "id": "-1EZ7I0Yty4X",
        "outputId": "b45d2ce7-2fda-4062-b606-e9db9d19213f"
      },
      "execution_count": null,
      "outputs": [
        {
          "output_type": "stream",
          "name": "stdout",
          "text": [
            "Epoch 1/30\n",
            "3373/3373 [==============================] - 4603s 1s/step - loss: 3.5905 - dense_loss: 1.2067 - dense_1_loss: 1.2076 - dense_2_loss: 1.1762 - dense_accuracy: 0.4345 - dense_1_accuracy: 0.4182 - dense_2_accuracy: 0.4552\n",
            "Epoch 2/30\n",
            "3373/3373 [==============================] - 384s 114ms/step - loss: 1.6341 - dense_loss: 0.5414 - dense_1_loss: 0.5503 - dense_2_loss: 0.5424 - dense_accuracy: 0.7559 - dense_1_accuracy: 0.7510 - dense_2_accuracy: 0.7520\n",
            "Epoch 3/30\n",
            "3373/3373 [==============================] - 385s 114ms/step - loss: 0.8333 - dense_loss: 0.2540 - dense_1_loss: 0.2783 - dense_2_loss: 0.3010 - dense_accuracy: 0.8971 - dense_1_accuracy: 0.8895 - dense_2_accuracy: 0.8780\n",
            "Epoch 4/30\n",
            "3373/3373 [==============================] - 383s 114ms/step - loss: 0.4028 - dense_loss: 0.1193 - dense_1_loss: 0.1268 - dense_2_loss: 0.1568 - dense_accuracy: 0.9580 - dense_1_accuracy: 0.9552 - dense_2_accuracy: 0.9437\n",
            "Epoch 5/30\n",
            "3373/3373 [==============================] - 383s 114ms/step - loss: 0.2402 - dense_loss: 0.0738 - dense_1_loss: 0.0764 - dense_2_loss: 0.0899 - dense_accuracy: 0.9760 - dense_1_accuracy: 0.9764 - dense_2_accuracy: 0.9689\n",
            "Epoch 6/30\n",
            "3373/3373 [==============================] - 387s 115ms/step - loss: 0.1279 - dense_loss: 0.0440 - dense_1_loss: 0.0388 - dense_2_loss: 0.0452 - dense_accuracy: 0.9860 - dense_1_accuracy: 0.9877 - dense_2_accuracy: 0.9860\n",
            "Epoch 7/30\n",
            "3373/3373 [==============================] - 385s 114ms/step - loss: 0.0954 - dense_loss: 0.0389 - dense_1_loss: 0.0313 - dense_2_loss: 0.0252 - dense_accuracy: 0.9895 - dense_1_accuracy: 0.9903 - dense_2_accuracy: 0.9933\n",
            "Epoch 8/30\n",
            "3373/3373 [==============================] - 386s 114ms/step - loss: 0.0707 - dense_loss: 0.0222 - dense_1_loss: 0.0180 - dense_2_loss: 0.0304 - dense_accuracy: 0.9935 - dense_1_accuracy: 0.9950 - dense_2_accuracy: 0.9922\n",
            "Epoch 9/30\n",
            "3373/3373 [==============================] - 385s 114ms/step - loss: 0.0453 - dense_loss: 0.0209 - dense_1_loss: 0.0133 - dense_2_loss: 0.0111 - dense_accuracy: 0.9944 - dense_1_accuracy: 0.9958 - dense_2_accuracy: 0.9970\n",
            "Epoch 10/30\n",
            "3373/3373 [==============================] - 386s 114ms/step - loss: 0.0347 - dense_loss: 0.0104 - dense_1_loss: 0.0167 - dense_2_loss: 0.0076 - dense_accuracy: 0.9972 - dense_1_accuracy: 0.9961 - dense_2_accuracy: 0.9987\n",
            "Epoch 11/30\n",
            "3373/3373 [==============================] - 387s 115ms/step - loss: 0.0316 - dense_loss: 0.0085 - dense_1_loss: 0.0099 - dense_2_loss: 0.0132 - dense_accuracy: 0.9977 - dense_1_accuracy: 0.9975 - dense_2_accuracy: 0.9971\n",
            "Epoch 12/30\n",
            "3373/3373 [==============================] - 387s 115ms/step - loss: 0.0286 - dense_loss: 0.0072 - dense_1_loss: 0.0102 - dense_2_loss: 0.0113 - dense_accuracy: 0.9982 - dense_1_accuracy: 0.9977 - dense_2_accuracy: 0.9972\n",
            "Epoch 13/30\n",
            "3373/3373 [==============================] - 390s 116ms/step - loss: 0.0285 - dense_loss: 0.0121 - dense_1_loss: 0.0090 - dense_2_loss: 0.0074 - dense_accuracy: 0.9965 - dense_1_accuracy: 0.9976 - dense_2_accuracy: 0.9982\n",
            "Epoch 14/30\n",
            "3373/3373 [==============================] - 390s 116ms/step - loss: 0.0216 - dense_loss: 0.0142 - dense_1_loss: 0.0058 - dense_2_loss: 0.0015 - dense_accuracy: 0.9966 - dense_1_accuracy: 0.9987 - dense_2_accuracy: 0.9999\n",
            "Epoch 15/30\n",
            "3373/3373 [==============================] - 390s 116ms/step - loss: 0.0094 - dense_loss: 0.0073 - dense_1_loss: 0.0010 - dense_2_loss: 0.0011 - dense_accuracy: 0.9980 - dense_1_accuracy: 0.9999 - dense_2_accuracy: 0.9997\n",
            "Epoch 16/30\n",
            "3373/3373 [==============================] - 390s 116ms/step - loss: 0.0151 - dense_loss: 0.0111 - dense_1_loss: 0.0017 - dense_2_loss: 0.0023 - dense_accuracy: 0.9973 - dense_1_accuracy: 0.9995 - dense_2_accuracy: 0.9996\n",
            "Epoch 17/30\n",
            "3373/3373 [==============================] - 391s 116ms/step - loss: 0.0219 - dense_loss: 0.0111 - dense_1_loss: 0.0074 - dense_2_loss: 0.0034 - dense_accuracy: 0.9973 - dense_1_accuracy: 0.9982 - dense_2_accuracy: 0.9992\n",
            "Epoch 18/30\n",
            "3373/3373 [==============================] - 389s 115ms/step - loss: 0.0168 - dense_loss: 0.0058 - dense_1_loss: 0.0056 - dense_2_loss: 0.0054 - dense_accuracy: 0.9986 - dense_1_accuracy: 0.9987 - dense_2_accuracy: 0.9989\n",
            "Epoch 19/30\n",
            "3373/3373 [==============================] - 390s 116ms/step - loss: 0.0160 - dense_loss: 0.0034 - dense_1_loss: 0.0080 - dense_2_loss: 0.0046 - dense_accuracy: 0.9990 - dense_1_accuracy: 0.9984 - dense_2_accuracy: 0.9989\n",
            "Epoch 20/30\n",
            "3373/3373 [==============================] - 389s 115ms/step - loss: 0.0129 - dense_loss: 0.0022 - dense_1_loss: 0.0027 - dense_2_loss: 0.0080 - dense_accuracy: 0.9992 - dense_1_accuracy: 0.9997 - dense_2_accuracy: 0.9986\n",
            "Epoch 21/30\n",
            "3373/3373 [==============================] - 389s 115ms/step - loss: 0.0038 - dense_loss: 0.0019 - dense_1_loss: 5.9039e-04 - dense_2_loss: 0.0014 - dense_accuracy: 0.9994 - dense_1_accuracy: 0.9999 - dense_2_accuracy: 0.9996\n",
            "Epoch 22/30\n",
            "3373/3373 [==============================] - 389s 115ms/step - loss: 0.0187 - dense_loss: 0.0019 - dense_1_loss: 0.0023 - dense_2_loss: 0.0144 - dense_accuracy: 0.9997 - dense_1_accuracy: 0.9995 - dense_2_accuracy: 0.9972\n",
            "Epoch 23/30\n",
            "3373/3373 [==============================] - 390s 116ms/step - loss: 0.0061 - dense_loss: 7.1632e-04 - dense_1_loss: 8.1025e-04 - dense_2_loss: 0.0045 - dense_accuracy: 0.9998 - dense_1_accuracy: 0.9999 - dense_2_accuracy: 0.9991\n",
            "Epoch 24/30\n",
            "3373/3373 [==============================] - 390s 116ms/step - loss: 0.0035 - dense_loss: 0.0023 - dense_1_loss: 8.8018e-04 - dense_2_loss: 2.9177e-04 - dense_accuracy: 0.9996 - dense_1_accuracy: 0.9999 - dense_2_accuracy: 0.9999\n",
            "Epoch 25/30\n",
            " 426/3373 [==>...........................] - ETA: 5:39 - loss: 0.0037 - dense_loss: 0.0031 - dense_1_loss: 4.4555e-04 - dense_2_loss: 1.9970e-04 - dense_accuracy: 0.9994 - dense_1_accuracy: 1.0000 - dense_2_accuracy: 1.0000"
          ]
        }
      ]
    },
    {
      "cell_type": "code",
      "source": [
        "callbacks = [\n",
        "             tf.keras.callbacks.ModelCheckpoint(\n",
        "                 '/content/drive/MyDrive/Computer Vision/smoke_fog_dataset/model_save.h5',\n",
        "                 save_best_only=True,\n",
        "                 monitor='accuracy'\n",
        "             )\n",
        "]"
      ],
      "metadata": {
        "id": "jmKw6Dy6EAwU"
      },
      "execution_count": null,
      "outputs": []
    },
    {
      "cell_type": "code",
      "source": [
        "vgg_model.fit(train_generator, epochs=10,callbacks=callbacks)"
      ],
      "metadata": {
        "colab": {
          "base_uri": "https://localhost:8080/"
        },
        "id": "qvz-mleGzJex",
        "outputId": "eea871da-0790-4553-b20a-bf88c3d0b90d"
      },
      "execution_count": null,
      "outputs": [
        {
          "output_type": "stream",
          "name": "stdout",
          "text": [
            "Epoch 1/10\n",
            "3373/3373 [==============================] - ETA: 0s - loss: 2.9190 - dense_loss: 0.9721 - dense_1_loss: 0.9770 - dense_2_loss: 0.9700 - dense_accuracy: 0.5478 - dense_1_accuracy: 0.5394 - dense_2_accuracy: 0.5399WARNING:tensorflow:Can save best model only with accuracy available, skipping.\n",
            "3373/3373 [==============================] - 6046s 2s/step - loss: 2.9190 - dense_loss: 0.9721 - dense_1_loss: 0.9770 - dense_2_loss: 0.9700 - dense_accuracy: 0.5478 - dense_1_accuracy: 0.5394 - dense_2_accuracy: 0.5399\n",
            "Epoch 2/10\n",
            "3373/3373 [==============================] - ETA: 0s - loss: 0.9773 - dense_loss: 0.3109 - dense_1_loss: 0.3333 - dense_2_loss: 0.3331 - dense_accuracy: 0.8759 - dense_1_accuracy: 0.8648 - dense_2_accuracy: 0.8640WARNING:tensorflow:Can save best model only with accuracy available, skipping.\n",
            "3373/3373 [==============================] - 510s 151ms/step - loss: 0.9773 - dense_loss: 0.3109 - dense_1_loss: 0.3333 - dense_2_loss: 0.3331 - dense_accuracy: 0.8759 - dense_1_accuracy: 0.8648 - dense_2_accuracy: 0.8640\n",
            "Epoch 3/10\n",
            "3373/3373 [==============================] - ETA: 0s - loss: 0.4357 - dense_loss: 0.1322 - dense_1_loss: 0.1453 - dense_2_loss: 0.1582 - dense_accuracy: 0.9526 - dense_1_accuracy: 0.9472 - dense_2_accuracy: 0.9442WARNING:tensorflow:Can save best model only with accuracy available, skipping.\n",
            "3373/3373 [==============================] - 510s 151ms/step - loss: 0.4357 - dense_loss: 0.1322 - dense_1_loss: 0.1453 - dense_2_loss: 0.1582 - dense_accuracy: 0.9526 - dense_1_accuracy: 0.9472 - dense_2_accuracy: 0.9442\n",
            "Epoch 4/10\n",
            "3373/3373 [==============================] - ETA: 0s - loss: 0.2427 - dense_loss: 0.0717 - dense_1_loss: 0.0766 - dense_2_loss: 0.0943 - dense_accuracy: 0.9765 - dense_1_accuracy: 0.9760 - dense_2_accuracy: 0.9687WARNING:tensorflow:Can save best model only with accuracy available, skipping.\n",
            "3373/3373 [==============================] - 509s 151ms/step - loss: 0.2427 - dense_loss: 0.0717 - dense_1_loss: 0.0766 - dense_2_loss: 0.0943 - dense_accuracy: 0.9765 - dense_1_accuracy: 0.9760 - dense_2_accuracy: 0.9687\n",
            "Epoch 5/10\n",
            "3373/3373 [==============================] - ETA: 0s - loss: 0.1534 - dense_loss: 0.0506 - dense_1_loss: 0.0423 - dense_2_loss: 0.0606 - dense_accuracy: 0.9845 - dense_1_accuracy: 0.9869 - dense_2_accuracy: 0.9803WARNING:tensorflow:Can save best model only with accuracy available, skipping.\n",
            "3373/3373 [==============================] - 512s 152ms/step - loss: 0.1534 - dense_loss: 0.0506 - dense_1_loss: 0.0423 - dense_2_loss: 0.0606 - dense_accuracy: 0.9845 - dense_1_accuracy: 0.9869 - dense_2_accuracy: 0.9803\n",
            "Epoch 6/10\n",
            "3373/3373 [==============================] - ETA: 0s - loss: 0.1103 - dense_loss: 0.0477 - dense_1_loss: 0.0322 - dense_2_loss: 0.0305 - dense_accuracy: 0.9860 - dense_1_accuracy: 0.9912 - dense_2_accuracy: 0.9913WARNING:tensorflow:Can save best model only with accuracy available, skipping.\n",
            "3373/3373 [==============================] - 511s 152ms/step - loss: 0.1103 - dense_loss: 0.0477 - dense_1_loss: 0.0322 - dense_2_loss: 0.0305 - dense_accuracy: 0.9860 - dense_1_accuracy: 0.9912 - dense_2_accuracy: 0.9913\n",
            "Epoch 7/10\n",
            "3373/3373 [==============================] - ETA: 0s - loss: 0.0781 - dense_loss: 0.0228 - dense_1_loss: 0.0246 - dense_2_loss: 0.0307 - dense_accuracy: 0.9933 - dense_1_accuracy: 0.9929 - dense_2_accuracy: 0.9923WARNING:tensorflow:Can save best model only with accuracy available, skipping.\n",
            "3373/3373 [==============================] - 512s 152ms/step - loss: 0.0781 - dense_loss: 0.0228 - dense_1_loss: 0.0246 - dense_2_loss: 0.0307 - dense_accuracy: 0.9933 - dense_1_accuracy: 0.9929 - dense_2_accuracy: 0.9923\n",
            "Epoch 8/10\n",
            " 976/3373 [=======>......................] - ETA: 6:03 - loss: 0.0550 - dense_loss: 0.0174 - dense_1_loss: 0.0185 - dense_2_loss: 0.0191 - dense_accuracy: 0.9946 - dense_1_accuracy: 0.9954 - dense_2_accuracy: 0.9956"
          ]
        }
      ]
    },
    {
      "cell_type": "code",
      "source": [
        "from keras.models import load_model"
      ],
      "metadata": {
        "id": "Qlae1wTqFhnz"
      },
      "execution_count": null,
      "outputs": []
    },
    {
      "cell_type": "code",
      "source": [
        "model = load_model('/content/drive/MyDrive/Computer Vision/smoke_fog_dataset/model_save.h5')"
      ],
      "metadata": {
        "id": "8HS24S4PFrqn"
      },
      "execution_count": null,
      "outputs": []
    },
    {
      "cell_type": "code",
      "source": [
        "model.fit(train_generator, epochs=10,callbacks=callbacks)"
      ],
      "metadata": {
        "id": "rrDz-Nb-GBsd"
      },
      "execution_count": null,
      "outputs": []
    },
    {
      "cell_type": "code",
      "source": [
        "model = load_model('/content/drive/MyDrive/Computer Vision/smoke_fog_dataset/model_save.h5')"
      ],
      "metadata": {
        "id": "u9i-zyamGPFr"
      },
      "execution_count": null,
      "outputs": []
    },
    {
      "cell_type": "code",
      "source": [
        "model.fit(train_generator, epochs=10,callbacks=callbacks)"
      ],
      "metadata": {
        "id": "js_FthUlGW1c"
      },
      "execution_count": null,
      "outputs": []
    },
    {
      "cell_type": "code",
      "source": [
        "train_accuracy = vgg_model_results.history['accuracy']\n",
        "print(train_accuracy)\n",
        "\n",
        "train_loss = vgg_model_results.history['loss']\n",
        "print(train_loss)"
      ],
      "metadata": {
        "id": "2nHAZiWts1zG"
      },
      "execution_count": null,
      "outputs": []
    },
    {
      "cell_type": "markdown",
      "source": [
        "# Testing the model"
      ],
      "metadata": {
        "id": "QzHhael8w2aa"
      }
    },
    {
      "cell_type": "code",
      "source": [
        "vgg_model_test_loss, vgg_model_test_acc = vgg_model.evaluate(test_generator)"
      ],
      "metadata": {
        "id": "qNEsxDD0vtX1"
      },
      "execution_count": null,
      "outputs": []
    },
    {
      "cell_type": "markdown",
      "source": [
        "# Plotting Confusion Matrix"
      ],
      "metadata": {
        "id": "xB8HH_6VnjsS"
      }
    },
    {
      "cell_type": "code",
      "source": [
        "from sklearn.metrics import confusion_matrix\n",
        "import matplotlib.pyplot as plt\n",
        "import numpy as np\n",
        "import itertools  "
      ],
      "metadata": {
        "id": "1_l955BBnya-"
      },
      "execution_count": null,
      "outputs": []
    },
    {
      "cell_type": "code",
      "source": [
        "y_true = test_generator.classes\n",
        "y_pred = vgg_model.predict(test_generator)"
      ],
      "metadata": {
        "id": "15je188Pni63"
      },
      "execution_count": null,
      "outputs": []
    },
    {
      "cell_type": "code",
      "source": [
        "target_names = []\n",
        "for key in train_generator.class_indices:\n",
        "  target_names.append(key)\n",
        "\n",
        "print(target_names)"
      ],
      "metadata": {
        "colab": {
          "base_uri": "https://localhost:8080/"
        },
        "id": "g2GsosTrpAv8",
        "outputId": "f70205a8-1b8d-4200-8a35-09098aac7891"
      },
      "execution_count": null,
      "outputs": [
        {
          "output_type": "stream",
          "name": "stdout",
          "text": [
            "['non_smokefog', 'nonsmoke', 'smoke', 'smoke_fog']\n"
          ]
        }
      ]
    },
    {
      "cell_type": "code",
      "source": [
        "def plot_confusion_matrix(cm, classes, normalize=True, title='Confusion matrix', cmap=plt.cm.Blues):\n",
        "    plt.figure(figsize=(10,10))\n",
        "    plt.imshow(cm, interpolation='nearest', cmap=cmap)\n",
        "    plt.title(title)\n",
        "    plt.colorbar()\n",
        "    tick_marks = np.arange(len(classes))\n",
        "    plt.xticks(tick_marks, classes, rotation=45)\n",
        "    plt.yticks(tick_marks, classes)\n",
        "    \n",
        "    if normalize:\n",
        "        cm = cm.astype('float') / cm.sum(axis=1)[:, np.newaxis]\n",
        "        cm = np.around(cm, decimals=2)\n",
        "        cm[np.isnan(cm)] = 0.0\n",
        "        print(\"Normalized confusion matrix\")\n",
        "\n",
        "    else:\n",
        "        print('Confusion matrix, without normalization')\n",
        "    thresh = cm.max() / 2.\n",
        "\n",
        "    for i, j in itertools.product(range(cm.shape[0]), range(cm.shape[1])):\n",
        "        plt.text(j, i, cm[i, j],\n",
        "                 horizontalalignment=\"center\",\n",
        "                 color=\"white\" if cm[i, j] > thresh else \"black\")\n",
        "    plt.tight_layout()\n",
        "    plt.ylabel('True label')\n",
        "    plt.xlabel('Predicted label')"
      ],
      "metadata": {
        "id": "tudm6RBgnql9"
      },
      "execution_count": null,
      "outputs": []
    },
    {
      "cell_type": "code",
      "source": [
        "cm = confusion_matrix(y_true, y_pred)\n",
        "plot_confusion_matrix(cm, target_names, title='Confusion Matrix')"
      ],
      "metadata": {
        "id": "A6IFqQOPo0Ls"
      },
      "execution_count": null,
      "outputs": []
    },
    {
      "cell_type": "markdown",
      "source": [
        "# Estimating the model based on Quantative Evaluations"
      ],
      "metadata": {
        "id": "NBbtu-HHlp-P"
      }
    },
    {
      "cell_type": "code",
      "source": [
        "from sklearn.metrics import classification_report"
      ],
      "metadata": {
        "id": "P2RN4EVll1-b"
      },
      "execution_count": null,
      "outputs": []
    },
    {
      "cell_type": "code",
      "source": [
        "y_true = test_generator.classes\n",
        "y_pred = vgg_model.predict(test_generator)"
      ],
      "metadata": {
        "id": "ATULEbw1zEoZ"
      },
      "execution_count": null,
      "outputs": []
    },
    {
      "cell_type": "code",
      "source": [
        "print(classification_report(y_true, y_pred, target_names=target_names))"
      ],
      "metadata": {
        "id": "lV4FLqGh5RKd"
      },
      "execution_count": null,
      "outputs": []
    }
  ]
}
{
  "cells": [
    {
      "cell_type": "markdown",
      "metadata": {
        "id": "view-in-github",
        "colab_type": "text"
      },
      "source": [
        "<a href=\"https://colab.research.google.com/github/PKRaj007/PKRaj007/blob/main/PSO_OnePixelAttack.ipynb\" target=\"_parent\"><img src=\"https://colab.research.google.com/assets/colab-badge.svg\" alt=\"Open In Colab\"/></a>"
      ]
    },
    {
      "cell_type": "code",
      "execution_count": 1,
      "metadata": {
        "colab": {
          "base_uri": "https://localhost:8080/"
        },
        "id": "IlCro6HkZsa_",
        "outputId": "2c2f7cff-7439-498d-8f05-bd3cde425fca"
      },
      "outputs": [
        {
          "output_type": "stream",
          "name": "stdout",
          "text": [
            "Mounted at /content/drive\n"
          ]
        }
      ],
      "source": [
        "from google.colab import drive\n",
        "drive.mount('/content/drive')"
      ]
    },
    {
      "cell_type": "code",
      "execution_count": 2,
      "metadata": {
        "id": "l38a00r8Z6E1"
      },
      "outputs": [],
      "source": [
        "import numpy as np\n",
        "import pandas as pd\n",
        "import matplotlib\n",
        "from keras.datasets import cifar10\n",
        "from keras import backend as K\n",
        "import matplotlib.pyplot as plt\n",
        "\n"
      ]
    },
    {
      "cell_type": "code",
      "execution_count": 3,
      "metadata": {
        "colab": {
          "base_uri": "https://localhost:8080/"
        },
        "id": "ak_IMgQe1CCH",
        "outputId": "a48faf4c-8c19-49dc-9c34-209bbeb62191"
      },
      "outputs": [
        {
          "output_type": "stream",
          "name": "stdout",
          "text": [
            "Downloading data from https://www.cs.toronto.edu/~kriz/cifar-10-python.tar.gz\n",
            "170500096/170498071 [==============================] - 13s 0us/step\n",
            "170508288/170498071 [==============================] - 13s 0us/step\n"
          ]
        }
      ],
      "source": [
        "(x_train, y_train), (x_test, y_test) = cifar10.load_data()"
      ]
    },
    {
      "cell_type": "code",
      "source": [
        "x_train.shape"
      ],
      "metadata": {
        "colab": {
          "base_uri": "https://localhost:8080/"
        },
        "id": "VsDZ-pPFIERY",
        "outputId": "5320466a-2c31-4b19-ac01-0288f201366d"
      },
      "execution_count": 4,
      "outputs": [
        {
          "output_type": "execute_result",
          "data": {
            "text/plain": [
              "(50000, 32, 32, 3)"
            ]
          },
          "metadata": {},
          "execution_count": 4
        }
      ]
    },
    {
      "cell_type": "code",
      "source": [
        "#x_train[0]\n",
        "plt.figure(figsize=(15,2))\n",
        "plt.imshow(x_train[0])"
      ],
      "metadata": {
        "colab": {
          "base_uri": "https://localhost:8080/",
          "height": 176
        },
        "id": "BpSrfXUqJXEP",
        "outputId": "c1f42c41-8f31-486d-b839-f256af6b558d"
      },
      "execution_count": 5,
      "outputs": [
        {
          "output_type": "execute_result",
          "data": {
            "text/plain": [
              "<matplotlib.image.AxesImage at 0x7f5b181d9c10>"
            ]
          },
          "metadata": {},
          "execution_count": 5
        },
        {
          "output_type": "display_data",
          "data": {
            "text/plain": [
              "<Figure size 1080x144 with 1 Axes>"
            ],
            "image/png": "[encoded data removed]"
          },
          "metadata": {
            "needs_background": "light"
          }
        }
      ]
    },
    {
      "cell_type": "code",
      "source": [
        "# 50000 samples and one dimentional array difing class\n",
        "y_train.shape"
      ],
      "metadata": {
        "colab": {
          "base_uri": "https://localhost:8080/"
        },
        "id": "ZQGwKL1aIw-c",
        "outputId": "bb49888e-89e2-46e8-82e8-83400413683e"
      },
      "execution_count": 6,
      "outputs": [
        {
          "output_type": "execute_result",
          "data": {
            "text/plain": [
              "(50000, 1)"
            ]
          },
          "metadata": {},
          "execution_count": 6
        }
      ]
    },
    {
      "cell_type": "code",
      "source": [
        "y_train[:5] #first class 6 means-frog level(categories)"
      ],
      "metadata": {
        "colab": {
          "base_uri": "https://localhost:8080/"
        },
        "id": "xOczmuTwKrsB",
        "outputId": "cc071b4d-5ff2-40df-d7b9-4bbcc3ee6179"
      },
      "execution_count": 7,
      "outputs": [
        {
          "output_type": "execute_result",
          "data": {
            "text/plain": [
              "array([[6],\n",
              "       [9],\n",
              "       [9],\n",
              "       [4],\n",
              "       [1]], dtype=uint8)"
            ]
          },
          "metadata": {},
          "execution_count": 7
        }
      ]
    },
    {
      "cell_type": "markdown",
      "source": [
        "**Convert this 2d array into 1d array**"
      ],
      "metadata": {
        "id": "hyvXbMG_LepP"
      }
    },
    {
      "cell_type": "code",
      "source": [
        "y_train=y_train.reshape(-1,) # we don't change 1st dimention 50000 so left it as -1 \n",
        "#and instead of [6] we for convert it in 1d array left it blank.\n",
        "y_train[:5]"
      ],
      "metadata": {
        "colab": {
          "base_uri": "https://localhost:8080/"
        },
        "id": "ndEl-ZyLLmNf",
        "outputId": "0cbba7d9-6b3e-41ed-86cd-b98114351a6f"
      },
      "execution_count": 8,
      "outputs": [
        {
          "output_type": "execute_result",
          "data": {
            "text/plain": [
              "array([6, 9, 9, 4, 1], dtype=uint8)"
            ]
          },
          "metadata": {},
          "execution_count": 8
        }
      ]
    },
    {
      "cell_type": "code",
      "source": [
        "x_test.shape"
      ],
      "metadata": {
        "colab": {
          "base_uri": "https://localhost:8080/"
        },
        "id": "YRpgoyXwH7ve",
        "outputId": "bd4f9a00-af71-40da-de5e-3406cfd40002"
      },
      "execution_count": 9,
      "outputs": [
        {
          "output_type": "execute_result",
          "data": {
            "text/plain": [
              "(10000, 32, 32, 3)"
            ]
          },
          "metadata": {},
          "execution_count": 9
        }
      ]
    },
    {
      "cell_type": "code",
      "execution_count": 10,
      "metadata": {
        "id": "pvw2DZ9zaT1g"
      },
      "outputs": [],
      "source": [
        "class_names = ['airplane', 'automobile', 'bird', 'cat', 'deer', 'dog', 'frog', 'horse', 'ship', 'truck']"
      ]
    },
    {
      "cell_type": "code",
      "source": [
        "class_names[7]"
      ],
      "metadata": {
        "colab": {
          "base_uri": "https://localhost:8080/",
          "height": 35
        },
        "id": "hOexSzr0NADP",
        "outputId": "b56810a0-c9c6-4330-a453-e074a9db168f"
      },
      "execution_count": 11,
      "outputs": [
        {
          "output_type": "execute_result",
          "data": {
            "text/plain": [
              "'horse'"
            ],
            "application/vnd.google.colaboratory.intrinsic+json": {
              "type": "string"
            }
          },
          "metadata": {},
          "execution_count": 11
        }
      ]
    },
    {
      "cell_type": "code",
      "execution_count": 12,
      "metadata": {
        "colab": {
          "base_uri": "https://localhost:8080/",
          "height": 413
        },
        "id": "mH8N9YEFad7U",
        "outputId": "b08d9ebc-245c-44a9-e3bc-fdfd6005d6a1"
      },
      "outputs": [
        {
          "output_type": "display_data",
          "data": {
            "text/plain": [
              "<Figure size 640x480 with 1 Axes>"
            ],
            "image/png": "[encoded data removed]"
          },
          "metadata": {
            "needs_background": "light"
          }
        }
      ],
      "source": [
        "image_id = 99 # Image index in the test set\n",
        "plt.figure(num=None, figsize=(8, 6), dpi=80)\n",
        "plt.imshow(x_test[image_id]);"
      ]
    },
    {
      "cell_type": "code",
      "execution_count": 13,
      "metadata": {
        "id": "fm8ELiBifTU_"
      },
      "outputs": [],
      "source": [
        "import helper"
      ]
    },
    {
      "cell_type": "code",
      "execution_count": 14,
      "metadata": {
        "id": "WSgFYVM2FGe-",
        "colab": {
          "base_uri": "https://localhost:8080/"
        },
        "outputId": "c45066a3-487e-4942-88bd-af125c8d8b0f"
      },
      "outputs": [
        {
          "output_type": "stream",
          "name": "stdout",
          "text": [
            "Help on package helper:\n",
            "\n",
            "NAME\n",
            "    helper\n",
            "\n",
            "PACKAGE CONTENTS\n",
            "\n",
            "\n",
            "FILE\n",
            "    (built-in)\n",
            "\n",
            "\n"
          ]
        }
      ],
      "source": [
        "help(helper)"
      ]
    },
    {
      "cell_type": "markdown",
      "metadata": {
        "id": "3OEJeMwCbeWR"
      },
      "source": [
        "Perturbing Image"
      ]
    },
    {
      "cell_type": "code",
      "execution_count": 15,
      "metadata": {
        "id": "0yh6LCZcbdvD"
      },
      "outputs": [],
      "source": [
        "def perturb_image(xs, img):\n",
        "  #xs perturbations [x,y,r,g,b]\n",
        "    # If this function is passed just one perturbation vector (one pixel perturbation),\n",
        "    # pack it in a list to keep the computation the same\n",
        "    if xs.ndim < 2:\n",
        "        xs = np.array([xs])\n",
        "    print(xs)\n",
        "    # Repet this on image n == len(xs) times so that we can \n",
        "    # create n new perturbed images\n",
        "    tile = [len(xs)] + [1]*(xs.ndim+1)\n",
        "    \n",
        "    imgs = np.tile(img, tile)\n",
        "    \n",
        "    # Make sure to floor the members of xs as int types\n",
        "    xs = xs.astype(int)\n",
        "    \n",
        "    for x,img in zip(xs, imgs):\n",
        "        # Split x ( single pixel) into an array of 5-tuples (perturbation pixels)\n",
        "        # i.e., [[x,y,r,g,b], ...]\n",
        "        pixels = np.split(x, len(x) // 5)\n",
        "        #split seprate array into its single elements (seperator,maxsplit);\n",
        "        for pixel in pixels:\n",
        "            # At each pixel's x,y position, assign its rgb value\n",
        "            x_pos, y_pos, *rgb = pixel\n",
        "            img[x_pos, y_pos] = rgb\n",
        "    \n",
        "    return imgs"
      ]
    },
    {
      "cell_type": "markdown",
      "metadata": {
        "id": "Nqyqf6Kvbrqc"
      },
      "source": [
        "**Design Model** \n",
        "- All Conv"
      ]
    },
    {
      "cell_type": "code",
      "execution_count": 16,
      "metadata": {
        "id": "P5L7OmPicFQu"
      },
      "outputs": [],
      "source": [
        "import cv2\n",
        "import numpy as np\n",
        "import os\n",
        "from keras.preprocessing.image import ImageDataGenerator\n",
        "from keras.layers import Dense,Flatten,Conv2D,Activation,Dropout\n",
        "from keras import backend as K\n",
        "\n",
        "import keras\n",
        "from keras.models import Sequential, Model\n",
        "from keras.models import load_model\n",
        "from tensorflow.keras.optimizers import SGD\n",
        "from keras.callbacks import EarlyStopping,ModelCheckpoint\n",
        "from keras.layers import MaxPool2D\n",
        "from keras.layers.pooling import AvgPool2D\n",
        "from google.colab.patches import cv2_imshow\n",
        "from keras.layers import *\n",
        "from keras import Input"
      ]
    },
    {
      "cell_type": "code",
      "execution_count": 17,
      "metadata": {
        "colab": {
          "base_uri": "https://localhost:8080/"
        },
        "id": "uvmJAE_-btMd",
        "outputId": "e59d0d6b-eb02-4239-bb22-a3ed74f93006"
      },
      "outputs": [
        {
          "output_type": "stream",
          "name": "stdout",
          "text": [
            "Model: \"model\"\n",
            "_________________________________________________________________\n",
            " Layer (type)                Output Shape              Param #   \n",
            "=================================================================\n",
            " input_2 (InputLayer)        [(None, 32, 32, 3)]       0         \n",
            "                                                                 \n",
            " conv2d (Conv2D)             (None, 32, 32, 96)        2688      \n",
            "                                                                 \n",
            " conv2d_1 (Conv2D)           (None, 32, 32, 96)        83040     \n",
            "                                                                 \n",
            " conv2d_2 (Conv2D)           (None, 16, 16, 96)        83040     \n",
            "                                                                 \n",
            " conv2d_3 (Conv2D)           (None, 16, 16, 192)       166080    \n",
            "                                                                 \n",
            " conv2d_4 (Conv2D)           (None, 16, 16, 192)       331968    \n",
            "                                                                 \n",
            " dropout (Dropout)           (None, 16, 16, 192)       0         \n",
            "                                                                 \n",
            " conv2d_5 (Conv2D)           (None, 8, 8, 192)         331968    \n",
            "                                                                 \n",
            " conv2d_6 (Conv2D)           (None, 4, 4, 192)         331968    \n",
            "                                                                 \n",
            " conv2d_7 (Conv2D)           (None, 4, 4, 192)         37056     \n",
            "                                                                 \n",
            " conv2d_8 (Conv2D)           (None, 4, 4, 10)          1930      \n",
            "                                                                 \n",
            " average_pooling2d (AverageP  (None, 1, 1, 10)         0         \n",
            " ooling2D)                                                       \n",
            "                                                                 \n",
            " flatten (Flatten)           (None, 10)                0         \n",
            "                                                                 \n",
            " dense (Dense)               (None, 10)                110       \n",
            "                                                                 \n",
            "=================================================================\n",
            "Total params: 1,369,848\n",
            "Trainable params: 1,369,848\n",
            "Non-trainable params: 0\n",
            "_________________________________________________________________\n"
          ]
        }
      ],
      "source": [
        "def allConvModel(input, num_classes):\n",
        "  input = Input(shape = (32,32,3))\n",
        "  #changing filters from 64 -> 16\n",
        "  layer_1 = Conv2D(filters=96, kernel_size=(3,3), padding=\"same\", activation=\"relu\")(input)\n",
        "  layer_2 = Conv2D(filters=96, kernel_size=(3,3), padding=\"same\", activation=\"relu\")(layer_1)\n",
        "  layer_3 = Conv2D(filters=96, kernel_size=(3,3), padding=\"same\", strides=2, activation=\"relu\")(layer_2)\n",
        "  layer_4 = Conv2D(filters=192, kernel_size=(3,3), padding=\"same\", activation=\"relu\")(layer_3)\n",
        "  layer_5 = Conv2D(filters=192, kernel_size=(3,3), padding=\"same\", activation=\"relu\")(layer_4)\n",
        "\n",
        "  dropout_layer = Dropout(rate=0.3, seed=None)(layer_5)\n",
        "\n",
        "  layer_6 = Conv2D(filters=192, kernel_size=(3,3), strides=2, padding=\"same\", activation=\"relu\")(dropout_layer)\n",
        "  layer_7 = Conv2D(filters=192, kernel_size=(3,3), strides=2, padding=\"same\", activation=\"relu\")(layer_6)\n",
        "  layer_8 = Conv2D(filters=192, kernel_size=(1,1), padding=\"same\", activation=\"relu\")(layer_7)\n",
        "  layer_9 = Conv2D(filters=10, kernel_size=(1,1), padding=\"same\", activation=\"relu\")(layer_8)\n",
        "\n",
        "  avg_pooling_layer = AveragePooling2D(pool_size=(4,4))(layer_9)\n",
        "  flatten_layer = Flatten()(avg_pooling_layer)\n",
        "  # flatten_layer = Dense(num_classes, activation = 'sigmoid')(avg_pooling_layer)\n",
        "  activation_layer = Dense(num_classes, activation = 'sigmoid')(flatten_layer)\n",
        "  \n",
        "  allConvModel = Model(inputs=input,outputs=activation_layer)\n",
        "  return allConvModel\n",
        "\n",
        "input = Input(shape = (32,32,3))\n",
        "allConv = allConvModel(input, 10)\n",
        "allConv.summary()"
      ]
    },
    {
      "cell_type": "markdown",
      "metadata": {
        "id": "-GId4K2vh6V-"
      },
      "source": [
        "**Train Model**"
      ]
    },
    {
      "cell_type": "code",
      "execution_count": 18,
      "metadata": {
        "id": "cF-vdQqGiCxw"
      },
      "outputs": [],
      "source": [
        "from tensorflow.keras.optimizers import SGD\n",
        "import tensorflow.keras.metrics as tfm"
      ]
    },
    {
      "cell_type": "code",
      "execution_count": 19,
      "metadata": {
        "id": "HxM4dOROfLbi"
      },
      "outputs": [],
      "source": [
        "# opt = SGD(learning_rate=0.001)\n",
        "#allConv.compile(optimizer='adam',loss = 'categorical_crossentropy', metrics=['accuracy'])"
      ]
    },
    {
      "cell_type": "code",
      "execution_count": 20,
      "metadata": {
        "id": "KB6XtMMHRdaW"
      },
      "outputs": [],
      "source": [
        "allConv.compile(optimizer='adam',loss = tf.keras.losses.SparseCategoricalCrossentropy(from_logits=True), metrics=['accuracy'])"
      ]
    },
    {
      "cell_type": "code",
      "execution_count": 21,
      "metadata": {
        "id": "nOeGiyWhnLli"
      },
      "outputs": [],
      "source": [
        "# categorical_crossentropy use in case of one hot encode target values\n",
        "# from tensorflow.keras.utils import to_categorical\n",
        "# y_train = to_categorical(y_train)\n",
        "# y_test = to_categorical(y_test)"
      ]
    },
    {
      "cell_type": "code",
      "execution_count": 22,
      "metadata": {
        "colab": {
          "base_uri": "https://localhost:8080/"
        },
        "id": "11AIUPcijHjK",
        "outputId": "95dcf639-efa6-4bcc-946c-801cae092941"
      },
      "outputs": [
        {
          "output_type": "stream",
          "name": "stdout",
          "text": [
            "Epoch 1/30\n"
          ]
        },
        {
          "output_type": "stream",
          "name": "stderr",
          "text": [
            "/usr/local/lib/python3.7/dist-packages/tensorflow/python/util/dispatch.py:1082: UserWarning: \"`sparse_categorical_crossentropy` received `from_logits=True`, but the `output` argument was produced by a sigmoid or softmax activation and thus does not represent logits. Was this intended?\"\n",
            "  return dispatch_target(*args, **kwargs)\n"
          ]
        },
        {
          "output_type": "stream",
          "name": "stdout",
          "text": [
            "782/782 [==============================] - 32s 25ms/step - loss: 2.3080 - accuracy: 0.0976\n",
            "Epoch 2/30\n",
            "782/782 [==============================] - 19s 24ms/step - loss: 2.3027 - accuracy: 0.0987\n",
            "Epoch 3/30\n",
            "782/782 [==============================] - 19s 25ms/step - loss: 2.3027 - accuracy: 0.0980\n",
            "Epoch 4/30\n",
            "782/782 [==============================] - 19s 25ms/step - loss: 2.3027 - accuracy: 0.0966\n",
            "Epoch 5/30\n",
            "782/782 [==============================] - 20s 25ms/step - loss: 2.3027 - accuracy: 0.0988\n",
            "Epoch 6/30\n",
            "782/782 [==============================] - 20s 25ms/step - loss: 2.3027 - accuracy: 0.0983\n",
            "Epoch 7/30\n",
            "782/782 [==============================] - 20s 25ms/step - loss: 2.3027 - accuracy: 0.0964\n",
            "Epoch 8/30\n",
            "782/782 [==============================] - 20s 25ms/step - loss: 2.3027 - accuracy: 0.0997\n",
            "Epoch 9/30\n",
            "782/782 [==============================] - 20s 25ms/step - loss: 2.3027 - accuracy: 0.0987\n",
            "Epoch 10/30\n",
            "782/782 [==============================] - 20s 25ms/step - loss: 2.3027 - accuracy: 0.0982\n",
            "Epoch 11/30\n",
            "782/782 [==============================] - 20s 25ms/step - loss: 2.3027 - accuracy: 0.0963\n",
            "Epoch 12/30\n",
            "782/782 [==============================] - 20s 25ms/step - loss: 2.3027 - accuracy: 0.0977\n",
            "Epoch 13/30\n",
            "782/782 [==============================] - 20s 25ms/step - loss: 2.3027 - accuracy: 0.0990\n",
            "Epoch 14/30\n",
            "782/782 [==============================] - 20s 25ms/step - loss: 2.3027 - accuracy: 0.0962\n",
            "Epoch 15/30\n",
            "782/782 [==============================] - 20s 25ms/step - loss: 2.3027 - accuracy: 0.0979\n",
            "Epoch 16/30\n",
            "782/782 [==============================] - 20s 26ms/step - loss: 2.3027 - accuracy: 0.0970\n",
            "Epoch 17/30\n",
            "782/782 [==============================] - 20s 25ms/step - loss: 2.3027 - accuracy: 0.0966\n",
            "Epoch 18/30\n",
            "782/782 [==============================] - 20s 25ms/step - loss: 2.3027 - accuracy: 0.0977\n",
            "Epoch 19/30\n",
            "782/782 [==============================] - 20s 25ms/step - loss: 2.3027 - accuracy: 0.0973\n",
            "Epoch 20/30\n",
            "782/782 [==============================] - 20s 25ms/step - loss: 2.3027 - accuracy: 0.0988\n",
            "Epoch 21/30\n",
            "782/782 [==============================] - 20s 25ms/step - loss: 2.3027 - accuracy: 0.0988\n",
            "Epoch 22/30\n",
            "782/782 [==============================] - 20s 25ms/step - loss: 2.3027 - accuracy: 0.0986\n",
            "Epoch 23/30\n",
            "782/782 [==============================] - 20s 25ms/step - loss: 2.3027 - accuracy: 0.0978\n",
            "Epoch 24/30\n",
            "782/782 [==============================] - 20s 25ms/step - loss: 2.3027 - accuracy: 0.0978\n",
            "Epoch 25/30\n",
            "782/782 [==============================] - 20s 25ms/step - loss: 2.3027 - accuracy: 0.0988\n",
            "Epoch 26/30\n",
            "782/782 [==============================] - 20s 25ms/step - loss: 2.3027 - accuracy: 0.0968\n",
            "Epoch 27/30\n",
            "782/782 [==============================] - 20s 25ms/step - loss: 2.3027 - accuracy: 0.0977\n",
            "Epoch 28/30\n",
            "782/782 [==============================] - 20s 25ms/step - loss: 2.3027 - accuracy: 0.0970\n",
            "Epoch 29/30\n",
            "782/782 [==============================] - 20s 25ms/step - loss: 2.3027 - accuracy: 0.0970\n",
            "Epoch 30/30\n",
            "782/782 [==============================] - 20s 25ms/step - loss: 2.3027 - accuracy: 0.0978\n"
          ]
        }
      ],
      "source": [
        "allConv_results = allConv.fit(x_train, y_train, epochs=30, batch_size=64, verbose=1)"
      ]
    },
    {
      "cell_type": "code",
      "source": [
        "#history = allConv.fit(x_train, y_train, epochs=5, batch_size=64, verbose=1)"
      ],
      "metadata": {
        "id": "Fl432NkrWkJJ"
      },
      "execution_count": 23,
      "outputs": []
    },
    {
      "cell_type": "code",
      "source": [
        "#loss_train = history.history['loss']\n",
        "#loss_val =history.history['loss']\n",
        "#epochs = range(1,5)\n",
        "#plt.plot(epochs, loss_train, 'g', label='loss')\n",
        "#plt.plot(epochs, loss_val, 'b', label='loss')\n",
        "#plt.title('Training and Validation loss')\n",
        "#plt.xlabel('Epochs')\n",
        "#plt.ylabel('Loss')\n",
        "#plt.legend()\n",
        "#plt.show()"
      ],
      "metadata": {
        "id": "EbI8UIC6VInX"
      },
      "execution_count": 24,
      "outputs": []
    },
    {
      "cell_type": "code",
      "execution_count": 25,
      "metadata": {
        "colab": {
          "base_uri": "https://localhost:8080/"
        },
        "id": "kzhcRHEIm8qX",
        "outputId": "b2c93754-56f4-4f11-f962-ea52bbdf1cb2"
      },
      "outputs": [
        {
          "output_type": "stream",
          "name": "stderr",
          "text": [
            "/usr/local/lib/python3.7/dist-packages/tensorflow/python/util/dispatch.py:1082: UserWarning: \"`sparse_categorical_crossentropy` received `from_logits=True`, but the `output` argument was produced by a sigmoid or softmax activation and thus does not represent logits. Was this intended?\"\n",
            "  return dispatch_target(*args, **kwargs)\n"
          ]
        },
        {
          "output_type": "stream",
          "name": "stdout",
          "text": [
            "0.10000000149011612\n"
          ]
        }
      ],
      "source": [
        "_, acc = allConv.evaluate(x_test, y_test, verbose=0)\n",
        "print(acc)"
      ]
    },
    {
      "cell_type": "code",
      "execution_count": 26,
      "metadata": {
        "colab": {
          "base_uri": "https://localhost:8080/"
        },
        "id": "BUsalJM1RQmp",
        "outputId": "7062999c-4be3-4ec2-8bcf-f2df872bab33"
      },
      "outputs": [
        {
          "output_type": "stream",
          "name": "stdout",
          "text": [
            "(50000, 32, 32, 3) (10000, 1) (10000, 32, 32, 3) (50000,)\n"
          ]
        }
      ],
      "source": [
        "print(x_train.shape, y_test.shape, x_test.shape, y_train.shape)"
      ]
    },
    {
      "cell_type": "code",
      "execution_count": 27,
      "metadata": {
        "colab": {
          "base_uri": "https://localhost:8080/"
        },
        "id": "UmdXZkwMQ9vh",
        "outputId": "3aeac10a-e4df-46f9-ce6d-aa21fb6d2e06"
      },
      "outputs": [
        {
          "output_type": "execute_result",
          "data": {
            "text/plain": [
              "array([[0.4992901 , 0.5014433 , 0.49951088, ..., 0.5004976 , 0.49955896,\n",
              "        0.4983464 ],\n",
              "       [0.4992901 , 0.5014433 , 0.49951088, ..., 0.5004976 , 0.49955896,\n",
              "        0.4983464 ],\n",
              "       [0.4992901 , 0.5014433 , 0.49951088, ..., 0.5004976 , 0.49955896,\n",
              "        0.4983464 ],\n",
              "       ...,\n",
              "       [0.4992901 , 0.5014433 , 0.49951088, ..., 0.5004976 , 0.49955896,\n",
              "        0.4983464 ],\n",
              "       [0.4992901 , 0.5014433 , 0.49951088, ..., 0.5004976 , 0.49955896,\n",
              "        0.4983464 ],\n",
              "       [0.4992901 , 0.5014433 , 0.49951088, ..., 0.5004976 , 0.49955896,\n",
              "        0.4983464 ]], dtype=float32)"
            ]
          },
          "metadata": {},
          "execution_count": 27
        }
      ],
      "source": [
        "allConv.predict(x_test)\n",
        "#y_pred=allConv.predict(x_test)"
      ]
    },
    {
      "cell_type": "code",
      "source": [
        "#y_class_names = [np.argmax(element) for element in y_pred]\n",
        "#y_class_names[:5]"
      ],
      "metadata": {
        "id": "mQzadcdWY2Kn"
      },
      "execution_count": 28,
      "outputs": []
    },
    {
      "cell_type": "code",
      "source": [
        "y_test[:5]"
      ],
      "metadata": {
        "colab": {
          "base_uri": "https://localhost:8080/"
        },
        "id": "q-fZSaeOZ1o-",
        "outputId": "df316f49-cb5b-4a76-9085-b2c1320a4f87"
      },
      "execution_count": 29,
      "outputs": [
        {
          "output_type": "execute_result",
          "data": {
            "text/plain": [
              "array([[3],\n",
              "       [8],\n",
              "       [8],\n",
              "       [0],\n",
              "       [6]], dtype=uint8)"
            ]
          },
          "metadata": {},
          "execution_count": 29
        }
      ]
    },
    {
      "cell_type": "code",
      "source": [
        "#class_names[y_class_names[6]]"
      ],
      "metadata": {
        "id": "P_p31-jXavBq"
      },
      "execution_count": 31,
      "outputs": []
    },
    {
      "cell_type": "markdown",
      "metadata": {
        "id": "_XO221bv4S7R"
      },
      "source": [
        "1 Pixel Attack"
      ]
    },
    {
      "cell_type": "code",
      "execution_count": 32,
      "metadata": {
        "colab": {
          "base_uri": "https://localhost:8080/"
        },
        "id": "DDDISDYIdBxf",
        "outputId": "731e2afe-5ff1-4330-f159-929d7afb9573"
      },
      "outputs": [
        {
          "output_type": "stream",
          "name": "stdout",
          "text": [
            "Looking in indexes: https://pypi.org/simple, https://us-python.pkg.dev/colab-wheels/public/simple/\n",
            "Collecting tensorboardX\n",
            "  Downloading tensorboardX-2.5.1-py2.py3-none-any.whl (125 kB)\n",
            "\u001b[K     |████████████████████████████████| 125 kB 33.3 MB/s \n",
            "\u001b[?25hRequirement already satisfied: numpy in /usr/local/lib/python3.7/dist-packages (from tensorboardX) (1.21.6)\n",
            "Requirement already satisfied: protobuf<=3.20.1,>=3.8.0 in /usr/local/lib/python3.7/dist-packages (from tensorboardX) (3.17.3)\n",
            "Requirement already satisfied: six>=1.9 in /usr/local/lib/python3.7/dist-packages (from protobuf<=3.20.1,>=3.8.0->tensorboardX) (1.15.0)\n",
            "Installing collected packages: tensorboardX\n",
            "Successfully installed tensorboardX-2.5.1\n"
          ]
        }
      ],
      "source": [
        "!pip install tensorboardX"
      ]
    },
    {
      "cell_type": "code",
      "execution_count": 33,
      "metadata": {
        "id": "dSREHHZZawLX"
      },
      "outputs": [],
      "source": [
        "%matplotlib inline\n",
        "import matplotlib.pyplot as plt\n",
        "import numpy as np\n",
        "import seaborn as sns\n",
        "import torch\n",
        "import torch.nn as nn\n",
        "import torch.nn.functional as F\n",
        "import torch.optim as optim\n",
        "\n",
        "from pathlib import Path\n",
        "from tensorboardX import SummaryWriter\n",
        "from torchvision import datasets, transforms, models\n",
        "from tqdm import tqdm\n",
        "\n",
        "writer = SummaryWriter()\n",
        "sns.set()\n",
        "sns.set_style(\"dark\")\n",
        "sns.set_palette(\"muted\")\n",
        "sns.set_color_codes(\"muted\")"
      ]
    },
    {
      "cell_type": "code",
      "execution_count": 34,
      "metadata": {
        "id": "XmWy4-qoTZa6"
      },
      "outputs": [],
      "source": [
        "from numpy.random import rand\n",
        "from numpy.random import choice\n",
        "from numpy import asarray\n",
        "from numpy import clip\n",
        "from numpy import argmin\n",
        "from numpy import min\n",
        "from numpy import around\n",
        "from matplotlib import pyplot\n",
        "import pytest\n",
        "import math\n",
        "\n",
        "\n",
        "# python implementation of particle swarm optimization (PSO)\n",
        "# minimizing rastrigin and sphere function\n",
        " \n",
        "import random\n",
        "import math    # cos() for Rastrigin\n",
        "import copy    # array-copying convenience\n",
        "import sys     # max float\n",
        " \n",
        " \n",
        "#-------fitness functions---------\n",
        " \n",
        "#sphere function\n",
        "def fitness_sphere(position):\n",
        "    fitnessVal = 0.0\n",
        "    for i in range(len(position)):\n",
        "        xi = position[i]\n",
        "        fitnessVal += (xi*xi);\n",
        "    return fitnessVal;\n",
        "#-------------------------\n",
        " \n",
        "#particle class\n",
        "class Particle:\n",
        "  def __init__(self, fitness, dim, minx, maxx, seed):\n",
        "    self.rnd = random.Random(seed)\n",
        " \n",
        "    # initialize position of the particle with 0.0 value\n",
        "    self.position = [0.0 for i in range(dim)]\n",
        " \n",
        "     # initialize velocity of the particle with 0.0 value\n",
        "    self.velocity = [0.0 for i in range(dim)]\n",
        " \n",
        "    # initialize best particle position of the particle with 0.0 value\n",
        "    self.best_part_pos = [0.0 for i in range(dim)]\n",
        " \n",
        "    # loop dim times to calculate random position and velocity\n",
        "    # range of position and velocity is [minx, max]\n",
        "    for i in range(dim):\n",
        "      self.position[i] = ((maxx - minx) *\n",
        "        self.rnd.random() + minx)\n",
        "      self.velocity[i] = ((maxx - minx) *\n",
        "        self.rnd.random() + minx)\n",
        " \n",
        "    # compute fitness of particle\n",
        "    self.fitness = fitness(self.position) # curr fitness\n",
        " \n",
        "    # initialize best position and fitness of this particle\n",
        "    self.best_part_pos = copy.copy(self.position)\n",
        "    self.best_part_fitnessVal = self.fitness # best fitness\n",
        " \n",
        "# particle swarm optimization function\n",
        "def pso(fitness, max_iter, n, dim, minx, maxx):\n",
        "  # hyper parameters\n",
        "  w = 0.729    # inertia\n",
        "  c1 = 1.49445 # cognitive (particle)\n",
        "  c2 = 1.49445 # social (swarm)\n",
        " \n",
        "  rnd = random.Random(0)\n",
        " \n",
        "  # create n random particles\n",
        "  swarm = [Particle(fitness, dim, minx, maxx, i) for i in range(n)]\n",
        " \n",
        "  # compute the value of best_position and best_fitness in swarm\n",
        "  best_swarm_pos = [0.0 for i in range(dim)]\n",
        "  best_swarm_fitnessVal = sys.float_info.max # swarm best\n",
        " \n",
        "  # computer best particle of swarm and it's fitness\n",
        "  for i in range(n): # check each particle\n",
        "    if swarm[i].fitness < best_swarm_fitnessVal:\n",
        "      best_swarm_fitnessVal = swarm[i].fitness\n",
        "      best_swarm_pos = copy.copy(swarm[i].position)\n",
        " \n",
        "  # main loop of pso\n",
        "  Iter = 0\n",
        "  while Iter < max_iter:\n",
        "     \n",
        "    # after every 10 iterations\n",
        "    # print iteration number and best fitness value so far\n",
        "    if Iter % 10 == 0 and Iter > 1:\n",
        "      print(\"Iter = \" + str(Iter) + \" best fitness = %.3f\" % best_swarm_fitnessVal)\n",
        " \n",
        "    for i in range(n): # process each particle\n",
        "       \n",
        "      # compute new velocity of curr particle\n",
        "      for k in range(dim):\n",
        "        r1 = rnd.random()    # randomizations\n",
        "        r2 = rnd.random()\n",
        "     \n",
        "        swarm[i].velocity[k] = (\n",
        "                                 (w * swarm[i].velocity[k]) +\n",
        "                                 (c1 * r1 * (swarm[i].best_part_pos[k] - swarm[i].position[k])) + \n",
        "                                 (c2 * r2 * (best_swarm_pos[k] -swarm[i].position[k]))\n",
        "                               ) \n",
        " \n",
        " \n",
        "        # if velocity[k] is not in [minx, max]\n",
        "        # then clip it\n",
        "        if swarm[i].velocity[k] < minx:\n",
        "          swarm[i].velocity[k] = minx\n",
        "        elif swarm[i].velocity[k] > maxx:\n",
        "          swarm[i].velocity[k] = maxx\n",
        " \n",
        " \n",
        "      # compute new position using new velocity\n",
        "      for k in range(dim):\n",
        "        swarm[i].position[k] += swarm[i].velocity[k]\n",
        "   \n",
        "      # compute fitness of new position\n",
        "      swarm[i].fitness = fitness(swarm[i].position)\n",
        " \n",
        "      # is new position a new best for the particle?\n",
        "      if swarm[i].fitness < swarm[i].best_part_fitnessVal:\n",
        "        swarm[i].best_part_fitnessVal = swarm[i].fitness\n",
        "        swarm[i].best_part_pos = copy.copy(swarm[i].position)\n",
        " \n",
        "      # is new position a new best overall?\n",
        "      if swarm[i].fitness < best_swarm_fitnessVal:\n",
        "        best_swarm_fitnessVal = swarm[i].fitness\n",
        "        best_swarm_pos = copy.copy(swarm[i].position)\n",
        "     \n",
        "    # for-each particle\n",
        "    Iter += 1\n",
        "  #end_while\n",
        "  return best_swarm_pos"
      ]
    },
    {
      "cell_type": "code",
      "source": [
        "# Driver code for Sphere function\n",
        "print(\"\\nBegin particle swarm optimization on sphere function\\n\")\n",
        "dim = 3\n",
        "fitness = fitness_sphere\n",
        " \n",
        " \n",
        "print(\"Goal is to minimize sphere function in \" + str(dim) + \" variables\")\n",
        "print(\"Function has known min = 0.0 at (\", end=\"\")\n",
        "for i in range(dim-1):\n",
        "  print(\"0, \", end=\"\")\n",
        "print(\"0)\")\n",
        " \n",
        "num_particles = 50\n",
        "max_iter = 100\n",
        " \n",
        "print(\"Setting num_particles = \" + str(num_particles))\n",
        "print(\"Setting max_iter    = \" + str(max_iter))\n",
        "print(\"\\nStarting PSO algorithm\\n\")\n",
        "\n",
        "best_position = pso(fitness, max_iter, num_particles, dim, -10.0, 10.0)\n",
        " \n",
        "print(\"\\nPSO completed\\n\")\n",
        "print(\"\\nBest solution found:\")\n",
        "print([\"%.6f\"%best_position[k] for k in range(dim)])\n",
        "fitnessVal = fitness(best_position)\n",
        "print(\"fitness of best solution = %.6f\" % fitnessVal)\n",
        " \n",
        "print(\"\\nEnd particle swarm for sphere function\\n\")"
      ],
      "metadata": {
        "colab": {
          "base_uri": "https://localhost:8080/"
        },
        "id": "H4ZWr0Y1ztZ7",
        "outputId": "879783c3-2a57-4701-b187-607801fc7d54"
      },
      "execution_count": 35,
      "outputs": [
        {
          "output_type": "stream",
          "name": "stdout",
          "text": [
            "\n",
            "Begin particle swarm optimization on sphere function\n",
            "\n",
            "Goal is to minimize sphere function in 3 variables\n",
            "Function has known min = 0.0 at (0, 0, 0)\n",
            "Setting num_particles = 50\n",
            "Setting max_iter    = 100\n",
            "\n",
            "Starting PSO algorithm\n",
            "\n",
            "Iter = 10 best fitness = 0.189\n",
            "Iter = 20 best fitness = 0.012\n",
            "Iter = 30 best fitness = 0.001\n",
            "Iter = 40 best fitness = 0.000\n",
            "Iter = 50 best fitness = 0.000\n",
            "Iter = 60 best fitness = 0.000\n",
            "Iter = 70 best fitness = 0.000\n",
            "Iter = 80 best fitness = 0.000\n",
            "Iter = 90 best fitness = 0.000\n",
            "\n",
            "PSO completed\n",
            "\n",
            "\n",
            "Best solution found:\n",
            "['0.000004', '-0.000001', '0.000007']\n",
            "fitness of best solution = 0.000000\n",
            "\n",
            "End particle swarm for sphere function\n",
            "\n"
          ]
        }
      ]
    },
    {
      "cell_type": "code",
      "execution_count": 36,
      "metadata": {
        "colab": {
          "base_uri": "https://localhost:8080/"
        },
        "id": "BNqM-hCFa9Gp",
        "outputId": "42e3d97f-d4aa-4043-f633-78b4ffe89def"
      },
      "outputs": [
        {
          "output_type": "stream",
          "name": "stdout",
          "text": [
            "CUDA Available: True\n"
          ]
        }
      ],
      "source": [
        "DEVICE = torch.device(\"cuda\" if torch.cuda.is_available() else \"cpu\")\n",
        "LOADER_KWARGS = {'num_workers': 1, 'pin_memory': True} if torch.cuda.is_available() else {'num_workers': 4}\n",
        "print(\"CUDA Available:\", torch.cuda.is_available())"
      ]
    },
    {
      "cell_type": "code",
      "execution_count": 37,
      "metadata": {
        "colab": {
          "base_uri": "https://localhost:8080/",
          "height": 66,
          "referenced_widgets": [
            "47d9e3b2b6494841a02f9248018bfc34",
            "29bf30c903d04206b8b796e769db4d76",
            "51583ad1475f4151b04d7ccaa236797d",
            "4fc1fc1ad26a49e5b0e61d019aa11246",
            "1320e7ffae3a485196694a677f350f3b",
            "061f08b1f93343148d5f8e05f5a476f2",
            "07d081c6ebbd45a3904b00d8d1b7f3f5",
            "e0f0721360ff4b0bb9bb6ad961430c34",
            "9f24d8176b374702b2895eed6a137847",
            "bed6f6432e02487b9c20e72075719110",
            "27f9347390324ce7930bfd745b1b38d1"
          ]
        },
        "id": "UbO-Ex9Vasjr",
        "outputId": "a1c3f454-8bc3-4b57-88e6-31f310b313f4"
      },
      "outputs": [
        {
          "output_type": "stream",
          "name": "stderr",
          "text": [
            "Downloading: \"https://download.pytorch.org/models/vgg16-397923af.pth\" to /root/.cache/torch/hub/checkpoints/vgg16-397923af.pth\n"
          ]
        },
        {
          "output_type": "display_data",
          "data": {
            "text/plain": [
              "  0%|          | 0.00/528M [00:00<?, ?B/s]"
            ],
            "application/vnd.jupyter.widget-view+json": {
              "version_major": 2,
              "version_minor": 0,
              "model_id": "47d9e3b2b6494841a02f9248018bfc34"
            }
          },
          "metadata": {}
        }
      ],
      "source": [
        "cifar_model = models.vgg16(pretrained=True, init_weights=False)\n",
        "cifar_model.classifier = nn.Sequential(\n",
        "        nn.Linear(25088, 2048),\n",
        "        nn.ReLU(True),\n",
        "        nn.Dropout(),\n",
        "        nn.Linear(2048, 2048),\n",
        "        nn.ReLU(True),\n",
        "        nn.Dropout(),\n",
        "        nn.Linear(2048, 10),\n",
        "    )\n",
        "cifar_model = cifar_model.to(DEVICE)"
      ]
    },
    {
      "cell_type": "code",
      "execution_count": 38,
      "metadata": {
        "colab": {
          "base_uri": "https://localhost:8080/",
          "height": 118,
          "referenced_widgets": [
            "2f51a45af6ac4a57a9b9db47927220c5",
            "891b9b5524f9498a9900868724a44c26",
            "591b7fe9193b4f9da870099d3302f5d7",
            "9ff6ee052ef94916b067ab37c017ddd6",
            "2e3f53a1bf754c6f90cdac86bb95fa73",
            "c6ff5e9525b043d8ba477adb0c874a93",
            "06ea3358766249aa8c29ee3fdecb1777",
            "67514053a50a447093b15077df924f71",
            "07ded886d71249ea844f038e21ad63fb",
            "1a15d8f1b3b14ad3bedf34a8062a3f49",
            "806375cbbe764c33a356cefafb5d7d8d"
          ]
        },
        "id": "MCFaqVDXbtSb",
        "outputId": "5a74547f-6738-4b4d-9aef-6e3eb5516f85"
      },
      "outputs": [
        {
          "output_type": "stream",
          "name": "stdout",
          "text": [
            "Downloading https://www.cs.toronto.edu/~kriz/cifar-10-python.tar.gz to ./data/cifar-10-python.tar.gz\n"
          ]
        },
        {
          "output_type": "display_data",
          "data": {
            "text/plain": [
              "  0%|          | 0/170498071 [00:00<?, ?it/s]"
            ],
            "application/vnd.jupyter.widget-view+json": {
              "version_major": 2,
              "version_minor": 0,
              "model_id": "2f51a45af6ac4a57a9b9db47927220c5"
            }
          },
          "metadata": {}
        },
        {
          "output_type": "stream",
          "name": "stdout",
          "text": [
            "Extracting ./data/cifar-10-python.tar.gz to ./data\n",
            "Files already downloaded and verified\n",
            "Files already downloaded and verified\n"
          ]
        }
      ],
      "source": [
        "BATCH_SIZE = 128\n",
        "TRAIN_COUNT = 40_000\n",
        "VAL_COUNT = 10_000\n",
        "TEST_COUNT = 10_000\n",
        "\n",
        "train_transform = transforms.Compose([\n",
        "    transforms.RandomHorizontalFlip(),\n",
        "    transforms.ToTensor(),\n",
        "])\n",
        "\n",
        "test_transform = transforms.ToTensor()\n",
        "\n",
        "train_set = datasets.CIFAR10(root='./data', train=True, download=True, transform=train_transform)\n",
        "train_set = torch.utils.data.dataset.Subset(train_set, range(0,TRAIN_COUNT))\n",
        "train_loader = torch.utils.data.DataLoader(train_set, batch_size=BATCH_SIZE, shuffle=True, **LOADER_KWARGS)\n",
        "\n",
        "val_set = datasets.CIFAR10(root='./data', train=True, download=True, transform=test_transform)\n",
        "val_set = torch.utils.data.dataset.Subset(val_set, range(TRAIN_COUNT,TRAIN_COUNT+VAL_COUNT))\n",
        "val_loader = torch.utils.data.DataLoader(val_set, batch_size=BATCH_SIZE, shuffle=False, **LOADER_KWARGS)\n",
        "\n",
        "test_set = datasets.CIFAR10(root='./data', train=False, download=True, transform=test_transform)\n",
        "test_loader = torch.utils.data.DataLoader(test_set, batch_size=BATCH_SIZE, shuffle=False, **LOADER_KWARGS)"
      ]
    },
    {
      "cell_type": "code",
      "execution_count": 39,
      "metadata": {
        "id": "4e0AmvYmcAPc"
      },
      "outputs": [],
      "source": [
        "def test(epoch=None, is_validation=False):\n",
        "    cifar_model.eval()\n",
        "    loader = val_loader if is_validation else test_loader\n",
        "    test_loss = 0\n",
        "    test_correct = 0\n",
        "    with torch.no_grad():\n",
        "        for batch_idx, (inputs, targets) in enumerate(loader):\n",
        "            inputs, targets = inputs.to(DEVICE), targets.to(DEVICE)\n",
        "            outputs = cifar_model(inputs)\n",
        "            test_loss += F.cross_entropy(outputs, targets, size_average=False).item()\n",
        "            test_correct += outputs.max(1)[1].eq(targets).sum().item()\n",
        "    if is_validation:\n",
        "        writer.add_scalar('logs/val_loss', test_loss/len(loader.dataset), epoch)\n",
        "        writer.add_scalar('logs/val_acc', test_correct/len(loader.dataset), epoch)\n",
        "    else:\n",
        "        print(\"Test Accuracy: {}/{}\".format(test_correct, len(loader.dataset)))"
      ]
    },
    {
      "cell_type": "code",
      "execution_count": 40,
      "metadata": {
        "id": "UYsgSVhnddja"
      },
      "outputs": [],
      "source": [
        "optimizer = optim.Adam(cifar_model.parameters())\n",
        "\n",
        "# Training\n",
        "def train(epoch):\n",
        "    cifar_model.train()\n",
        "    epoch_loss = 0\n",
        "    epoch_correct = 0\n",
        "    for batch_idx, (inputs, targets) in enumerate(tqdm(train_loader)):\n",
        "        inputs, targets = inputs.to(DEVICE), targets.to(DEVICE)\n",
        "        optimizer.zero_grad()\n",
        "        outputs = cifar_model(inputs)\n",
        "        loss = F.cross_entropy(outputs, targets)\n",
        "        loss.backward()\n",
        "        optimizer.step()\n",
        "        batch_correct = outputs.max(1)[1].eq(targets).sum().item()\n",
        "        epoch_loss += loss.item()\n",
        "        epoch_correct += batch_correct\n",
        "        writer.add_scalar('logs/train_loss', loss.item(), epoch*len(train_loader) + batch_idx)\n",
        "        writer.add_scalar('logs/train_acc', batch_correct / targets.size(0), epoch*len(train_loader) + batch_idx)\n",
        "    test(epoch, is_validation=True)"
      ]
    },
    {
      "cell_type": "code",
      "execution_count": 41,
      "metadata": {
        "colab": {
          "base_uri": "https://localhost:8080/"
        },
        "id": "M_uKzJVsdlCK",
        "outputId": "282a511d-41db-4815-c653-2e3b23682a9e"
      },
      "outputs": [
        {
          "output_type": "stream",
          "name": "stderr",
          "text": [
            "100%|██████████| 313/313 [00:26<00:00, 11.66it/s]\n",
            "/usr/local/lib/python3.7/dist-packages/torch/nn/_reduction.py:42: UserWarning: size_average and reduce args will be deprecated, please use reduction='sum' instead.\n",
            "  warnings.warn(warning.format(ret))\n",
            "100%|██████████| 313/313 [00:26<00:00, 11.93it/s]\n",
            "100%|██████████| 313/313 [00:26<00:00, 11.75it/s]\n",
            "100%|██████████| 313/313 [00:26<00:00, 11.93it/s]\n",
            "100%|██████████| 313/313 [00:26<00:00, 11.91it/s]\n",
            "100%|██████████| 313/313 [00:26<00:00, 11.93it/s]\n",
            "100%|██████████| 313/313 [00:26<00:00, 11.94it/s]\n",
            "100%|██████████| 313/313 [00:26<00:00, 11.95it/s]\n",
            "100%|██████████| 313/313 [00:26<00:00, 11.91it/s]\n",
            "100%|██████████| 313/313 [00:26<00:00, 11.95it/s]\n",
            "100%|██████████| 313/313 [00:26<00:00, 11.93it/s]\n",
            "100%|██████████| 313/313 [00:26<00:00, 11.90it/s]\n",
            "100%|██████████| 313/313 [00:26<00:00, 11.89it/s]\n",
            "100%|██████████| 313/313 [00:26<00:00, 11.90it/s]\n",
            "100%|██████████| 313/313 [00:26<00:00, 11.89it/s]\n",
            "100%|██████████| 313/313 [00:26<00:00, 11.82it/s]\n",
            "100%|██████████| 313/313 [00:26<00:00, 11.93it/s]\n",
            "100%|██████████| 313/313 [00:26<00:00, 11.93it/s]\n",
            "100%|██████████| 313/313 [00:26<00:00, 11.94it/s]\n",
            "100%|██████████| 313/313 [00:26<00:00, 11.93it/s]\n"
          ]
        }
      ],
      "source": [
        "TRAIN_EPOCHS = 20\n",
        "WEIGHTS_PATH = Path(\"./vgg_cifar_weights.pt\")\n",
        "\n",
        "if WEIGHTS_PATH.is_file():\n",
        "    cifar_model.load_state_dict(torch.load(WEIGHTS_PATH))\n",
        "    print(\"Loaded weights from file:\", WEIGHTS_PATH)\n",
        "else:\n",
        "    for epoch in range(TRAIN_EPOCHS):\n",
        "        train(epoch)\n",
        "    torch.save(cifar_model.state_dict(), WEIGHTS_PATH)"
      ]
    },
    {
      "cell_type": "code",
      "execution_count": 42,
      "metadata": {
        "colab": {
          "base_uri": "https://localhost:8080/"
        },
        "id": "BTmDMwOcgviK",
        "outputId": "90a5f1a2-14ca-400c-c272-bf7da57d06ae"
      },
      "outputs": [
        {
          "output_type": "stream",
          "name": "stderr",
          "text": [
            "/usr/local/lib/python3.7/dist-packages/torch/nn/_reduction.py:42: UserWarning: size_average and reduce args will be deprecated, please use reduction='sum' instead.\n",
            "  warnings.warn(warning.format(ret))\n"
          ]
        },
        {
          "output_type": "stream",
          "name": "stdout",
          "text": [
            "Test Accuracy: 1000/10000\n"
          ]
        }
      ],
      "source": [
        "test()"
      ]
    },
    {
      "cell_type": "code",
      "execution_count": 43,
      "metadata": {
        "id": "tF3WLBHHgzkP"
      },
      "outputs": [],
      "source": [
        "CIFAR_LABELS = ('airplane', 'automobile', 'bird', 'cat', 'deer', 'dog', 'frog', 'horse', 'ship', 'truck')\n",
        "\n",
        "def show(img):\n",
        "    npimg = img.cpu().numpy()\n",
        "    plt.imshow(np.transpose(npimg, (1,2,0)), interpolation='nearest')\n",
        "\n",
        "def tell(img, label, model, target_label=None):\n",
        "    print(\"True Label:\", CIFAR_LABELS[label], label)\n",
        "    print(\"Prediction:\", CIFAR_LABELS[model(img.unsqueeze(0)).max(-1)[1]], model(img.unsqueeze(0)).max(-1)[1][0].item())\n",
        "    print(\"Label Probabilities:\", F.softmax(model(img.unsqueeze(0)).squeeze(), dim=0))\n",
        "    print(\"True Label Probability:\", F.softmax(model(img.unsqueeze(0)).squeeze(), dim=0)[label].item())\n",
        "    if target_label is not None:\n",
        "        print(\"Target Label Probability:\", F.softmax(model(img.unsqueeze(0)).squeeze(), dim=0)[target_label].item())"
      ]
    },
    {
      "cell_type": "code",
      "execution_count": 44,
      "metadata": {
        "colab": {
          "base_uri": "https://localhost:8080/",
          "height": 355
        },
        "id": "yCAk0-HahEe4",
        "outputId": "586b2133-88ab-45d0-ee7b-7c521c32af48"
      },
      "outputs": [
        {
          "output_type": "stream",
          "name": "stdout",
          "text": [
            "True Label: deer 4\n",
            "Prediction: bird 2\n",
            "Label Probabilities: tensor([0.0993, 0.0999, 0.1016, 0.0999, 0.1003, 0.0993, 0.1006, 0.1004, 0.0997,\n",
            "        0.0991], device='cuda:0', grad_fn=<SoftmaxBackward0>)\n",
            "True Label Probability: 0.10033858567476273\n"
          ]
        },
        {
          "output_type": "display_data",
          "data": {
            "text/plain": [
              "<Figure size 432x288 with 1 Axes>"
            ],
            "image/png": "[encoded data removed]"
          },
          "metadata": {}
        }
      ],
      "source": [
        "test_img, test_label = test_set[500]\n",
        "test_img = test_img.to(DEVICE)\n",
        "show(test_img)\n",
        "tell(test_img, test_label, cifar_model)"
      ]
    },
    {
      "cell_type": "code",
      "execution_count": 45,
      "metadata": {
        "colab": {
          "base_uri": "https://localhost:8080/",
          "height": 372
        },
        "id": "wLxUS77mhNZf",
        "outputId": "969c9675-d79d-4e0e-a626-50cefe88fe99"
      },
      "outputs": [
        {
          "output_type": "stream",
          "name": "stdout",
          "text": [
            "Perturbation: [0.6  0.6  0.   0.   0.75]\n",
            "True Label: deer 4\n",
            "Prediction: bird 2\n",
            "Label Probabilities: tensor([0.0993, 0.0999, 0.1016, 0.0999, 0.1003, 0.0993, 0.1006, 0.1004, 0.0997,\n",
            "        0.0991], device='cuda:0', grad_fn=<SoftmaxBackward0>)\n",
            "True Label Probability: 0.10033858567476273\n"
          ]
        },
        {
          "output_type": "display_data",
          "data": {
            "text/plain": [
              "<Figure size 432x288 with 1 Axes>"
            ],
            "image/png": "[encoded data removed]"
          },
          "metadata": {}
        }
      ],
      "source": [
        "def perturb(p, img):\n",
        "    # Elements of p(perturbation)[x,y,r,g,b] should be in range [0,1]\n",
        "    img_size = img.size(1) # C x _H_ x W, assume H == W\n",
        "    p_img = img.clone()  #image each pixcels\n",
        "    xy = (p[0:2].copy() * img_size).astype(int)\n",
        "    xy = np.clip(xy, 0, img_size-1)\n",
        "    rgb = p[2:5].copy()\n",
        "    rgb = np.clip(rgb, 0, 1)\n",
        "    p_img[:,xy[0],xy[1]] = torch.from_numpy(rgb) # Changing color of xy pixel\n",
        "    return p_img\n",
        "\n",
        "def visualize_perturbation(p, img, label, model, target_label=None):\n",
        "    p_img = perturb(p, img) #pertubeted image\n",
        "    print(\"Perturbation:\", p) #p=[x,y,r,g,b]\n",
        "    show(p_img)\n",
        "    tell(p_img, label, model, target_label)\n",
        "\n",
        "visualize_perturbation(np.array([0.6,0.6,0,0,0.75]), test_img, test_label, cifar_model)"
      ]
    },
    {
      "cell_type": "code",
      "execution_count": 46,
      "metadata": {
        "colab": {
          "base_uri": "https://localhost:8080/",
          "height": 546
        },
        "id": "Lo4tEddshi8U",
        "outputId": "ff1d78fa-3977-4e9b-f543-f3533a6757de"
      },
      "outputs": [
        {
          "output_type": "stream",
          "name": "stdout",
          "text": [
            "Target Probability [Iteration 0]: 0.10033858567476273\n",
            "Target Probability [Iteration 10]: 0.10033858567476273\n",
            "Target Probability [Iteration 20]: 0.10033858567476273\n",
            "Target Probability [Iteration 30]: 0.10033858567476273\n",
            "Target Probability [Iteration 40]: 0.10033858567476273\n",
            "Target Probability [Iteration 50]: 0.10033858567476273\n",
            "Target Probability [Iteration 60]: 0.10033858567476273\n",
            "Target Probability [Iteration 70]: 0.10033858567476273\n",
            "Target Probability [Iteration 80]: 0.10033858567476273\n",
            "Target Probability [Iteration 90]: 0.10033858567476273\n",
            "Perturbation: [0.44901214 0.61727613 0.89595997 0.4109666  0.13958137]\n",
            "True Label: deer 4\n",
            "Prediction: bird 2\n",
            "Label Probabilities: tensor([0.0993, 0.0999, 0.1016, 0.0999, 0.1003, 0.0993, 0.1006, 0.1004, 0.0997,\n",
            "        0.0991], device='cuda:0', grad_fn=<SoftmaxBackward0>)\n",
            "True Label Probability: 0.10033858567476273\n"
          ]
        },
        {
          "output_type": "display_data",
          "data": {
            "text/plain": [
              "<Figure size 432x288 with 1 Axes>"
            ],
            "image/png": "[encoded data removed]"
          },
          "metadata": {}
        }
      ],
      "source": [
        "# Pertube and tells the probability\n",
        "def evaluate(candidates, img, label, model):\n",
        "    preds = []\n",
        "    model.eval()\n",
        "    with torch.no_grad():\n",
        "        for i, xs in enumerate(candidates):\n",
        "            p_img = perturb(xs, img) #perturbated image by xs=[x,y,r,g,b]\n",
        "            preds.append(F.softmax(model(p_img.unsqueeze(0)).squeeze(), dim=0)[label].item())\n",
        "    return np.array(preds)\n",
        "\n",
        "# Generates Child and Return(Mutate)\n",
        "def evolve(candidates, F=0.5, strategy=\"clip\"):\n",
        "    gen2 = candidates.copy()\n",
        "    num_candidates = len(candidates)\n",
        "    for i in range(num_candidates):\n",
        "        x1, x2, x3 = candidates[np.random.choice(num_candidates, 3, replace=False)]\n",
        "        x_next = (x1 + F*(x2 - x3))\n",
        "        if strategy == \"clip\":\n",
        "            gen2[i] = np.clip(x_next, 0, 1)\n",
        "        elif strategy == \"resample\":\n",
        "            x_oob = np.logical_or((x_next < 0), (1 < x_next))\n",
        "            x_next[x_oob] = np.random.random(5)[x_oob]\n",
        "            gen2[i] = x_next\n",
        "    return gen2\n",
        "\n",
        "def attack(model, img, true_label, target_label=None, iters=100, pop_size=400, verbose=True):\n",
        "    # Targeted: maximize target_label if given (early stop > 50%)\n",
        "    # Untargeted: minimize true_label otherwise (early stop < 5%)\n",
        "    candidates = np.random.random((pop_size,5)) # take array of 400(pixel),5(xyrgb) and fill with [0,1)\n",
        "    # means 400 diff perturbated images are found in each iteration(Generation)\n",
        "    candidates[:,2:5] = np.clip(np.random.normal(0.5, 0.5, (pop_size, 3)), 0, 1)\n",
        "    is_targeted = target_label is not None\n",
        "    label = target_label if is_targeted else true_label\n",
        "    fitness = evaluate(candidates, img, label, model)\n",
        "    \n",
        "    def is_success():\n",
        "        return (is_targeted and fitness.max() > 0.5) or ((not is_targeted) and fitness.min() < 0.05)\n",
        "    \n",
        "    for iteration in range(iters):\n",
        "        # Early Stopping\n",
        "        if is_success():\n",
        "            break\n",
        "        if verbose and iteration%10 == 0: # Print progress\n",
        "            print(\"Target Probability [Iteration {}]:\".format(iteration), fitness.max() if is_targeted else fitness.min())\n",
        "        # Generate new candidate solutions\n",
        "        new_gen_candidates = evolve(candidates, strategy=\"resample\")\n",
        "        # Evaluate new solutions\n",
        "        new_gen_fitness = evaluate(new_gen_candidates, img, label, model)\n",
        "        # Replace old solutions with new ones where they are better\n",
        "        successors = new_gen_fitness > fitness if is_targeted else new_gen_fitness < fitness\n",
        "        candidates[successors] = new_gen_candidates[successors] # Updte candidatea\n",
        "        fitness[successors] = new_gen_fitness[successors]\n",
        "    best_idx = fitness.argmax() if is_targeted else fitness.argmin()\n",
        "    best_solution = candidates[best_idx]\n",
        "    best_score = fitness[best_idx]\n",
        "    if verbose:\n",
        "        visualize_perturbation(best_solution, img, true_label, model, target_label)\n",
        "    return is_success(), best_solution, best_score\n",
        "\n",
        "# Untargeted attack\n",
        "_ = attack(cifar_model, test_img, test_label)"
      ]
    },
    {
      "cell_type": "code",
      "execution_count": 47,
      "metadata": {
        "id": "cwBNT8Bfi5TX",
        "colab": {
          "base_uri": "https://localhost:8080/"
        },
        "outputId": "0887e205-6c85-471c-b0b6-ff6382b553d6"
      },
      "outputs": [
        {
          "output_type": "stream",
          "name": "stdout",
          "text": [
            "airplane 0 False 0.09933697432279587\n",
            "automobile 1 False 0.09987429529428482\n",
            "bird 2 False 0.10155139863491058\n",
            "cat 3 False 0.09985096752643585\n",
            "deer 4 True Label\n",
            "dog 5 False 0.09926701337099075\n",
            "frog 6 False 0.10055457055568695\n",
            "horse 7 False 0.10042329877614975\n",
            "ship 8 False 0.09966976940631866\n",
            "truck 9 False 0.09913308918476105\n"
          ]
        }
      ],
      "source": [
        "# Targeted attack\n",
        "# This is much harder/costlier than an untargeted attack\n",
        "# For time reasons, targeted attacks below use 20 iterations\n",
        "targeted_results = {}\n",
        "for idx in range(len(CIFAR_LABELS)):\n",
        "    if idx != test_label:\n",
        "        targeted_results[idx] = attack(cifar_model, test_img, test_label, target_label=idx, iters=20, verbose=False)\n",
        "        print(CIFAR_LABELS[idx], idx, targeted_results[idx][0], targeted_results[idx][2])\n",
        "    else:\n",
        "        print(CIFAR_LABELS[idx], idx, \"True Label\")"
      ]
    },
    {
      "cell_type": "code",
      "execution_count": null,
      "metadata": {
        "id": "1kB6iN-lkP8R"
      },
      "outputs": [],
      "source": [
        ""
      ]
    }
  ],
  "metadata": {
    "accelerator": "GPU",
    "colab": {
      "collapsed_sections": [],
      "name": "PSO OnePixelAttack.ipynb",
      "provenance": [],
      "include_colab_link": true
    },
    "gpuClass": "standard",
    "kernelspec": {
      "display_name": "Python 3",
      "name": "python3"
    },
    "language_info": {
      "name": "python"
    },
    "widgets": {
      "application/vnd.jupyter.widget-state+json": {
        "47d9e3b2b6494841a02f9248018bfc34": {
          "model_module": "@jupyter-widgets/controls",
          "model_name": "HBoxModel",
          "model_module_version": "1.5.0",
          "state": {
            "_dom_classes": [],
            "_model_module": "@jupyter-widgets/controls",
            "_model_module_version": "1.5.0",
            "_model_name": "HBoxModel",
            "_view_count": null,
            "_view_module": "@jupyter-widgets/controls",
            "_view_module_version": "1.5.0",
            "_view_name": "HBoxView",
            "box_style": "",
            "children": [
              "IPY_MODEL_29bf30c903d04206b8b796e769db4d76",
              "IPY_MODEL_51583ad1475f4151b04d7ccaa236797d",
              "IPY_MODEL_4fc1fc1ad26a49e5b0e61d019aa11246"
            ],
            "layout": "IPY_MODEL_1320e7ffae3a485196694a677f350f3b"
          }
        },
        "29bf30c903d04206b8b796e769db4d76": {
          "model_module": "@jupyter-widgets/controls",
          "model_name": "HTMLModel",
          "model_module_version": "1.5.0",
          "state": {
            "_dom_classes": [],
            "_model_module": "@jupyter-widgets/controls",
            "_model_module_version": "1.5.0",
            "_model_name": "HTMLModel",
            "_view_count": null,
            "_view_module": "@jupyter-widgets/controls",
            "_view_module_version": "1.5.0",
            "_view_name": "HTMLView",
            "description": "",
            "description_tooltip": null,
            "layout": "IPY_MODEL_061f08b1f93343148d5f8e05f5a476f2",
            "placeholder": "​",
            "style": "IPY_MODEL_07d081c6ebbd45a3904b00d8d1b7f3f5",
            "value": "100%"
          }
        },
        "51583ad1475f4151b04d7ccaa236797d": {
          "model_module": "@jupyter-widgets/controls",
          "model_name": "FloatProgressModel",
          "model_module_version": "1.5.0",
          "state": {
            "_dom_classes": [],
            "_model_module": "@jupyter-widgets/controls",
            "_model_module_version": "1.5.0",
            "_model_name": "FloatProgressModel",
            "_view_count": null,
            "_view_module": "@jupyter-widgets/controls",
            "_view_module_version": "1.5.0",
            "_view_name": "ProgressView",
            "bar_style": "success",
            "description": "",
            "description_tooltip": null,
            "layout": "IPY_MODEL_e0f0721360ff4b0bb9bb6ad961430c34",
            "max": 553433881,
            "min": 0,
            "orientation": "horizontal",
            "style": "IPY_MODEL_9f24d8176b374702b2895eed6a137847",
            "value": 553433881
          }
        },
        "4fc1fc1ad26a49e5b0e61d019aa11246": {
          "model_module": "@jupyter-widgets/controls",
          "model_name": "HTMLModel",
          "model_module_version": "1.5.0",
          "state": {
            "_dom_classes": [],
            "_model_module": "@jupyter-widgets/controls",
            "_model_module_version": "1.5.0",
            "_model_name": "HTMLModel",
            "_view_count": null,
            "_view_module": "@jupyter-widgets/controls",
            "_view_module_version": "1.5.0",
            "_view_name": "HTMLView",
            "description": "",
            "description_tooltip": null,
            "layout": "IPY_MODEL_bed6f6432e02487b9c20e72075719110",
            "placeholder": "​",
            "style": "IPY_MODEL_27f9347390324ce7930bfd745b1b38d1",
            "value": " 528M/528M [00:02&lt;00:00, 246MB/s]"
          }
        },
        "1320e7ffae3a485196694a677f350f3b": {
          "model_module": "@jupyter-widgets/base",
          "model_name": "LayoutModel",
          "model_module_version": "1.2.0",
          "state": {
            "_model_module": "@jupyter-widgets/base",
            "_model_module_version": "1.2.0",
            "_model_name": "LayoutModel",
            "_view_count": null,
            "_view_module": "@jupyter-widgets/base",
            "_view_module_version": "1.2.0",
            "_view_name": "LayoutView",
            "align_content": null,
            "align_items": null,
            "align_self": null,
            "border": null,
            "bottom": null,
            "display": null,
            "flex": null,
            "flex_flow": null,
            "grid_area": null,
            "grid_auto_columns": null,
            "grid_auto_flow": null,
            "grid_auto_rows": null,
            "grid_column": null,
            "grid_gap": null,
            "grid_row": null,
            "grid_template_areas": null,
            "grid_template_columns": null,
            "grid_template_rows": null,
            "height": null,
            "justify_content": null,
            "justify_items": null,
            "left": null,
            "margin": null,
            "max_height": null,
            "max_width": null,
            "min_height": null,
            "min_width": null,
            "object_fit": null,
            "object_position": null,
            "order": null,
            "overflow": null,
            "overflow_x": null,
            "overflow_y": null,
            "padding": null,
            "right": null,
            "top": null,
            "visibility": null,
            "width": null
          }
        },
        "061f08b1f93343148d5f8e05f5a476f2": {
          "model_module": "@jupyter-widgets/base",
          "model_name": "LayoutModel",
          "model_module_version": "1.2.0",
          "state": {
            "_model_module": "@jupyter-widgets/base",
            "_model_module_version": "1.2.0",
            "_model_name": "LayoutModel",
            "_view_count": null,
            "_view_module": "@jupyter-widgets/base",
            "_view_module_version": "1.2.0",
            "_view_name": "LayoutView",
            "align_content": null,
            "align_items": null,
            "align_self": null,
            "border": null,
            "bottom": null,
            "display": null,
            "flex": null,
            "flex_flow": null,
            "grid_area": null,
            "grid_auto_columns": null,
            "grid_auto_flow": null,
            "grid_auto_rows": null,
            "grid_column": null,
            "grid_gap": null,
            "grid_row": null,
            "grid_template_areas": null,
            "grid_template_columns": null,
            "grid_template_rows": null,
            "height": null,
            "justify_content": null,
            "justify_items": null,
            "left": null,
            "margin": null,
            "max_height": null,
            "max_width": null,
            "min_height": null,
            "min_width": null,
            "object_fit": null,
            "object_position": null,
            "order": null,
            "overflow": null,
            "overflow_x": null,
            "overflow_y": null,
            "padding": null,
            "right": null,
            "top": null,
            "visibility": null,
            "width": null
          }
        },
        "07d081c6ebbd45a3904b00d8d1b7f3f5": {
          "model_module": "@jupyter-widgets/controls",
          "model_name": "DescriptionStyleModel",
          "model_module_version": "1.5.0",
          "state": {
            "_model_module": "@jupyter-widgets/controls",
            "_model_module_version": "1.5.0",
            "_model_name": "DescriptionStyleModel",
            "_view_count": null,
            "_view_module": "@jupyter-widgets/base",
            "_view_module_version": "1.2.0",
            "_view_name": "StyleView",
            "description_width": ""
          }
        },
        "e0f0721360ff4b0bb9bb6ad961430c34": {
          "model_module": "@jupyter-widgets/base",
          "model_name": "LayoutModel",
          "model_module_version": "1.2.0",
          "state": {
            "_model_module": "@jupyter-widgets/base",
            "_model_module_version": "1.2.0",
            "_model_name": "LayoutModel",
            "_view_count": null,
            "_view_module": "@jupyter-widgets/base",
            "_view_module_version": "1.2.0",
            "_view_name": "LayoutView",
            "align_content": null,
            "align_items": null,
            "align_self": null,
            "border": null,
            "bottom": null,
            "display": null,
            "flex": null,
            "flex_flow": null,
            "grid_area": null,
            "grid_auto_columns": null,
            "grid_auto_flow": null,
            "grid_auto_rows": null,
            "grid_column": null,
            "grid_gap": null,
            "grid_row": null,
            "grid_template_areas": null,
            "grid_template_columns": null,
            "grid_template_rows": null,
            "height": null,
            "justify_content": null,
            "justify_items": null,
            "left": null,
            "margin": null,
            "max_height": null,
            "max_width": null,
            "min_height": null,
            "min_width": null,
            "object_fit": null,
            "object_position": null,
            "order": null,
            "overflow": null,
            "overflow_x": null,
            "overflow_y": null,
            "padding": null,
            "right": null,
            "top": null,
            "visibility": null,
            "width": null
          }
        },
        "9f24d8176b374702b2895eed6a137847": {
          "model_module": "@jupyter-widgets/controls",
          "model_name": "ProgressStyleModel",
          "model_module_version": "1.5.0",
          "state": {
            "_model_module": "@jupyter-widgets/controls",
            "_model_module_version": "1.5.0",
            "_model_name": "ProgressStyleModel",
            "_view_count": null,
            "_view_module": "@jupyter-widgets/base",
            "_view_module_version": "1.2.0",
            "_view_name": "StyleView",
            "bar_color": null,
            "description_width": ""
          }
        },
        "bed6f6432e02487b9c20e72075719110": {
          "model_module": "@jupyter-widgets/base",
          "model_name": "LayoutModel",
          "model_module_version": "1.2.0",
          "state": {
            "_model_module": "@jupyter-widgets/base",
            "_model_module_version": "1.2.0",
            "_model_name": "LayoutModel",
            "_view_count": null,
            "_view_module": "@jupyter-widgets/base",
            "_view_module_version": "1.2.0",
            "_view_name": "LayoutView",
            "align_content": null,
            "align_items": null,
            "align_self": null,
            "border": null,
            "bottom": null,
            "display": null,
            "flex": null,
            "flex_flow": null,
            "grid_area": null,
            "grid_auto_columns": null,
            "grid_auto_flow": null,
            "grid_auto_rows": null,
            "grid_column": null,
            "grid_gap": null,
            "grid_row": null,
            "grid_template_areas": null,
            "grid_template_columns": null,
            "grid_template_rows": null,
            "height": null,
            "justify_content": null,
            "justify_items": null,
            "left": null,
            "margin": null,
            "max_height": null,
            "max_width": null,
            "min_height": null,
            "min_width": null,
            "object_fit": null,
            "object_position": null,
            "order": null,
            "overflow": null,
            "overflow_x": null,
            "overflow_y": null,
            "padding": null,
            "right": null,
            "top": null,
            "visibility": null,
            "width": null
          }
        },
        "27f9347390324ce7930bfd745b1b38d1": {
          "model_module": "@jupyter-widgets/controls",
          "model_name": "DescriptionStyleModel",
          "model_module_version": "1.5.0",
          "state": {
            "_model_module": "@jupyter-widgets/controls",
            "_model_module_version": "1.5.0",
            "_model_name": "DescriptionStyleModel",
            "_view_count": null,
            "_view_module": "@jupyter-widgets/base",
            "_view_module_version": "1.2.0",
            "_view_name": "StyleView",
            "description_width": ""
          }
        },
        "2f51a45af6ac4a57a9b9db47927220c5": {
          "model_module": "@jupyter-widgets/controls",
          "model_name": "HBoxModel",
          "model_module_version": "1.5.0",
          "state": {
            "_dom_classes": [],
            "_model_module": "@jupyter-widgets/controls",
            "_model_module_version": "1.5.0",
            "_model_name": "HBoxModel",
            "_view_count": null,
            "_view_module": "@jupyter-widgets/controls",
            "_view_module_version": "1.5.0",
            "_view_name": "HBoxView",
            "box_style": "",
            "children": [
              "IPY_MODEL_891b9b5524f9498a9900868724a44c26",
              "IPY_MODEL_591b7fe9193b4f9da870099d3302f5d7",
              "IPY_MODEL_9ff6ee052ef94916b067ab37c017ddd6"
            ],
            "layout": "IPY_MODEL_2e3f53a1bf754c6f90cdac86bb95fa73"
          }
        },
        "891b9b5524f9498a9900868724a44c26": {
          "model_module": "@jupyter-widgets/controls",
          "model_name": "HTMLModel",
          "model_module_version": "1.5.0",
          "state": {
            "_dom_classes": [],
            "_model_module": "@jupyter-widgets/controls",
            "_model_module_version": "1.5.0",
            "_model_name": "HTMLModel",
            "_view_count": null,
            "_view_module": "@jupyter-widgets/controls",
            "_view_module_version": "1.5.0",
            "_view_name": "HTMLView",
            "description": "",
            "description_tooltip": null,
            "layout": "IPY_MODEL_c6ff5e9525b043d8ba477adb0c874a93",
            "placeholder": "​",
            "style": "IPY_MODEL_06ea3358766249aa8c29ee3fdecb1777",
            "value": ""
          }
        },
        "591b7fe9193b4f9da870099d3302f5d7": {
          "model_module": "@jupyter-widgets/controls",
          "model_name": "FloatProgressModel",
          "model_module_version": "1.5.0",
          "state": {
            "_dom_classes": [],
            "_model_module": "@jupyter-widgets/controls",
            "_model_module_version": "1.5.0",
            "_model_name": "FloatProgressModel",
            "_view_count": null,
            "_view_module": "@jupyter-widgets/controls",
            "_view_module_version": "1.5.0",
            "_view_name": "ProgressView",
            "bar_style": "success",
            "description": "",
            "description_tooltip": null,
            "layout": "IPY_MODEL_67514053a50a447093b15077df924f71",
            "max": 170498071,
            "min": 0,
            "orientation": "horizontal",
            "style": "IPY_MODEL_07ded886d71249ea844f038e21ad63fb",
            "value": 170498071
          }
        },
        "9ff6ee052ef94916b067ab37c017ddd6": {
          "model_module": "@jupyter-widgets/controls",
          "model_name": "HTMLModel",
          "model_module_version": "1.5.0",
          "state": {
            "_dom_classes": [],
            "_model_module": "@jupyter-widgets/controls",
            "_model_module_version": "1.5.0",
            "_model_name": "HTMLModel",
            "_view_count": null,
            "_view_module": "@jupyter-widgets/controls",
            "_view_module_version": "1.5.0",
            "_view_name": "HTMLView",
            "description": "",
            "description_tooltip": null,
            "layout": "IPY_MODEL_1a15d8f1b3b14ad3bedf34a8062a3f49",
            "placeholder": "​",
            "style": "IPY_MODEL_806375cbbe764c33a356cefafb5d7d8d",
            "value": " 170499072/? [00:13&lt;00:00, 13882326.72it/s]"
          }
        },
        "2e3f53a1bf754c6f90cdac86bb95fa73": {
          "model_module": "@jupyter-widgets/base",
          "model_name": "LayoutModel",
          "model_module_version": "1.2.0",
          "state": {
            "_model_module": "@jupyter-widgets/base",
            "_model_module_version": "1.2.0",
            "_model_name": "LayoutModel",
            "_view_count": null,
            "_view_module": "@jupyter-widgets/base",
            "_view_module_version": "1.2.0",
            "_view_name": "LayoutView",
            "align_content": null,
            "align_items": null,
            "align_self": null,
            "border": null,
            "bottom": null,
            "display": null,
            "flex": null,
            "flex_flow": null,
            "grid_area": null,
            "grid_auto_columns": null,
            "grid_auto_flow": null,
            "grid_auto_rows": null,
            "grid_column": null,
            "grid_gap": null,
            "grid_row": null,
            "grid_template_areas": null,
            "grid_template_columns": null,
            "grid_template_rows": null,
            "height": null,
            "justify_content": null,
            "justify_items": null,
            "left": null,
            "margin": null,
            "max_height": null,
            "max_width": null,
            "min_height": null,
            "min_width": null,
            "object_fit": null,
            "object_position": null,
            "order": null,
            "overflow": null,
            "overflow_x": null,
            "overflow_y": null,
            "padding": null,
            "right": null,
            "top": null,
            "visibility": null,
            "width": null
          }
        },
        "c6ff5e9525b043d8ba477adb0c874a93": {
          "model_module": "@jupyter-widgets/base",
          "model_name": "LayoutModel",
          "model_module_version": "1.2.0",
          "state": {
            "_model_module": "@jupyter-widgets/base",
            "_model_module_version": "1.2.0",
            "_model_name": "LayoutModel",
            "_view_count": null,
            "_view_module": "@jupyter-widgets/base",
            "_view_module_version": "1.2.0",
            "_view_name": "LayoutView",
            "align_content": null,
            "align_items": null,
            "align_self": null,
            "border": null,
            "bottom": null,
            "display": null,
            "flex": null,
            "flex_flow": null,
            "grid_area": null,
            "grid_auto_columns": null,
            "grid_auto_flow": null,
            "grid_auto_rows": null,
            "grid_column": null,
            "grid_gap": null,
            "grid_row": null,
            "grid_template_areas": null,
            "grid_template_columns": null,
            "grid_template_rows": null,
            "height": null,
            "justify_content": null,
            "justify_items": null,
            "left": null,
            "margin": null,
            "max_height": null,
            "max_width": null,
            "min_height": null,
            "min_width": null,
            "object_fit": null,
            "object_position": null,
            "order": null,
            "overflow": null,
            "overflow_x": null,
            "overflow_y": null,
            "padding": null,
            "right": null,
            "top": null,
            "visibility": null,
            "width": null
          }
        },
        "06ea3358766249aa8c29ee3fdecb1777": {
          "model_module": "@jupyter-widgets/controls",
          "model_name": "DescriptionStyleModel",
          "model_module_version": "1.5.0",
          "state": {
            "_model_module": "@jupyter-widgets/controls",
            "_model_module_version": "1.5.0",
            "_model_name": "DescriptionStyleModel",
            "_view_count": null,
            "_view_module": "@jupyter-widgets/base",
            "_view_module_version": "1.2.0",
            "_view_name": "StyleView",
            "description_width": ""
          }
        },
        "67514053a50a447093b15077df924f71": {
          "model_module": "@jupyter-widgets/base",
          "model_name": "LayoutModel",
          "model_module_version": "1.2.0",
          "state": {
            "_model_module": "@jupyter-widgets/base",
            "_model_module_version": "1.2.0",
            "_model_name": "LayoutModel",
            "_view_count": null,
            "_view_module": "@jupyter-widgets/base",
            "_view_module_version": "1.2.0",
            "_view_name": "LayoutView",
            "align_content": null,
            "align_items": null,
            "align_self": null,
            "border": null,
            "bottom": null,
            "display": null,
            "flex": null,
            "flex_flow": null,
            "grid_area": null,
            "grid_auto_columns": null,
            "grid_auto_flow": null,
            "grid_auto_rows": null,
            "grid_column": null,
            "grid_gap": null,
            "grid_row": null,
            "grid_template_areas": null,
            "grid_template_columns": null,
            "grid_template_rows": null,
            "height": null,
            "justify_content": null,
            "justify_items": null,
            "left": null,
            "margin": null,
            "max_height": null,
            "max_width": null,
            "min_height": null,
            "min_width": null,
            "object_fit": null,
            "object_position": null,
            "order": null,
            "overflow": null,
            "overflow_x": null,
            "overflow_y": null,
            "padding": null,
            "right": null,
            "top": null,
            "visibility": null,
            "width": null
          }
        },
        "07ded886d71249ea844f038e21ad63fb": {
          "model_module": "@jupyter-widgets/controls",
          "model_name": "ProgressStyleModel",
          "model_module_version": "1.5.0",
          "state": {
            "_model_module": "@jupyter-widgets/controls",
            "_model_module_version": "1.5.0",
            "_model_name": "ProgressStyleModel",
            "_view_count": null,
            "_view_module": "@jupyter-widgets/base",
            "_view_module_version": "1.2.0",
            "_view_name": "StyleView",
            "bar_color": null,
            "description_width": ""
          }
        },
        "1a15d8f1b3b14ad3bedf34a8062a3f49": {
          "model_module": "@jupyter-widgets/base",
          "model_name": "LayoutModel",
          "model_module_version": "1.2.0",
          "state": {
            "_model_module": "@jupyter-widgets/base",
            "_model_module_version": "1.2.0",
            "_model_name": "LayoutModel",
            "_view_count": null,
            "_view_module": "@jupyter-widgets/base",
            "_view_module_version": "1.2.0",
            "_view_name": "LayoutView",
            "align_content": null,
            "align_items": null,
            "align_self": null,
            "border": null,
            "bottom": null,
            "display": null,
            "flex": null,
            "flex_flow": null,
            "grid_area": null,
            "grid_auto_columns": null,
            "grid_auto_flow": null,
            "grid_auto_rows": null,
            "grid_column": null,
            "grid_gap": null,
            "grid_row": null,
            "grid_template_areas": null,
            "grid_template_columns": null,
            "grid_template_rows": null,
            "height": null,
            "justify_content": null,
            "justify_items": null,
            "left": null,
            "margin": null,
            "max_height": null,
            "max_width": null,
            "min_height": null,
            "min_width": null,
            "object_fit": null,
            "object_position": null,
            "order": null,
            "overflow": null,
            "overflow_x": null,
            "overflow_y": null,
            "padding": null,
            "right": null,
            "top": null,
            "visibility": null,
            "width": null
          }
        },
        "806375cbbe764c33a356cefafb5d7d8d": {
          "model_module": "@jupyter-widgets/controls",
          "model_name": "DescriptionStyleModel",
          "model_module_version": "1.5.0",
          "state": {
            "_model_module": "@jupyter-widgets/controls",
            "_model_module_version": "1.5.0",
            "_model_name": "DescriptionStyleModel",
            "_view_count": null,
            "_view_module": "@jupyter-widgets/base",
            "_view_module_version": "1.2.0",
            "_view_name": "StyleView",
            "description_width": ""
          }
        }
      }
    }
  },
  "nbformat": 4,
  "nbformat_minor": 0
}